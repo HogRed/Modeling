{
  "nbformat": 4,
  "nbformat_minor": 0,
  "metadata": {
    "colab": {
      "provenance": []
    },
    "kernelspec": {
      "name": "python3",
      "display_name": "Python 3"
    },
    "language_info": {
      "name": "python"
    }
  },
  "cells": [
    {
      "cell_type": "markdown",
      "source": [
        "## Finding good outcomes with oracles"
      ],
      "metadata": {
        "id": "D7NiO0nWXCES"
      }
    },
    {
      "cell_type": "code",
      "execution_count": 1,
      "metadata": {
        "id": "1TSrs6ESW-VX"
      },
      "outputs": [],
      "source": [
        "from math import sqrt\n",
        "n = 3\n",
        "# equally probable outcomes\n",
        "state = [1/sqrt(2**n) for _ in range(2**n)]"
      ]
    },
    {
      "cell_type": "code",
      "source": [
        "# classical implementation of a phase oracle\n",
        "# outcome 3 is the only good outcome\n",
        "predicate = lambda k: True if k == 3 else False"
      ],
      "metadata": {
        "id": "ML_MNis2XVjw"
      },
      "execution_count": 2,
      "outputs": []
    },
    {
      "cell_type": "code",
      "source": [
        "# apply phase oracle to state\n",
        "def oracle(state, predicate):\n",
        "  for item in range(len(state)):\n",
        "    if predicate(item):\n",
        "      state[item] *= -1\n",
        "\n",
        "oracle(state, predicate)"
      ],
      "metadata": {
        "id": "RUXSLeEWXgzd"
      },
      "execution_count": 3,
      "outputs": []
    },
    {
      "cell_type": "code",
      "source": [
        "# resulting states\n",
        "state"
      ],
      "metadata": {
        "colab": {
          "base_uri": "https://localhost:8080/"
        },
        "id": "v1xoCIGfXqol",
        "outputId": "f235c726-c157-4aca-c85e-6800dec5638c"
      },
      "execution_count": 4,
      "outputs": [
        {
          "output_type": "execute_result",
          "data": {
            "text/plain": [
              "[0.35355339059327373,\n",
              " 0.35355339059327373,\n",
              " 0.35355339059327373,\n",
              " -0.35355339059327373,\n",
              " 0.35355339059327373,\n",
              " 0.35355339059327373,\n",
              " 0.35355339059327373,\n",
              " 0.35355339059327373]"
            ]
          },
          "metadata": {},
          "execution_count": 4
        }
      ]
    },
    {
      "cell_type": "markdown",
      "source": [
        "## Computing similarity with inner products"
      ],
      "metadata": {
        "id": "JsNzbmsVXzDH"
      }
    },
    {
      "cell_type": "code",
      "source": [
        "# simple inner / dot prod example\n",
        "quantities = [4, 2, 2, 3]\n",
        "prices = [1.2, 1.5, 2, 0.7]\n",
        "\n",
        "# total price / inner product between these two vectors\n",
        "print(sum([quantities[k] * prices[k] for k in range(len(quantities))]))"
      ],
      "metadata": {
        "colab": {
          "base_uri": "https://localhost:8080/"
        },
        "id": "Kzh3iqMuX8TW",
        "outputId": "dc3f4757-a2bf-4ada-c86f-ec0688d5e73c"
      },
      "execution_count": 5,
      "outputs": [
        {
          "output_type": "stream",
          "name": "stdout",
          "text": [
            "13.9\n"
          ]
        }
      ]
    },
    {
      "cell_type": "code",
      "source": [
        "# The inner product of two complex vectors is defined as the sum of the products of\n",
        "# each element in the first vector and the conjugate of the corresponding element in\n",
        "# the second vector.\n",
        "\n",
        "# computes inner prod of two state vectors\n",
        "def inner(v1, v2):\n",
        "  assert(len(v1) == len(v2))\n",
        "  return sum(z1*z2.conjugate() for z1, z2 in zip(v1, v2))"
      ],
      "metadata": {
        "id": "Lu4N-_2EYV9x"
      },
      "execution_count": 6,
      "outputs": []
    },
    {
      "cell_type": "code",
      "source": [
        "# What is the inner product of i, i and –i, i?\n",
        "\n",
        "# a = (i,i)\n",
        "# b = (-i, i)\n",
        "\n",
        "# conjugate of b = (i, -i)\n",
        "\n",
        "# therefore inner prod = (i)(i) + (-i)(i) = 0\n",
        "# this means the two vectors are orthogonal in the complex vector space"
      ],
      "metadata": {
        "id": "gy02DvoTY_r0"
      },
      "execution_count": 7,
      "outputs": []
    },
    {
      "cell_type": "markdown",
      "source": [
        "## The inversion operator"
      ],
      "metadata": {
        "id": "LjELU4gv8vOb"
      }
    },
    {
      "cell_type": "code",
      "source": [
        "# Classical implementation of the inversion / reflection operator\n",
        "def inversion(original, current):\n",
        "  proj = inner(original, current)\n",
        "  for k in range(len(current)):\n",
        "    current[k] = 2*proj*original[k] - current[k]"
      ],
      "metadata": {
        "id": "f_Vn2Xhp8v1f"
      },
      "execution_count": 8,
      "outputs": []
    },
    {
      "cell_type": "code",
      "source": [
        "# applying an oracle that tags the outcome 3 to a state where the amplitudes are in\n",
        "# equal superposition\n",
        "n = 3\n",
        "state = [1/sqrt(2**n) for _ in range(2**n)]\n",
        "s = state.copy()\n",
        "\n",
        "oracle(state, predicate)\n",
        "\n",
        "state"
      ],
      "metadata": {
        "colab": {
          "base_uri": "https://localhost:8080/"
        },
        "id": "sgizCq4Y9LLf",
        "outputId": "f95df391-ef71-4888-fbf5-418c48a48304"
      },
      "execution_count": 9,
      "outputs": [
        {
          "output_type": "execute_result",
          "data": {
            "text/plain": [
              "[0.35355339059327373,\n",
              " 0.35355339059327373,\n",
              " 0.35355339059327373,\n",
              " -0.35355339059327373,\n",
              " 0.35355339059327373,\n",
              " 0.35355339059327373,\n",
              " 0.35355339059327373,\n",
              " 0.35355339059327373]"
            ]
          },
          "metadata": {},
          "execution_count": 9
        }
      ]
    },
    {
      "cell_type": "code",
      "source": [
        "# apply the inversion operator that reflects the current state into the original\n",
        "# state (the state before the oracle was applied)\n",
        "inversion(s, state)\n",
        "\n",
        "state"
      ],
      "metadata": {
        "colab": {
          "base_uri": "https://localhost:8080/"
        },
        "id": "EVLE7OMa9uJ_",
        "outputId": "68ebb842-f7e8-451d-b71d-184303207aff"
      },
      "execution_count": 10,
      "outputs": [
        {
          "output_type": "execute_result",
          "data": {
            "text/plain": [
              "[0.17677669529663675,\n",
              " 0.17677669529663675,\n",
              " 0.17677669529663675,\n",
              " 0.8838834764831842,\n",
              " 0.17677669529663675,\n",
              " 0.17677669529663675,\n",
              " 0.17677669529663675,\n",
              " 0.17677669529663675]"
            ]
          },
          "metadata": {},
          "execution_count": 10
        }
      ]
    },
    {
      "cell_type": "code",
      "source": [
        "# another example, with a random n = 3 qubit state and good outcome 5\n",
        "from math import sqrt, cos, sin, pi\n",
        "\n",
        "import random\n",
        "\n",
        "\n",
        "def generate_state(n, seed=555):\n",
        "    # Choose a seed\n",
        "    random.seed(seed)\n",
        "    # Generate 4 random probabilities that add up to 1\n",
        "    probs = [random.random() for _ in range(2 ** n)]\n",
        "    total = sum(probs)\n",
        "    probs = [p / total for p in probs]\n",
        "    # Generate 4 random angles in radians\n",
        "    angles = [random.uniform(0, 2 * pi) for _ in range(2 ** n)]\n",
        "    # Build the quantum state array\n",
        "    return [sqrt(p) * (cos(a) + 1j * sin(a)) for (p, a) in zip(probs, angles)]\n",
        "\n",
        "n = 3\n",
        "state = generate_state(n)\n",
        "s = state.copy()\n",
        "predicate = lambda k: True if k == 5 else False\n",
        "oracle(state, predicate)\n",
        "\n",
        "state"
      ],
      "metadata": {
        "colab": {
          "base_uri": "https://localhost:8080/"
        },
        "id": "54Xim4mm9yCU",
        "outputId": "3a9cf6ac-4cef-4e8f-b722-b1482c536aac"
      },
      "execution_count": 11,
      "outputs": [
        {
          "output_type": "execute_result",
          "data": {
            "text/plain": [
              "[(-0.1850274003173231-0.13415359909602925j),\n",
              " (0.20703422223707688+0.025419796255241673j),\n",
              " (0.27264973801555115+0.2779868749583435j),\n",
              " (0.48666008295331065+0.10795909579034865j),\n",
              " (-0.2027996224373796+0.01768188885770351j),\n",
              " (-0.32193555635783244-0.08714885571466746j),\n",
              " (-0.1711590838553813-0.34470771234522085j),\n",
              " (0.318969284654943+0.3187672312604926j)]"
            ]
          },
          "metadata": {},
          "execution_count": 11
        }
      ]
    },
    {
      "cell_type": "code",
      "source": [
        "# perform inversion\n",
        "inversion(s, state)\n",
        "\n",
        "state"
      ],
      "metadata": {
        "colab": {
          "base_uri": "https://localhost:8080/"
        },
        "id": "p5QIU4Nl_Czs",
        "outputId": "e29ea528-023e-4965-f367-9a4f510c3e3f"
      },
      "execution_count": 12,
      "outputs": [
        {
          "output_type": "execute_result",
          "data": {
            "text/plain": [
              "[(-0.10269951368444127-0.07446199515612928j),\n",
              " (0.11491440674905093+0.014109265486591211j),\n",
              " (0.15133431833536848+0.15429669778593635j),\n",
              " (0.2701208240683233+0.05992272829032866j),\n",
              " (-0.11256399086831487+0.009814337679685148j),\n",
              " (0.8225615392091293+0.2226697097641888j),\n",
              " (-0.09500190049947127-0.19133011846038478j),\n",
              " (0.1770439965008243+0.17693184670402257j)]"
            ]
          },
          "metadata": {},
          "execution_count": 12
        }
      ]
    },
    {
      "cell_type": "markdown",
      "source": [
        "## Visualizing inversion by the mean"
      ],
      "metadata": {
        "id": "6l3cZGTj_VQr"
      }
    },
    {
      "cell_type": "code",
      "source": [
        "# create an n = 3 qubit state in equal superposition and apply an\n",
        "# oracle for good outcome 3\n",
        "n = 3\n",
        "state = [1/sqrt(2**n) for _ in range(2**n)]\n",
        "s = state.copy()\n",
        "predicate = lambda k: True if k == 3 else False\n",
        "oracle(state, predicate)\n",
        "\n",
        "state"
      ],
      "metadata": {
        "colab": {
          "base_uri": "https://localhost:8080/"
        },
        "id": "gp9vl8WF_V8p",
        "outputId": "5ae308cb-9bf1-4d32-8837-7cb9b99fd5a8"
      },
      "execution_count": 13,
      "outputs": [
        {
          "output_type": "execute_result",
          "data": {
            "text/plain": [
              "[0.35355339059327373,\n",
              " 0.35355339059327373,\n",
              " 0.35355339059327373,\n",
              " -0.35355339059327373,\n",
              " 0.35355339059327373,\n",
              " 0.35355339059327373,\n",
              " 0.35355339059327373,\n",
              " 0.35355339059327373]"
            ]
          },
          "metadata": {},
          "execution_count": 13
        }
      ]
    },
    {
      "cell_type": "code",
      "source": [
        "# check that the mean of the amplitudes is equal to the quantity defined previously\n",
        "# for bad outcomes k\n",
        "def is_close_float(a, b, rtol=1e-5, atol=1e-8):\n",
        "    return abs(a - b) < atol + rtol * abs(b)\n",
        "\n",
        "\n",
        "def is_close(a, b):\n",
        "    if isinstance(a, float):\n",
        "        a = complex(a, 0)\n",
        "\n",
        "    if isinstance(b, float):\n",
        "        b = complex(b, 0)\n",
        "\n",
        "    return is_close_float(a.real, b.real) and is_close_float(a.imag, b.imag)\n",
        "\n",
        "amplitude_mean = sum(state)/2**n\n",
        "\n",
        "proj = inner(s, state)\n",
        "\n",
        "for k in range(len(state)):\n",
        "  if k != 3:\n",
        "    assert is_close(proj*state[k], amplitude_mean)"
      ],
      "metadata": {
        "id": "Jkz_ReVw_aX0"
      },
      "execution_count": 14,
      "outputs": []
    },
    {
      "cell_type": "code",
      "source": [
        "# simulate the inversion by the mean\n",
        "for k in range(len(state)):\n",
        "  state[k] = 2*amplitude_mean-state[k]\n",
        "\n",
        "state"
      ],
      "metadata": {
        "colab": {
          "base_uri": "https://localhost:8080/"
        },
        "id": "yWm4Tqwm_1LU",
        "outputId": "a9010487-fa85-4ba0-8bb5-fbfca05108a6"
      },
      "execution_count": 15,
      "outputs": [
        {
          "output_type": "execute_result",
          "data": {
            "text/plain": [
              "[0.17677669529663687,\n",
              " 0.17677669529663687,\n",
              " 0.17677669529663687,\n",
              " 0.8838834764831843,\n",
              " 0.17677669529663687,\n",
              " 0.17677669529663687,\n",
              " 0.17677669529663687,\n",
              " 0.17677669529663687]"
            ]
          },
          "metadata": {},
          "execution_count": 15
        }
      ]
    },
    {
      "cell_type": "markdown",
      "source": [
        "## Putting it together: The Grover iterate"
      ],
      "metadata": {
        "id": "df9Z6Qx0AHjr"
      }
    },
    {
      "cell_type": "code",
      "source": [
        "# Classical implementation of the Grover iterate\n",
        "from math import cos\n",
        "\n",
        "def classical_grover(state, predicate, iterations):\n",
        "  s = state.copy()\n",
        "  items = [k for k in range(len(state)) if predicate(k)]\n",
        "  p = sum([abs(s[k])**2 for k in items]) # Uses the probability of\n",
        "                                         # measuring a good outcome\n",
        "                                         # to define an angle theta\n",
        "  theta = asin(sqrt(p))\n",
        "  assert is_close(inner(s, state), 1)\n",
        "\n",
        "  for it in range(1, iterations + 1):\n",
        "    oracle(state, predicate)\n",
        "    inversion(s, state)\n",
        "\n",
        "    assert is_close(inner(s, state), cos(2 * it * theta)) # The inner product of the state after operator\n",
        "                                                          # A is applied and the state after j applications\n",
        "                                                          # of the Grover iterate is cos(2jθ ).\n",
        "\n",
        "\n",
        "    p = sum([abs(state[k])**2 for k in items]) # New prob of measuring good outcome\n",
        "\n",
        "    assert is_close(p, sin((2 * it + 1)*theta)**2) # Check that prob of good outcome is\n",
        "                                                   # sin^2((2j+1)θ )"
      ],
      "metadata": {
        "id": "hWdX9iScAILD"
      },
      "execution_count": 16,
      "outputs": []
    },
    {
      "cell_type": "code",
      "source": [
        "# n = num qubits\n",
        "# l = num good outcomes\n",
        "# j = num iterations\n",
        "\n",
        "from math import sin, asin\n",
        "def target_amplitude_uniform(n, l, j):\n",
        "  theta = asin(sqrt(l/2**n))\n",
        "  return sin((2*j+1)*theta)/sqrt(l)"
      ],
      "metadata": {
        "id": "_q-NIqJsQ--D"
      },
      "execution_count": 17,
      "outputs": []
    },
    {
      "cell_type": "code",
      "source": [
        "# apply one iteration of the Grover operator to our example state, where n = 3 and\n",
        "# outcome 3 is the good outcome\n",
        "\n",
        "n = 3\n",
        "items = [3]\n",
        "predicate = lambda i: True if i in items else False\n",
        "\n",
        "state = [1/sqrt(2**n) for _ in range(2**n)]\n",
        "\n",
        "classical_grover(state, predicate, iterations = 1)\n",
        "\n",
        "assert is_close(state[items[0]], target_amplitude_uniform(3, 1, 1))"
      ],
      "metadata": {
        "id": "75xYDHdqRJXE"
      },
      "execution_count": 18,
      "outputs": []
    },
    {
      "cell_type": "code",
      "source": [
        "state # check state"
      ],
      "metadata": {
        "colab": {
          "base_uri": "https://localhost:8080/"
        },
        "id": "ubNLYCuERR0n",
        "outputId": "4f1ebe85-7eb8-48bd-b9f7-f8b8cb35fd66"
      },
      "execution_count": 19,
      "outputs": [
        {
          "output_type": "execute_result",
          "data": {
            "text/plain": [
              "[0.17677669529663675,\n",
              " 0.17677669529663675,\n",
              " 0.17677669529663675,\n",
              " 0.8838834764831842,\n",
              " 0.17677669529663675,\n",
              " 0.17677669529663675,\n",
              " 0.17677669529663675,\n",
              " 0.17677669529663675]"
            ]
          },
          "metadata": {},
          "execution_count": 19
        }
      ]
    },
    {
      "cell_type": "code",
      "source": [
        "# apply another iteration\n",
        "n = 3\n",
        "items = [3]\n",
        "predicate = lambda i: True if i in items else False\n",
        "state = [1/sqrt(2**n) for _ in range(2**n)]\n",
        "\n",
        "classical_grover(state, predicate, iterations = 2)\n",
        "assert is_close(state[items[0]], target_amplitude_uniform(3, 1, 2))\n",
        "\n",
        "state"
      ],
      "metadata": {
        "colab": {
          "base_uri": "https://localhost:8080/"
        },
        "id": "_DgUUm0fRVKZ",
        "outputId": "138c7c85-4912-4baf-f82a-029319692f60"
      },
      "execution_count": 20,
      "outputs": [
        {
          "output_type": "execute_result",
          "data": {
            "text/plain": [
              "[-0.08838834764831847,\n",
              " -0.08838834764831847,\n",
              " -0.08838834764831847,\n",
              " 0.9722718241315025,\n",
              " -0.08838834764831847,\n",
              " -0.08838834764831847,\n",
              " -0.08838834764831847,\n",
              " -0.08838834764831847]"
            ]
          },
          "metadata": {},
          "execution_count": 20
        }
      ]
    },
    {
      "cell_type": "code",
      "source": [
        "# three iterations\n",
        "n = 3\n",
        "items = [3]\n",
        "predicate = lambda i: True if i in items else False\n",
        "state = [1/sqrt(2**n) for _ in range(2**n)]\n",
        "\n",
        "classical_grover(state, predicate, iterations = 3)\n",
        "assert is_close(state[items[0]], target_amplitude_uniform(3, 1, 3))\n",
        "\n",
        "state"
      ],
      "metadata": {
        "colab": {
          "base_uri": "https://localhost:8080/"
        },
        "id": "UPurHWQXRbhC",
        "outputId": "b0554ff0-d6f0-455d-b786-595a44fb8541"
      },
      "execution_count": 21,
      "outputs": [
        {
          "output_type": "execute_result",
          "data": {
            "text/plain": [
              "[-0.3093592167691144,\n",
              " -0.3093592167691144,\n",
              " -0.3093592167691144,\n",
              " 0.5745242597140696,\n",
              " -0.3093592167691144,\n",
              " -0.3093592167691144,\n",
              " -0.3093592167691144,\n",
              " -0.3093592167691144]"
            ]
          },
          "metadata": {},
          "execution_count": 21
        }
      ]
    },
    {
      "cell_type": "code",
      "source": [
        "# find optimal number of iterations\n",
        "from math import floor, pi\n",
        "\n",
        "num_iterations = int(floor(pi/4*sqrt(2**n/len(items))))"
      ],
      "metadata": {
        "id": "9Q695822Rx0M"
      },
      "execution_count": 22,
      "outputs": []
    },
    {
      "cell_type": "code",
      "source": [
        "num_iterations"
      ],
      "metadata": {
        "colab": {
          "base_uri": "https://localhost:8080/"
        },
        "id": "lw0AQFh6R3-o",
        "outputId": "d5ebe19c-e989-497c-f8c2-a47383524e9c"
      },
      "execution_count": 23,
      "outputs": [
        {
          "output_type": "execute_result",
          "data": {
            "text/plain": [
              "2"
            ]
          },
          "metadata": {},
          "execution_count": 23
        }
      ]
    },
    {
      "cell_type": "code",
      "source": [
        "# another example, this time using a random two-qubit state and good outcome 1\n",
        "n = 2\n",
        "items = [1]\n",
        "predicate = lambda i: True if i in items else False\n",
        "num_iterations = 3\n",
        "\n",
        "state = generate_state(n)\n",
        "\n",
        "for it in range(1, num_iterations + 1):\n",
        "  s = state.copy()\n",
        "  classical_grover(s, predicate, iterations = it)\n",
        "\n",
        "s"
      ],
      "metadata": {
        "colab": {
          "base_uri": "https://localhost:8080/"
        },
        "id": "gHee1DxVR47z",
        "outputId": "da35bc21-4284-4bfe-f30d-76b270d82bb9"
      },
      "execution_count": 24,
      "outputs": [
        {
          "output_type": "execute_result",
          "data": {
            "text/plain": [
              "[(-0.09870891446551384-0.1421451767685894j),\n",
              " (-0.7316894823662417+0.45306740264753737j),\n",
              " (0.28137852886624753+0.08808011829251601j),\n",
              " (-0.0065053082794929475+0.37740883163769834j)]"
            ]
          },
          "metadata": {},
          "execution_count": 24
        }
      ]
    },
    {
      "cell_type": "code",
      "source": [
        "# create a random state with n = 4 qubits, and apply the classical magnitude\n",
        "# amplification procedure for good outcomes 3 and 10.\n",
        "n = 4\n",
        "items = [3, 10]\n",
        "predicate = lambda i: True if i in items else False\n",
        "num_iterations = int(floor(pi/4*sqrt(2**n/len(items))))\n",
        "\n",
        "state = generate_state(n)\n",
        "\n",
        "for it in range(1, num_iterations + 1):\n",
        "  s = state.copy()\n",
        "  classical_grover(s, predicate, iterations = it)\n",
        "\n",
        "s"
      ],
      "metadata": {
        "colab": {
          "base_uri": "https://localhost:8080/"
        },
        "id": "znLArnTFSK1r",
        "outputId": "05e42aad-fc6b-4f90-9586-bc7564bc2af6"
      },
      "execution_count": 26,
      "outputs": [
        {
          "output_type": "execute_result",
          "data": {
            "text/plain": [
              "[(0.05387900751556492-0.10392592124190086j),\n",
              " (0.08808771967712664+0.060461190641004955j),\n",
              " (-0.13055299625138053+0.15077514128217978j),\n",
              " (-0.6546112269426351+0.39195166686703486j),\n",
              " (0.004756688423812804-0.10416121315733856j),\n",
              " (0.07574160536504546-0.15312473985457967j),\n",
              " (-0.06647241569192103+0.1855842434110626j),\n",
              " (0.15346770310371383+0.1726241748101643j),\n",
              " (-0.007682739146303109+0.2060474411545934j),\n",
              " (0.0137203364905286+0.0344942604472736j),\n",
              " (0.26181603815736587+0.10741708562844107j),\n",
              " (0.028367683596480536+0.040715791589976194j),\n",
              " (-0.030458513861033043-0.18310997148204494j),\n",
              " (0.012901751171884607-0.053062921041685265j),\n",
              " (0.09178174883590404-0.19883256016621345j),\n",
              " (0.015068600060063204+0.09289169833847918j)]"
            ]
          },
          "metadata": {},
          "execution_count": 26
        }
      ]
    },
    {
      "cell_type": "code",
      "source": [
        "num_iterations"
      ],
      "metadata": {
        "colab": {
          "base_uri": "https://localhost:8080/"
        },
        "id": "zxrlKkH3Sf2b",
        "outputId": "9be5c896-3907-4355-c482-c436ea4a86dd"
      },
      "execution_count": 27,
      "outputs": [
        {
          "output_type": "execute_result",
          "data": {
            "text/plain": [
              "2"
            ]
          },
          "metadata": {},
          "execution_count": 27
        }
      ]
    },
    {
      "cell_type": "markdown",
      "source": [
        "## A classical but quantum-friendly implementation of the inversion operator"
      ],
      "metadata": {
        "id": "XwnHCrZ2TSig"
      }
    },
    {
      "cell_type": "code",
      "source": [
        "# helper functions\n",
        "import numpy as np\n",
        "\n",
        "\n",
        "def random_transformation(n):\n",
        "    import scipy.stats\n",
        "    U = scipy.stats.unitary_group.rvs(2**n)\n",
        "\n",
        "    def f_direct(state):\n",
        "        assert(len(state) == 2**n)\n",
        "        s = U @ state\n",
        "        for k in range(len(s)):\n",
        "            state[k] = s[k]\n",
        "\n",
        "    def f_inverse(state):\n",
        "        assert(len(state) == 2**n)\n",
        "        s = np.conj(U.transpose()) @ state\n",
        "        for k in range(len(s)):\n",
        "            state[k] = s[k]\n",
        "\n",
        "    return f_direct, f_inverse\n",
        "\n",
        "\n",
        "def inner(v1, v2):\n",
        "    assert(len(v1) == len(v2))\n",
        "    return sum(z1*z2.conjugate() for z1, z2 in zip(v1, v2))"
      ],
      "metadata": {
        "id": "ltSM0XQxTOjw"
      },
      "execution_count": 28,
      "outputs": []
    },
    {
      "cell_type": "code",
      "source": [
        "# create a random transformation (and its inverse) for n = 3 qubits\n",
        "n = 3\n",
        "\n",
        "f = random_transformation(n)\n",
        "\n",
        "A = f[0]\n",
        "A_inverse = f[1] # first val is random transformation, second is its inverse"
      ],
      "metadata": {
        "id": "-4KvtjtrTUHa"
      },
      "execution_count": 55,
      "outputs": []
    },
    {
      "cell_type": "code",
      "source": [
        "# look at the state prepared by this random operator. We do this by initializing a\n",
        "# state and then applying the random transformation\n",
        "def init_state(n):\n",
        "    state = [0 for _ in range(2 ** n)]\n",
        "    state[0] = 1\n",
        "    return state\n",
        "\n",
        "state = init_state(n)\n",
        "\n",
        "A(state)"
      ],
      "metadata": {
        "id": "p03_oNwcTd7X"
      },
      "execution_count": 56,
      "outputs": []
    },
    {
      "cell_type": "code",
      "source": [
        "state"
      ],
      "metadata": {
        "colab": {
          "base_uri": "https://localhost:8080/"
        },
        "id": "Eak6ZWhtTsEl",
        "outputId": "527ede75-fba5-4456-961f-402f03484a6d"
      },
      "execution_count": 57,
      "outputs": [
        {
          "output_type": "execute_result",
          "data": {
            "text/plain": [
              "[np.complex128(-0.1509189321271005+0.06463067520657557j),\n",
              " np.complex128(0.23915461200874952-0.017876117524369097j),\n",
              " np.complex128(-0.20494310876226815+0.08118761170589206j),\n",
              " np.complex128(-0.2796172578591335-0.06815105124603998j),\n",
              " np.complex128(0.09443810021640014+0.11725881067296018j),\n",
              " np.complex128(-0.2115152679502047+0.35604318121377093j),\n",
              " np.complex128(0.34350638426989133+0.5688783994862742j),\n",
              " np.complex128(-0.2300502225029217+0.30885655520845634j)]"
            ]
          },
          "metadata": {},
          "execution_count": 57
        }
      ]
    },
    {
      "cell_type": "code",
      "source": [
        "# Function to perform the inversion operation\n",
        "from math import log2\n",
        "\n",
        "def inversion_0_transformation(f, state):\n",
        "  n = int(log2(len(state)))\n",
        "\n",
        "  transform = f[0] # operation A\n",
        "  inverse_transform = f[1] # operation A^-1\n",
        "\n",
        "  inverse_transform(state) # applies inverse operation\n",
        "\n",
        "  assert is_close(state[0].imag, 0)\n",
        "\n",
        "  for k in range(1, len(state)):\n",
        "    state[k] = -state[k] # Applies Mo\n",
        "\n",
        "  transform(state) # applies A"
      ],
      "metadata": {
        "id": "KL5UuJ3tUB6z"
      },
      "execution_count": 58,
      "outputs": []
    },
    {
      "cell_type": "code",
      "source": [
        "# use the same operator A we used to create the state and apply an\n",
        "# oracle for the good outcome 3\n",
        "predicate = lambda k: True if k == 3 else False\n",
        "\n",
        "oracle(state, predicate)\n",
        "\n",
        "# apply inverse transform to state\n",
        "inversion_0_transformation(f, state)\n",
        "\n",
        "state"
      ],
      "metadata": {
        "colab": {
          "base_uri": "https://localhost:8080/"
        },
        "id": "eaSptDQKUerK",
        "outputId": "c35867eb-e897-443d-a195-a72deebf1193"
      },
      "execution_count": 59,
      "outputs": [
        {
          "output_type": "execute_result",
          "data": {
            "text/plain": [
              "[np.complex128(-0.10091624414302036+0.04321714251716362j),\n",
              " np.complex128(0.15991754562031146-0.011953375331991298j),\n",
              " np.complex128(-0.13704104917641916+0.054288409868951656j),\n",
              " np.complex128(-0.7462085624001618-0.18187324475511124j),\n",
              " np.complex128(0.06314872656145631+0.07840844484525566j),\n",
              " np.complex128(-0.1414357106798415+0.23807841795863413j),\n",
              " np.complex128(0.22969533146757326+0.3803967510312022j),\n",
              " np.complex128(-0.1538296361632694+0.20652573597816948j)]"
            ]
          },
          "metadata": {},
          "execution_count": 59
        }
      ]
    },
    {
      "cell_type": "markdown",
      "source": [
        "## Magnitude amplification: Quantum circuit implementation"
      ],
      "metadata": {
        "id": "Pd4pszjeVGGA"
      }
    },
    {
      "cell_type": "code",
      "source": [
        "## helper functions\n",
        "x = [[0, 1], [1, 0]]\n",
        "\n",
        "z = [[1, 0], [0, -1]]\n",
        "\n",
        "\n",
        "def phase(theta):\n",
        "    return [[1, 0], [0, complex(cos(theta), sin(theta))]]\n",
        "\n",
        "\n",
        "h = [[1/sqrt(2), 1/sqrt(2)], [1/sqrt(2), -1/sqrt(2)]]\n",
        "\n",
        "\n",
        "def rz(theta):\n",
        "    return [[complex(cos(theta / 2), -sin(theta / 2)), 0], [0, complex(cos(theta / 2), sin(theta / 2))]]\n",
        "\n",
        "\n",
        "y = [[0, complex(0, -1)], [complex(0, 1), 0]]\n",
        "\n",
        "\n",
        "def rx(theta):\n",
        "    return [[cos(theta/2), complex(0, -sin(theta/2))], [complex(0, -sin(theta/2)), cos(theta/2)]]\n",
        "\n",
        "\n",
        "def ry(theta):\n",
        "    return [[cos(theta/2), -sin(theta/2)], [sin(theta/2), cos(theta/2)]]\n",
        "\n",
        "def is_power_of_two(m):\n",
        "    return ceil(log2(m)) == floor(log2(m))\n",
        "\n",
        "\n",
        "def prepare_state(*a):\n",
        "    state = [a[k] for k in range(len(a))]\n",
        "    assert(is_power_of_two(len(state)))\n",
        "    assert(is_close(sum([abs(state[k])**2 for k in range(len(state))]), 1.0))\n",
        "    return state\n",
        "\n",
        "\n",
        "def init_state(n):\n",
        "    state = [0 for _ in range(2 ** n)]\n",
        "    state[0] = 1\n",
        "    return state\n",
        "\n",
        "\n",
        "def is_bit_set(m, k):\n",
        "    return m & (1 << k) != 0\n",
        "\n",
        "\n",
        "def pair_generator_check_digit(n, t):\n",
        "    distance = int(2 ** t)\n",
        "\n",
        "    for k0 in range(2 ** n):\n",
        "        if not is_bit_set(k0, t):\n",
        "            k1 = k0 + distance\n",
        "            yield k0, k1\n",
        "\n",
        "\n",
        "def pair_generator_concatenate(n, t):\n",
        "    distance = int(2 ** t)\n",
        "    suffix_count = int(2 ** t)\n",
        "    prefix_count = int(2 ** (n - t - 1))\n",
        "\n",
        "    for p in range(prefix_count):\n",
        "        for s in range(suffix_count):\n",
        "            k0 = p * suffix_count*2 + s\n",
        "            k1 = k0 + distance\n",
        "            yield k0, k1\n",
        "\n",
        "\n",
        "def pair_generator_pattern(n, t):\n",
        "    distance = int(2 ** t)\n",
        "\n",
        "    for j in range(2 ** (n-t-1)):\n",
        "        for k0 in range(2*j*distance, (2*j+1)*distance):\n",
        "            k1 = k0 + distance\n",
        "            yield k0, k1\n",
        "\n",
        "\n",
        "pair_generator = pair_generator_concatenate\n",
        "\n",
        "\n",
        "def process_pair(state, gate, k0, k1):\n",
        "    x = state[k0]\n",
        "    y = state[k1]\n",
        "    # new amplitudes\n",
        "    state[k0] = x * gate[0][0] + y * gate[0][1]\n",
        "    state[k1] = x * gate[1][0] + y * gate[1][1]\n",
        "\n",
        "\n",
        "def transform(state, t, gate):\n",
        "    n = int(log2(len(state)))\n",
        "    for (k0, k1) in pair_generator(n, t):\n",
        "        process_pair(state, gate, k0, k1)\n",
        "\n",
        "\n",
        "def c_transform(state, c, t, gate):\n",
        "    n = int(log2(len(state)))\n",
        "    for (k0, k1) in filter(lambda p: is_bit_set(p[0], c), pair_generator(n, t)):\n",
        "        process_pair(state, gate, k0, k1)\n",
        "\n",
        "\n",
        "def mc_transform(state, cs, t, gate):\n",
        "    assert t not in cs\n",
        "    n = int(log2(len(state)))\n",
        "    for (k0, k1) in filter(lambda p: all([is_bit_set(p[0], c) for c in cs]), pair_generator(n, t)):\n",
        "        process_pair(state, gate, k0, k1)\n",
        "\n",
        "\n",
        "def measure(state, shots):\n",
        "    samples = choices(range(len(state)), [abs(state[k])**2 for k in range(len(state))], k=shots)\n",
        "    counts = {}\n",
        "    for (k, v) in Counter(samples).items():\n",
        "        counts[k] = v\n",
        "    return counts\n",
        "\n",
        "class QuantumRegister:\n",
        "    def __init__(self, size, shift=0):\n",
        "        self.size = size\n",
        "        self.shift = shift\n",
        "\n",
        "    def __getitem__(self, key):\n",
        "        if isinstance(key, slice):\n",
        "            return [self[ii] for ii in range(*key.indices(len(self)))]\n",
        "        elif isinstance(key, int):\n",
        "            if key < 0:\n",
        "                key += len(self)\n",
        "            assert(0 <= key < self.size)\n",
        "            return self.shift + key\n",
        "\n",
        "    def __len__(self):\n",
        "        return self.size\n",
        "\n",
        "    def __iter__(self):\n",
        "        return list([self.shift + i for i in range(self.size)])\n",
        "\n",
        "    def __reversed__(self):\n",
        "        return list([self.shift + i for i in range(self.size)[::-1]])\n",
        "\n",
        "\n",
        "class QuantumTransformation:\n",
        "    def __init__(self, gate, target, controls=[], name=None, arg=None):\n",
        "        self.gate = gate\n",
        "        self.target = target\n",
        "        self.controls = controls\n",
        "        self.name = name\n",
        "        self.arg = arg\n",
        "\n",
        "    def __str__(self):\n",
        "        return rf'{self.name} {round(self.arg, 2) if self.arg is not None else \"\"} {self.controls} {self.target}'\n",
        "\n",
        "    def __copy__(self):\n",
        "        return QuantumTransformation(self.gate, self.target, self.controls, self.name, self.arg)\n",
        "\n",
        "\n",
        "class QuantumCircuit:\n",
        "    def __init__(self, *args):\n",
        "        bits = 0\n",
        "        regs = []\n",
        "        for register in args:\n",
        "            register.shift = bits\n",
        "            bits += register.size\n",
        "            regs.append(register.size)\n",
        "\n",
        "        self.state = init_state(bits)\n",
        "        self.transformations = []\n",
        "        self.regs = regs\n",
        "        self.reports = {}\n",
        "\n",
        "    def x(self, t):\n",
        "        self.transformations.append(QuantumTransformation(x, t, [], 'x'))\n",
        "\n",
        "    def y(self, t):\n",
        "        self.transformations.append(QuantumTransformation(y, t, [], 'y'))\n",
        "\n",
        "    def z(self, t):\n",
        "        self.transformations.append(QuantumTransformation(z, t, [], 'z'))\n",
        "\n",
        "    def h(self, t):\n",
        "        self.transformations.append(QuantumTransformation(h, t, [], 'h'))\n",
        "\n",
        "    def p(self, theta, t):\n",
        "        self.transformations.append(QuantumTransformation(phase(theta), t, [], 'p', theta))\n",
        "\n",
        "    def rx(self, theta, t):\n",
        "        self.transformations.append(QuantumTransformation(rx(theta), t, [], 'rx', theta))\n",
        "\n",
        "    def ry(self, theta, t):\n",
        "        self.transformations.append(QuantumTransformation(ry(theta), t, [], 'ry', theta))\n",
        "\n",
        "    def rz(self, theta, t):\n",
        "        self.transformations.append(QuantumTransformation(rz(theta), t, [], 'rz', theta))\n",
        "\n",
        "    def cx(self, c, t):\n",
        "        self.transformations.append(QuantumTransformation(x, t, [c], 'x'))\n",
        "\n",
        "    def cy(self, c, t):\n",
        "        self.transformations.append(QuantumTransformation(y, t, [c], 'y'))\n",
        "\n",
        "    def cz(self, c, t):\n",
        "        self.transformations.append(QuantumTransformation(z, t, [c], 'z'))\n",
        "\n",
        "    def cp(self, theta, c, t):\n",
        "        self.transformations.append(QuantumTransformation(phase(theta), t, [c], 'p', theta))\n",
        "\n",
        "    def cry(self, theta, c, t):\n",
        "        self.transformations.append(QuantumTransformation(ry(theta), t, [c], 'ry', theta))\n",
        "\n",
        "    def mcx(self, cs, t):\n",
        "        self.transformations.append(QuantumTransformation(x, t, cs, 'x'))\n",
        "\n",
        "    def mcp(self, theta, cs, t):\n",
        "        self.transformations.append(QuantumTransformation(phase(theta), t, cs, 'p', theta))\n",
        "\n",
        "    def measure(self, shots=0):\n",
        "        state = self.run()\n",
        "        samples = measure(state, shots)\n",
        "        return {'state vector': state, 'counts': samples}\n",
        "\n",
        "    def run(self):\n",
        "        for tr in self.transformations:\n",
        "            cs = tr.controls\n",
        "            if len(cs) == 0:\n",
        "                transform(self.state, tr.target, tr.gate)\n",
        "            elif len(cs) == 1:\n",
        "                c_transform(self.state, cs[0], tr.target, tr.gate)\n",
        "            else:\n",
        "                mc_transform(self.state, cs, tr.target, tr.gate)\n",
        "        self.transformations = []\n",
        "        return self.state\n",
        "\n",
        "\n",
        "    def initialize(self, state):\n",
        "        self.state = state\n",
        "\n",
        "    def append(self, circuit, reg):\n",
        "        assert(reg.size == sum(circuit.regs))\n",
        "        for tr in circuit.transformations:\n",
        "            self.transformations.append(QuantumTransformation(tr.gate, reg.shift + tr.target, tr.controls, tr.name, tr.arg))\n",
        "\n",
        "    def c_append(self, circuit, c, reg):\n",
        "        assert(c not in range(reg.shift, reg.shift + reg.size))\n",
        "        for tr in circuit.transformations:\n",
        "            self.transformations.append(QuantumTransformation(tr.gate, reg.shift + tr.target,\n",
        "                                                              [c] + [reg.shift + t for t in tr.controls],\n",
        "                                                              tr.name, tr.arg))\n",
        "\n",
        "\n",
        "    def inverse(self):\n",
        "        qs = [QuantumRegister(size, 'q' if len(self.regs) == 1 else None) for size in self.regs]\n",
        "        qc = QuantumCircuit(*qs)\n",
        "\n",
        "        for tr in self.transformations[::-1]:\n",
        "            prefix = ''\n",
        "            if len(tr.controls) == 1:\n",
        "                prefix = 'c'\n",
        "            elif len(tr.controls) > 1:\n",
        "                prefix = 'mc'\n",
        "\n",
        "            m = getattr(qc, prefix + tr.name)\n",
        "            cs = tr.controls\n",
        "\n",
        "            t = tr.target\n",
        "            reg = 0\n",
        "            while t >= self.regs[reg]:\n",
        "                t = t - self.regs[reg]\n",
        "                reg = reg + 1\n",
        "\n",
        "            if len(cs) == 0:\n",
        "                if tr.arg:\n",
        "                    m(-tr.arg, qs[reg][t])\n",
        "                else:\n",
        "                    m(qs[reg][t])\n",
        "            elif len(cs) == 1:\n",
        "                if tr.arg:\n",
        "                    m(-tr.arg, cs[0], qs[reg][t])\n",
        "                else:\n",
        "                    m(cs[0], qs[reg][t])\n",
        "            # multi-control\n",
        "            else:\n",
        "                if tr.arg is not None:\n",
        "                    m(-tr.arg, cs, qs[reg][t])\n",
        "                else:\n",
        "                    m(cs, qs[reg][t])\n",
        "\n",
        "        return qc\n",
        "\n",
        "    def report(self, name=None):\n",
        "        start_state = init_state(sum(self.regs))\n",
        "        tr_count = 0\n",
        "        for report in self.reports.values():\n",
        "            if report[3] > tr_count:\n",
        "                tr_count = report[3]\n",
        "                start_state = report[2]\n",
        "\n",
        "        qc = QuantumCircuit()\n",
        "        qc.regs = self.regs.copy()\n",
        "        qc.initialize(start_state.copy())\n",
        "        qc.transformations = self.transformations[tr_count:].copy()\n",
        "        end_state = qc.run()\n",
        "\n",
        "        if name is None:\n",
        "            name = len(self.reports)\n",
        "        report = (start_state, self.transformations[tr_count:len(self.transformations)].copy(), end_state,\n",
        "                  len(self.transformations))\n",
        "        self.reports[name] = report\n",
        "        return report"
      ],
      "metadata": {
        "id": "8D1Mpz32V7R8"
      },
      "execution_count": 86,
      "outputs": []
    },
    {
      "cell_type": "code",
      "source": [
        "# Function to create a phase oracle circuit\n",
        "def is_bit_not_set(m, k):\n",
        "  return not (m & (1 << k))\n",
        "\n",
        "def phase_oracle_match(n, items):\n",
        "  q = QuantumRegister(n)\n",
        "  qc = QuantumCircuit(q)\n",
        "  for m in items:\n",
        "    for i in range(n):\n",
        "      if is_bit_not_set(m, i):\n",
        "        qc.x(q[i])\n",
        "    qc.mcp(pi, [q[i] for i in range(len(q) - 1)], q[len(q) - 1])\n",
        "    for i in range(n):\n",
        "      if is_bit_not_set(m, i):\n",
        "        qc.x(q[i])\n",
        "  return qc"
      ],
      "metadata": {
        "id": "k4e9bDA1VHeJ"
      },
      "execution_count": 77,
      "outputs": []
    },
    {
      "cell_type": "code",
      "source": [
        "# Function to create a circuit for n qubits that multiplies outcome 0 by –1\n",
        "def inversion_0_circuit(n):\n",
        "  q = QuantumRegister(n)\n",
        "  qc = QuantumCircuit(q)\n",
        "\n",
        "  for i in range(n):\n",
        "    qc.x(q[i])\n",
        "\n",
        "  qc.mcp(pi, [q[i] for i in range(n - 1)], q[n - 1])\n",
        "\n",
        "  for i in range(n):\n",
        "    qc.x(q[i])\n",
        "\n",
        "  return qc"
      ],
      "metadata": {
        "id": "8MaPy858WIP4"
      },
      "execution_count": 78,
      "outputs": []
    },
    {
      "cell_type": "code",
      "source": [
        "# Function to create the inversion circuit\n",
        "def inversion_circuit(A):\n",
        "  n = sum(A.regs)\n",
        "  q = QuantumRegister(n)\n",
        "  qc = QuantumCircuit(q)\n",
        "  qc.append(A.inverse(), q)\n",
        "  qc.append(inversion_0_circuit(n), q)\n",
        "  qc.append(A, q)\n",
        "  return qc"
      ],
      "metadata": {
        "id": "B8T5tP66WrPW"
      },
      "execution_count": 79,
      "outputs": []
    },
    {
      "cell_type": "markdown",
      "source": [
        "## Grover iterate"
      ],
      "metadata": {
        "id": "kc4ARDFoWxBP"
      }
    },
    {
      "cell_type": "code",
      "source": [
        "# Function to create the Grover iterate circuit\n",
        "def grover_iterate_circuit(A, O):\n",
        "  n = sum(O.regs)\n",
        "  q = QuantumRegister(n)\n",
        "  qc = QuantumCircuit(q)\n",
        "  qc.append(O, q)\n",
        "  qc.append(inversion_circuit(A), q)\n",
        "  return qc"
      ],
      "metadata": {
        "id": "1shoywdwWxly"
      },
      "execution_count": 80,
      "outputs": []
    },
    {
      "cell_type": "markdown",
      "source": [
        "## Putting it all together: Grover’s algorithm"
      ],
      "metadata": {
        "id": "VXddLSraXF9l"
      }
    },
    {
      "cell_type": "code",
      "source": [
        "# Function to create the magnitude amplification circuit\n",
        "def grover_circuit(A, O, iterations):\n",
        "  n = sum(A.regs)\n",
        "  q = QuantumRegister(n)\n",
        "  qc = QuantumCircuit(q)\n",
        "\n",
        "  qc.append(A, q)\n",
        "  for i in range(1, iterations + 1):\n",
        "    qc.append(grover_iterate_circuit(A, O), q)\n",
        "    qc.report(f'iteration_{i}')\n",
        "\n",
        "  return qc"
      ],
      "metadata": {
        "id": "Wk2C0nRnXHoc"
      },
      "execution_count": 81,
      "outputs": []
    },
    {
      "cell_type": "markdown",
      "source": [
        "Suppose we have a list of N = 8 items, represented as the outcomes of a quantum computation\n",
        "with n = 3 qubits, and an oracle tagging three good outcomes. We can use\n",
        "the uniform function from chapter 4 to create a circuit A that prepares a state with\n",
        "equal magnitudes:"
      ],
      "metadata": {
        "id": "L2ewiG0fXbSO"
      }
    },
    {
      "cell_type": "code",
      "source": [
        "def uniform(n):\n",
        "  q = QuantumRegister(n)\n",
        "  qc = QuantumCircuit(q)\n",
        "  for i in range(len(q)):\n",
        "    qc.h(q[i])\n",
        "  return qc"
      ],
      "metadata": {
        "id": "Sji9R7O7XcqW"
      },
      "execution_count": 82,
      "outputs": []
    },
    {
      "cell_type": "code",
      "source": [
        "# With uniform as our operator A, n = 3 qubits, and good outcomes 1, 3, and 7, we can\n",
        "# define the following circuit\n",
        "\n",
        "n = 3 # num qubits\n",
        "items = [1, 3, 7] # good outcomes\n",
        "\n",
        "num_iterations = int(floor(pi/4*sqrt(2**n/len(items)))) # opt number of iterations\n",
        "\n",
        "qc = grover_circuit(uniform(n), phase_oracle_match(n, items), num_iterations)"
      ],
      "metadata": {
        "id": "levyNsgtXipE"
      },
      "execution_count": 89,
      "outputs": []
    },
    {
      "cell_type": "code",
      "source": [
        "# check the amplitudes at each step using the reports generated\n",
        "for i in range(1, num_iterations + 1):\n",
        "  for m in items:\n",
        "    assert is_close(\n",
        "      qc.reports[f'iteration_{i}'][2][m],\n",
        "      (-1)**i * target_amplitude_uniform(n, len(items), i)\n",
        "    )"
      ],
      "metadata": {
        "id": "u2WdOusdY8mi"
      },
      "execution_count": 91,
      "outputs": []
    },
    {
      "cell_type": "code",
      "source": [
        "# print out amplitudes\n",
        "for name, (start, ops, end_state, _) in qc.reports.items():\n",
        "    print(f\"=== Report: {name} ===\")\n",
        "    print(\" amplitudes:\", end_state)\n",
        "    print()"
      ],
      "metadata": {
        "colab": {
          "base_uri": "https://localhost:8080/"
        },
        "id": "mxSZGTO9aa34",
        "outputId": "9adf0519-e1bf-456c-a289-b5832696f869"
      },
      "execution_count": 93,
      "outputs": [
        {
          "output_type": "stream",
          "name": "stdout",
          "text": [
            "=== Report: iteration_1 ===\n",
            " amplitudes: [(0.17677669529663678-2.1648901405887307e-17j), (-0.5303300858899103+2.1648901405887317e-17j), (0.17677669529663678-2.1648901405887307e-17j), (-0.5303300858899103+2.1648901405887317e-17j), (0.17677669529663678-2.1648901405887307e-17j), (0.17677669529663675-2.164890140588731e-17j), (0.17677669529663678-2.1648901405887307e-17j), (-0.5303300858899103+2.1648901405887317e-17j)]\n",
            "\n"
          ]
        }
      ]
    },
    {
      "cell_type": "markdown",
      "source": [
        "Create a magnitude amplification circuit for n = 3 qubits and single good outcome 5\n",
        "using the circuit returned by the function prepare_binomial from chapter 4 as the\n",
        "initial state-preparation operator (with theta = 4*pi/7):"
      ],
      "metadata": {
        "id": "yuo8Uh4WbsXv"
      }
    },
    {
      "cell_type": "code",
      "source": [
        "theta = 4*pi/7\n",
        "\n",
        "def prepare_binomial(n, theta):\n",
        "  q = QuantumRegister(n)\n",
        "  qc = QuantumCircuit(q)\n",
        "  for i in range(len(q)):\n",
        "    qc.ry(theta, q[i])\n",
        "  return qc"
      ],
      "metadata": {
        "id": "yp2-avX8bs42"
      },
      "execution_count": 135,
      "outputs": []
    },
    {
      "cell_type": "code",
      "source": [
        "n = 3 # num qubits\n",
        "items = [5] # good outcomes\n",
        "\n",
        "num_iterations = int(floor(pi/4*sqrt(2**n/len(items)))) # opt number of iterations\n",
        "\n",
        "qc = grover_circuit(prepare_binomial(n, theta), phase_oracle_match(n, items), num_iterations)"
      ],
      "metadata": {
        "id": "XY9aiePzbyaL"
      },
      "execution_count": 136,
      "outputs": []
    },
    {
      "cell_type": "code",
      "source": [
        "# print out amplitudes\n",
        "for name, (start, ops, end_state, _) in qc.reports.items():\n",
        "    print(f\"=== Report: {name} ===\")\n",
        "    print(\" amplitudes:\", end_state)\n",
        "    print()"
      ],
      "metadata": {
        "colab": {
          "base_uri": "https://localhost:8080/"
        },
        "id": "pAZVVaYqb9hA",
        "outputId": "9b816239-f953-45ec-92ac-0cebd32c2ac4"
      },
      "execution_count": 137,
      "outputs": [
        {
          "output_type": "stream",
          "name": "stdout",
          "text": [
            "=== Report: iteration_1 ===\n",
            " amplitudes: [(-0.10155674247108569+1.2437113959904715e-17j), (-0.12734812708096677+1.5595647620711648e-17j), (-0.12734812708096693+1.5595647620711645e-17j), (-0.15968950043516228+1.955632355653612e-17j), (-0.12734812708096685+1.5595647620711645e-17j), (-0.9219188353157386+6.622940931542181e-17j), (-0.1596895004351622+1.9556323556536115e-17j), (-0.20024429988686446+2.4522854090395117e-17j)]\n",
            "\n",
            "=== Report: iteration_2 ===\n",
            " amplitudes: [(-0.0982654627201712+2.4068096877398235e-17j), (-0.12322099281316773+3.0180438887280976e-17j), (-0.12322099281316769+3.018043888728095e-17j), (-0.15451423775513332+3.784507333790341e-17j), (-0.1232209928131677+3.018043888728096e-17j), (0.9270940979957676-1.6084315460836203e-16j), (-0.15451423775513334+3.784507333790343e-17j), (-0.19375472574912242+4.745622094166717e-17j)]\n",
            "\n"
          ]
        }
      ]
    }
  ]
}