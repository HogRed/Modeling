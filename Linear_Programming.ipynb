{
  "nbformat": 4,
  "nbformat_minor": 0,
  "metadata": {
    "colab": {
      "provenance": []
    },
    "kernelspec": {
      "name": "python3",
      "display_name": "Python 3"
    },
    "language_info": {
      "name": "python"
    }
  },
  "cells": [
    {
      "cell_type": "markdown",
      "source": [
        "# Linear Programming in Python Tutorial"
      ],
      "metadata": {
        "id": "-fyOR_Xd2kCD"
      }
    },
    {
      "cell_type": "markdown",
      "source": [
        "## **1. Introduction to Linear Programming**\n",
        "\n",
        "# What is Linear Programming (LP)?\n",
        "\n",
        "Linear Programming is a mathematical optimization technique used to achieve the best outcome in a given scenario, often involving maximizing profit or minimizing cost. The key idea behind LP is to find the best values for a set of variables that meet certain conditions (called constraints).\n",
        "\n",
        "Example Problem: Imagine you are running a small factory. You produce two types of products, Product A and Product B. Each product requires resources like time, materials, and labor. You want to determine how much of each product to produce in order to maximize your profit while staying within the limits of your available resources. This is where linear programming comes in!\n",
        "\n",
        "Package Documentation (if interested)\n",
        "- [SciPy Documentation](https://scipy.org/)\n",
        "- [PuLP Documentation](https://coin-or.github.io/pulp/)"
      ],
      "metadata": {
        "id": "7VkCjDoG3nKP"
      }
    },
    {
      "cell_type": "markdown",
      "source": [
        "## **2. Mathematical Formulation**\n",
        "\n",
        "In LP, we need to define three main components:\n",
        "1. **Objective Function**: This is what we want to optimize (either maximize or minimize). For example, we want to maximize profit.\n",
        "2. **Constraints**: These are the limits or conditions that must be satisfied, such as available resources.\n",
        "3. **Decision Variables**: These are the variables we want to find values for. In our example, the decision variables could be the number of Product A and Product B to produce.\n",
        "\n",
        "Objective Function: Maximize profit (e.g., P = x1 + 2*x2)\n",
        "Constraints:\n",
        "\n",
        "2*x1 + x2 <= 20  (e.g., Resource limit for Product A and B)\n",
        "\n",
        "x1 + 2*x2 <= 20  (e.g., Another resource limit)\n",
        "\n",
        "Let's see how we can solve this using Python!"
      ],
      "metadata": {
        "id": "KQz_2Vd-23r9"
      }
    },
    {
      "cell_type": "markdown",
      "source": [
        "## **3. Tools in Python for Linear Programming**\n",
        "\n",
        "Before we start coding, we need to install and import some Python libraries that will help us solve Linear Programming problems.\n",
        "\n",
        "We will use two popular libraries:\n",
        "- **SciPy**: A library for scientific and technical computing, which includes optimization functions. It provides a powerful method called `linprog` for solving linear programming problems.\n",
        "- **Pulp**: A library that makes it easy to describe and solve linear programming problems in a more human-readable way. Pulp provides an intuitive interface for defining variables, objectives, and constraints."
      ],
      "metadata": {
        "id": "gbwlSj7C3O_s"
      }
    },
    {
      "cell_type": "code",
      "source": [
        "# Package imports\n",
        "!pip install scipy pulp\n",
        "import numpy as np\n",
        "import matplotlib.pyplot as plt\n",
        "from scipy.optimize import linprog\n",
        "from pulp import LpMaximize, LpProblem, LpVariable"
      ],
      "metadata": {
        "colab": {
          "base_uri": "https://localhost:8080/"
        },
        "collapsed": true,
        "id": "4Gp745A-3c5w",
        "outputId": "04326920-38a5-43ec-8b15-263b0d90d71a"
      },
      "execution_count": 1,
      "outputs": [
        {
          "output_type": "stream",
          "name": "stdout",
          "text": [
            "Requirement already satisfied: scipy in /usr/local/lib/python3.10/dist-packages (1.13.1)\n",
            "Collecting pulp\n",
            "  Downloading PuLP-2.9.0-py3-none-any.whl.metadata (5.4 kB)\n",
            "Requirement already satisfied: numpy<2.3,>=1.22.4 in /usr/local/lib/python3.10/dist-packages (from scipy) (1.26.4)\n",
            "Downloading PuLP-2.9.0-py3-none-any.whl (17.7 MB)\n",
            "\u001b[2K   \u001b[90m━━━━━━━━━━━━━━━━━━━━━━━━━━━━━━━━━━━━━━━━\u001b[0m \u001b[32m17.7/17.7 MB\u001b[0m \u001b[31m25.7 MB/s\u001b[0m eta \u001b[36m0:00:00\u001b[0m\n",
            "\u001b[?25hInstalling collected packages: pulp\n",
            "Successfully installed pulp-2.9.0\n"
          ]
        }
      ]
    },
    {
      "cell_type": "markdown",
      "source": [
        "## **4. Example 1: Using SciPy for Linear Programming**"
      ],
      "metadata": {
        "id": "k-D2dp8z3hi4"
      }
    },
    {
      "cell_type": "code",
      "source": [
        "# Define objective function coefficients\n",
        "\n",
        "# In this example, we want to maximize the function: P = x1 + 2*x2\n",
        "# Since SciPy minimizes functions by default, we use negative values for maximization\n",
        "c = [-1, -2]\n",
        "\n",
        "# Define inequality constraints\n",
        "\n",
        "# Constraints are represented in the form Ax <= b\n",
        "# A represents the coefficients of the constraints, and b represents the upper bounds\n",
        "\n",
        "A = [[2, 1], [1, 2]]  # Coefficients for the constraints\n",
        "b = [20, 20]  # Upper bounds for the constraints\n",
        "\n",
        "# Set variable bounds (x1 >= 0, x2 >= 0)\n",
        "# We specify that both x1 and x2 must be non-negative\n",
        "x_bounds = [(0, None), (0, None)]\n",
        "\n",
        "# Solve the linear programming problem\n",
        "# We use the `linprog` function to solve the LP problem\n",
        "result = linprog(c, A_ub=A, b_ub=b, bounds=x_bounds, method='highs')"
      ],
      "metadata": {
        "id": "HtT6YIGd3pSr"
      },
      "execution_count": 2,
      "outputs": []
    },
    {
      "cell_type": "code",
      "source": [
        "# Print the results\n",
        "if result.success:\n",
        "    print(f\"Optimal solution found:\")\n",
        "    print(f\"x1: {result.x[0]:.2f}, x2: {result.x[1]:.2f}\")\n",
        "    print(f\"Maximum profit: {-result.fun:.2f}\")\n",
        "else:\n",
        "    print(\"No solution found.\")"
      ],
      "metadata": {
        "colab": {
          "base_uri": "https://localhost:8080/"
        },
        "id": "JG1Lt9574Lah",
        "outputId": "81f33b72-5ca5-479e-c216-1369e1c06853"
      },
      "execution_count": 18,
      "outputs": [
        {
          "output_type": "stream",
          "name": "stdout",
          "text": [
            "Optimal solution found:\n",
            "x1: 0.00, x2: 10.00\n",
            "Maximum profit: 20.00\n"
          ]
        }
      ]
    },
    {
      "cell_type": "markdown",
      "source": [
        "## **5. Visualization of Solution Space**"
      ],
      "metadata": {
        "id": "5I9DPGT84PqJ"
      }
    },
    {
      "cell_type": "code",
      "source": [
        "# Define the constraints and plot the feasible region\n",
        "# We use matplotlib to visualize the constraints and feasible region\n",
        "x = np.linspace(0, 15, 200)  # Generate values for x from 0 to 15\n",
        "\n",
        "y1 = (20 - 2 * x)  # Constraint 1\n",
        "y2 = (20 - x) / 2  # Constraint 2\n",
        "\n",
        "# Plot the constraints\n",
        "plt.plot(x, y1, label=r'$2x_1 + x_2 \\leq 20$');\n",
        "plt.plot(x, y2, label=r'$x_1 + 2x_2 \\leq 20$');\n",
        "\n",
        "# Fill the feasible region\n",
        "# The feasible region is the area where all constraints are satisfied\n",
        "plt.fill_between(x, 0, np.minimum(y1, y2), where=(y1 >= 0) & (y2 >= 0),\n",
        "                 alpha=0.25,\n",
        "                 color='purple')\n",
        "\n",
        "# Label the plot\n",
        "plt.xlabel(r'$x_1$')\n",
        "plt.ylabel(r'$x_2$')\n",
        "# Add legend\n",
        "plt.legend()\n",
        "# Set axes limits (better plot)\n",
        "plt.xlim((0, 15))\n",
        "plt.ylim((0, 15))\n",
        "plt.title(\"Feasible Region (Purple) for the\\nLinear Programming Example\")\n",
        "plt.grid(True)\n",
        "plt.show();"
      ],
      "metadata": {
        "colab": {
          "base_uri": "https://localhost:8080/",
          "height": 493
        },
        "id": "6Lmv_uuj4QFx",
        "outputId": "b5ddc3c4-cfd5-479c-cce9-a2deb4af9273"
      },
      "execution_count": 16,
      "outputs": [
        {
          "output_type": "display_data",
          "data": {
            "text/plain": [
              "<Figure size 640x480 with 1 Axes>"
            ],
            "image/png": "[encoded data removed]"
          },
          "metadata": {}
        }
      ]
    },
    {
      "cell_type": "markdown",
      "source": [
        "## **6. Example 2: Using Pulp for Linear Programming**\n",
        "\n",
        "Here, we'll do the same example using Pulp, which is more intuitive than using SciPy."
      ],
      "metadata": {
        "id": "7f6aQr687YFV"
      }
    },
    {
      "cell_type": "code",
      "source": [
        "# Define the problem using Pulp\n",
        "# We create an instance of the LpProblem class\n",
        "# LpMaximize indicates that we want to maximize the objective function\n",
        "model = LpProblem(name=\"simple-max-problem\", sense=LpMaximize)\n",
        "\n",
        "# Define decision variables\n",
        "# We define our decision variables x1 and x2, which must be non-negative\n",
        "x1 = LpVariable(name=\"x1\", lowBound=0)\n",
        "x2 = LpVariable(name=\"x2\", lowBound=0)\n",
        "\n",
        "# Objective function\n",
        "# We add the objective function to the model\n",
        "model += 1 * x1 + 2 * x2, \"Objective\"\n",
        "\n",
        "# Constraints\n",
        "# We add the constraints to the model\n",
        "model += (2 * x1 + 1 * x2 <= 20, \"Constraint 1\")\n",
        "model += (1 * x1 + 2 * x2 <= 20, \"Constraint 2\")\n",
        "\n",
        "# Solve the problem\n",
        "# We use the solve() method to find the optimal solution\n",
        "model.solve()"
      ],
      "metadata": {
        "colab": {
          "base_uri": "https://localhost:8080/"
        },
        "id": "bRs8Drjo7d9e",
        "outputId": "e92529be-1aaa-4621-ad30-78b31042a115"
      },
      "execution_count": 11,
      "outputs": [
        {
          "output_type": "execute_result",
          "data": {
            "text/plain": [
              "1"
            ]
          },
          "metadata": {},
          "execution_count": 11
        }
      ]
    },
    {
      "cell_type": "code",
      "source": [
        "# Print the results\n",
        "print(\"Optimal solution found:\")\n",
        "\n",
        "# Loop to get var names and value\n",
        "for var in model.variables():\n",
        "    print(f\"{var.name}: {var.value()}\")\n",
        "\n",
        "# Output max profit found\n",
        "print(f\"Maximum profit: {model.objective.value()}\")"
      ],
      "metadata": {
        "colab": {
          "base_uri": "https://localhost:8080/"
        },
        "id": "OtuEcEi47tAF",
        "outputId": "1183a16e-4aca-4a24-f185-d06c65a8b752"
      },
      "execution_count": 19,
      "outputs": [
        {
          "output_type": "stream",
          "name": "stdout",
          "text": [
            "Optimal solution found:\n",
            "x1: 0.0\n",
            "x2: 10.0\n",
            "Maximum profit: 20.0\n"
          ]
        }
      ]
    }
  ]
}