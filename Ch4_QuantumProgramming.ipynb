{
  "nbformat": 4,
  "nbformat_minor": 0,
  "metadata": {
    "colab": {
      "provenance": []
    },
    "kernelspec": {
      "name": "python3",
      "display_name": "Python 3"
    },
    "language_info": {
      "name": "python"
    }
  },
  "cells": [
    {
      "cell_type": "markdown",
      "source": [
        "## ENCODING A TWO-QUBIT STATE WITH A LIST OF COMPLEX NUMBERS"
      ],
      "metadata": {
        "id": "Inj0O-4-M5Ge"
      }
    },
    {
      "cell_type": "code",
      "execution_count": 1,
      "metadata": {
        "id": "IalRiT6JM1A3"
      },
      "outputs": [],
      "source": [
        "from math import sqrt, cos, sin\n",
        "\n",
        "[p0, p1, p2, p3] = [1, 0, 0, 0] # probabilities\n",
        "\n",
        "[theta0, theta1, theta2, theta3] = [0, 0, 0, 0] # angles\n",
        "\n",
        "# state vector\n",
        "state = [sqrt(p0) * (cos(theta0) + 1j * sin(theta0)),\n",
        "        sqrt(p1) * (cos(theta1) + 1j * sin(theta1)),\n",
        "        sqrt(p2) * (cos(theta2) + 1j * sin(theta2)),\n",
        "        sqrt(p3) * (cos(theta3) + 1j * sin(theta3))]"
      ]
    },
    {
      "cell_type": "code",
      "source": [
        "# generate example probabilities and directions\n",
        "import random\n",
        "from math import pi\n",
        "\n",
        "random.seed(123456789) # set seed\n",
        "\n",
        "probs = [random.random() for _ in range(4)] # get four random probs\n",
        "\n",
        "total = sum(probs)\n",
        "\n",
        "probs = [p/total for p in probs] # Normalizes each amplitude so the probabilities add to 1\n",
        "\n",
        "angles = [random.uniform(0, 2*pi) for _ in range(4)] # Generates four random angles in radians\n",
        "\n",
        "state = [sqrt(p)*(cos(a) + 1j*sin(a)) for (p, a) in zip(probs, angles)] # build quantum state list"
      ],
      "metadata": {
        "id": "9v1eCXWQNLfi"
      },
      "execution_count": 2,
      "outputs": []
    },
    {
      "cell_type": "code",
      "source": [
        "# polar form quick function\n",
        "def cis(theta):\n",
        "  return cos(theta) + 1j*sin(theta)"
      ],
      "metadata": {
        "id": "1ilRZ2o9OITr"
      },
      "execution_count": 3,
      "outputs": []
    },
    {
      "cell_type": "code",
      "source": [
        "# The first state has probability p = 0.75 for outcome 0 and amplitude directions θ 0 = 0° and θ 1 = 60°\n",
        "p = 0.75\n",
        "theta0 = 0\n",
        "theta1 = 60/(180/pi) # radian conversion\n",
        "first_state = [sqrt(p)*cis(theta0), sqrt(1-p)*cis(theta1)]\n",
        "\n",
        "print([round(amp.real, 5)+1j*round(amp.imag, 5) for amp in first_state])"
      ],
      "metadata": {
        "colab": {
          "base_uri": "https://localhost:8080/"
        },
        "id": "FSURpEoHOW1n",
        "outputId": "d84565d3-9d2a-4906-ae22-ea3f267a126f"
      },
      "execution_count": 4,
      "outputs": [
        {
          "output_type": "stream",
          "name": "stdout",
          "text": [
            "[(0.86603+0j), (0.25+0.43301j)]\n"
          ]
        }
      ]
    },
    {
      "cell_type": "code",
      "source": [
        "# The second state has q = 0.5 as the probability for outcome 0 and amplitude directions\n",
        "# ϕ0= 0° and ϕ1 = –120°\n",
        "q = 0.5\n",
        "phi0 = 0\n",
        "phi1 = -120/(180/pi) # radian conversion\n",
        "second_state = [sqrt(q)*cis(phi0), sqrt(1-q)*cis(phi1)]\n",
        "\n",
        "print([round(amp.real, 5)+1j*round(amp.imag, 5) for amp in second_state])"
      ],
      "metadata": {
        "colab": {
          "base_uri": "https://localhost:8080/"
        },
        "id": "CT8lQeE9OfmX",
        "outputId": "f09ca7cb-4d4c-45b8-f704-e900bf536fe1"
      },
      "execution_count": 5,
      "outputs": [
        {
          "output_type": "stream",
          "name": "stdout",
          "text": [
            "[(0.70711+0j), (-0.35355-0.61237j)]\n"
          ]
        }
      ]
    },
    {
      "cell_type": "code",
      "source": [
        "# create a two-qubit state from the two single-qubit states\n",
        "new_state = [first_state[0]*second_state[0], first_state[0]*second_state[1],\n",
        "            first_state[1]*second_state[0], first_state[1]*second_state[1]]\n",
        "\n",
        "print([round(amp.real, 5)+1j*round(amp.imag, 5) for amp in new_state])"
      ],
      "metadata": {
        "colab": {
          "base_uri": "https://localhost:8080/"
        },
        "id": "BofkW07JO52k",
        "outputId": "0e47edbd-e679-4829-8ce7-03ee54fd2670"
      },
      "execution_count": 6,
      "outputs": [
        {
          "output_type": "stream",
          "name": "stdout",
          "text": [
            "[(0.61237+0j), (-0.30619-0.53033j), (0.17678+0.30619j), (0.17678-0.30619j)]\n"
          ]
        }
      ]
    },
    {
      "cell_type": "code",
      "source": [
        "# alternate but equivalent way to calc combined state\n",
        "new_state = [sqrt(p*q)*cis(theta0 + phi0), sqrt(p*(1-q))*cis(theta0 + phi1),\n",
        "            sqrt((1-p)*q)*cis(theta1 + phi0), sqrt((1-p)*(1-q))*cis(theta1 + phi1)]\n",
        "\n",
        "print([round(amp.real, 5)+1j*round(amp.imag, 5) for amp in new_state])"
      ],
      "metadata": {
        "colab": {
          "base_uri": "https://localhost:8080/"
        },
        "id": "pTnoyXl1PIQa",
        "outputId": "b8d5b2bf-f755-41a7-96c2-024edae07e00"
      },
      "execution_count": 7,
      "outputs": [
        {
          "output_type": "stream",
          "name": "stdout",
          "text": [
            "[(0.61237+0j), (-0.30619-0.53033j), (0.17678+0.30619j), (0.17678-0.30619j)]\n"
          ]
        }
      ]
    },
    {
      "cell_type": "markdown",
      "source": [
        "## Quantum States Are Lists Of Complex Numbers"
      ],
      "metadata": {
        "id": "uWKnhwAiRglQ"
      }
    },
    {
      "cell_type": "code",
      "source": [
        "# define an example state with the following eight complex numbers\n",
        "amplitude_list = [(0.09858+0.03637j),\n",
        "                  (0.07478+0.06912j),\n",
        "                  (0.04852+0.10526j),\n",
        "                  (0.00641+0.16322j),\n",
        "                  (-0.12895+0.34953j),\n",
        "                  (0.58403-0.6318j),\n",
        "                  (0.18795-0.08665j),\n",
        "                  (0.12867-0.00506j)]"
      ],
      "metadata": {
        "id": "ax1iR9C5RdwF"
      },
      "execution_count": 8,
      "outputs": []
    },
    {
      "cell_type": "code",
      "source": [
        "# Function to check whether a list is a valid quantum state\n",
        "from math import log2, ceil, floor\n",
        "\n",
        "def is_close_float(a, b, rtol=1e-5, atol=1e-8):\n",
        "    # Returns True if two floats are approximately equal within a relative and absolute tolerance.\n",
        "    # This mimics numpy.isclose behavior.\n",
        "    return abs(a - b) < atol + rtol * abs(b)\n",
        "\n",
        "def is_close(a, b):\n",
        "    # Returns True if two numbers (real or complex) are approximately equal.\n",
        "    # Converts floats to complex numbers (with zero imaginary part) to handle both real and complex comparisons.\n",
        "    # Compares both real and imaginary parts using is_close_float.\n",
        "    if isinstance(a, float):\n",
        "        a = complex(a, 0)\n",
        "\n",
        "    if isinstance(b, float):\n",
        "        b = complex(b, 0)\n",
        "\n",
        "    return is_close_float(a.real, b.real) and is_close_float(a.imag, b.imag)\n",
        "\n",
        "# For a list of complex numbers to be a valid quantum state, it must have\n",
        "# a length that is a power of 2,\n",
        "def is_power_of_two(m):\n",
        "  return ceil(log2(m)) == floor(log2(m))\n",
        "\n",
        "def prepare_state(*a):\n",
        "  state = [a[k] for k in range(len(a))]\n",
        "\n",
        "  # Check that length of list is a power of 2\n",
        "  assert(is_power_of_two(len(state)))\n",
        "\n",
        "  # Check squared magnitudes sum to 1\n",
        "  assert (is_close(sum([abs(state[k]) ** 2 for k in range(len(state))]),1.0))\n",
        "\n",
        "  # If two conditions are met, return state\n",
        "  return state"
      ],
      "metadata": {
        "id": "0--PlXulRte5"
      },
      "execution_count": 9,
      "outputs": []
    },
    {
      "cell_type": "code",
      "source": [
        "# check that the state we defined is a valid quantum state:\n",
        "state = prepare_state(*amplitude_list)"
      ],
      "metadata": {
        "id": "-juMgXrGT_3E"
      },
      "execution_count": 10,
      "outputs": []
    },
    {
      "cell_type": "code",
      "source": [
        "# pull out outcomes and amplitudes from state table\n",
        "print([[k, state[k]] for k in range(len(state))])"
      ],
      "metadata": {
        "colab": {
          "base_uri": "https://localhost:8080/"
        },
        "id": "ujqOI4R8UFvY",
        "outputId": "be369250-431a-4b9d-d1b5-a9f558ad2378"
      },
      "execution_count": 11,
      "outputs": [
        {
          "output_type": "stream",
          "name": "stdout",
          "text": [
            "[[0, (0.09858+0.03637j)], [1, (0.07478+0.06912j)], [2, (0.04852+0.10526j)], [3, (0.00641+0.16322j)], [4, (-0.12895+0.34953j)], [5, (0.58403-0.6318j)], [6, (0.18795-0.08665j)], [7, (0.12867-0.00506j)]]\n"
          ]
        }
      ]
    },
    {
      "cell_type": "code",
      "source": [
        "# add probabilities and directions, derived from amplitudes\n",
        "from math import atan2\n",
        "\n",
        "table1 = [\n",
        "  [\n",
        "    k,\n",
        "    round(atan2(state[k].imag, state[k].real) / (2 * pi) * 360, 5),\n",
        "    round(abs(state[k]) ** 2, 5)\n",
        "  ]\n",
        "\n",
        "  for k in range(len(state))\n",
        "]\n",
        "\n",
        "for row in table1:\n",
        "  print(row) # outcome, direction, probability"
      ],
      "metadata": {
        "colab": {
          "base_uri": "https://localhost:8080/"
        },
        "id": "7QwX_Ez3UWTe",
        "outputId": "387e6260-f1d9-4f0f-96f3-9f632e71e876"
      },
      "execution_count": 12,
      "outputs": [
        {
          "output_type": "stream",
          "name": "stdout",
          "text": [
            "[0, 20.25098, 0.01104]\n",
            "[1, 42.74755, 0.01037]\n",
            "[2, 65.25248, 0.01343]\n",
            "[3, 87.75103, 0.02668]\n",
            "[4, 110.25023, 0.1388]\n",
            "[5, -47.25, 0.74026]\n",
            "[6, -24.75097, 0.04283]\n",
            "[7, -2.25202, 0.01658]\n"
          ]
        }
      ]
    },
    {
      "cell_type": "code",
      "source": [
        "# expanded table that includes probabilities\n",
        "expanded_table = [\n",
        "  [\n",
        "    k,\n",
        "    state[k],\n",
        "    round(atan2(state[k].imag, state[k].real) / (2 * pi) * 360, 5),\n",
        "    round(abs(state[k]), 5),\n",
        "    round(abs(state[k]) ** 2, 5)\n",
        "  ]\n",
        "  for k in range(len(state))\n",
        "]\n",
        "\n",
        "for row in expanded_table:\n",
        "  print(row) # outcome, amplitude, direction, magnitude, probability"
      ],
      "metadata": {
        "colab": {
          "base_uri": "https://localhost:8080/"
        },
        "id": "k9nhp8SFUwuj",
        "outputId": "5bf56bc4-7d05-49bb-dfb0-ac46a00f6346"
      },
      "execution_count": 13,
      "outputs": [
        {
          "output_type": "stream",
          "name": "stdout",
          "text": [
            "[0, (0.09858+0.03637j), 20.25098, 0.10508, 0.01104]\n",
            "[1, (0.07478+0.06912j), 42.74755, 0.10183, 0.01037]\n",
            "[2, (0.04852+0.10526j), 65.25248, 0.1159, 0.01343]\n",
            "[3, (0.00641+0.16322j), 87.75103, 0.16335, 0.02668]\n",
            "[4, (-0.12895+0.34953j), 110.25023, 0.37256, 0.1388]\n",
            "[5, (0.58403-0.6318j), -47.25, 0.86038, 0.74026]\n",
            "[6, (0.18795-0.08665j), -24.75097, 0.20696, 0.04283]\n",
            "[7, (0.12867-0.00506j), -2.25202, 0.12877, 0.01658]\n"
          ]
        }
      ]
    },
    {
      "cell_type": "code",
      "source": [
        "# how to get amplitudes from directions and probabilities\n",
        "table2 = [\n",
        "  [\n",
        "    row[0],\n",
        "    (\n",
        "      round(sqrt(row[2]) * cos(row[1] / (180 / pi)), 5) +\n",
        "      round(sqrt(row[2]) * sin(row[1] / (180 / pi)), 5) * 1j\n",
        "    )\n",
        "  ]\n",
        "  for row in table1\n",
        "]\n",
        "\n",
        "for row in table2:\n",
        "  print(row) # outcome, amplitude"
      ],
      "metadata": {
        "colab": {
          "base_uri": "https://localhost:8080/"
        },
        "id": "-kaau_HiVi6K",
        "outputId": "53b1afed-c270-4659-ba4a-2f2306aece61"
      },
      "execution_count": 14,
      "outputs": [
        {
          "output_type": "stream",
          "name": "stdout",
          "text": [
            "[0, (0.09858+0.03637j)]\n",
            "[1, (0.07478+0.06912j)]\n",
            "[2, (0.04851+0.10524j)]\n",
            "[3, (0.00641+0.16321j)]\n",
            "[4, (-0.12895+0.34953j)]\n",
            "[5, (0.58403-0.6318j)]\n",
            "[6, (0.18794-0.08665j)]\n",
            "[7, (0.12866-0.00506j)]\n"
          ]
        }
      ]
    },
    {
      "cell_type": "markdown",
      "source": [
        "## Simulating multi-qubit states in Python"
      ],
      "metadata": {
        "id": "AKSIlybcY4ig"
      }
    },
    {
      "cell_type": "code",
      "source": [
        "# Function to create a default quantum state\n",
        "def init_state(n):\n",
        "  state = [0 for _ in range(2 ** n)] # Given n qubits, the state will contain 2^n complex numbers.\n",
        "  state[0] = 1 # The amplitude corresponding to outcome 0 (the first amplitude in the list) will have a value of 1.\n",
        "  return state"
      ],
      "metadata": {
        "id": "jun31ljDY8Qc"
      },
      "execution_count": 15,
      "outputs": []
    },
    {
      "cell_type": "code",
      "source": [
        "# initialize two-qubit state\n",
        "state = init_state(2)\n",
        "\n",
        "print(state)"
      ],
      "metadata": {
        "colab": {
          "base_uri": "https://localhost:8080/"
        },
        "id": "ZPgH0xYJZMYw",
        "outputId": "524f9375-d5dc-44a3-a8fe-e1373156b798"
      },
      "execution_count": 16,
      "outputs": [
        {
          "output_type": "stream",
          "name": "stdout",
          "text": [
            "[1, 0, 0, 0]\n"
          ]
        }
      ]
    },
    {
      "cell_type": "code",
      "source": [
        "def pair_generator(n, t):\n",
        "    # Compute the distance between elements in each pair.\n",
        "    # Each k1 will be k0 + distance\n",
        "    distance = int(2 ** t)\n",
        "\n",
        "    # Loop over 2^(n - t - 1) blocks. Each block produces 'distance' pairs.\n",
        "    # This structure ensures full coverage of 2^n elements without overlap.\n",
        "    for j in range(2 ** (n - t - 1)):\n",
        "\n",
        "        # Generate k0 values in a block of size `distance`\n",
        "        # The block starts at 2 * j * distance and ends at (2 * j + 1) * distance - 1\n",
        "        for k0 in range(2 * j * distance, (2 * j + 1) * distance):\n",
        "            k1 = k0 + distance  # k1 is always distance ahead of k0\n",
        "\n",
        "            # Yield the pair (k0, k1). These pairs span all indices in [0, 2^n)\n",
        "            # and are separated by `distance`.\n",
        "            yield k0, k1"
      ],
      "metadata": {
        "id": "3rYAPYpPc7vV"
      },
      "execution_count": 17,
      "outputs": []
    },
    {
      "cell_type": "code",
      "source": [
        "# three qubits (n = 3) and the target qubit 1 (t = 1)\n",
        "for (k0, k1) in pair_generator(3, 1):\n",
        "  print(k0, k1)"
      ],
      "metadata": {
        "colab": {
          "base_uri": "https://localhost:8080/"
        },
        "id": "LHptVjyYc8ps",
        "outputId": "44584ed1-0204-426a-c162-4908e280f0f1"
      },
      "execution_count": 18,
      "outputs": [
        {
          "output_type": "stream",
          "name": "stdout",
          "text": [
            "0 2\n",
            "1 3\n",
            "4 6\n",
            "5 7\n"
          ]
        }
      ]
    },
    {
      "cell_type": "markdown",
      "source": [
        "## Simulating amplitude changes"
      ],
      "metadata": {
        "id": "dCq_jNcJesot"
      }
    },
    {
      "cell_type": "code",
      "source": [
        "# Functions to simulate a gate transformation on a multi-qubit state\n",
        "def process_pair(state, gate, k0, k1):\n",
        "  # Get original amplitudes of the pair\n",
        "  x = state[k0]\n",
        "  y = state[k1]\n",
        "\n",
        "  # Calc new amplitudes based on gate & replace old amplitudes\n",
        "  state[k0] = x * gate[0][0] + y * gate[0][1]\n",
        "  state[k1] = x * gate[1][0] + y * gate[1][1]\n",
        "\n",
        "def transform(state, t, gate):\n",
        "  n = int(log2(len(state))) # Gets num of qubits in state\n",
        "  for (k0, k1) in pair_generator(n, t): # Get pairs of tuples\n",
        "    process_pair(state, gate, k0, k1) # For each pair, calculate new amplitudes"
      ],
      "metadata": {
        "id": "eXiIQIbgetPE"
      },
      "execution_count": 19,
      "outputs": []
    },
    {
      "cell_type": "code",
      "source": [
        "# Example state\n",
        "state = [(0.09858+0.03637j),\n",
        "        (0.07478+0.06912j),\n",
        "        (0.04852+0.10526j),\n",
        "        (0.00641+0.16322j),\n",
        "        (-0.12895+0.34953j),\n",
        "        (0.58403-0.6318j),\n",
        "        (0.18795-0.08665j),\n",
        "        (0.12867-0.00506j)]\n",
        "\n",
        "\n",
        "# use the transform function to apply an X gate to target qubit 0\n",
        "from math import cos, sin, sqrt\n",
        "x = [[0, 1], [1, 0]]\n",
        "\n",
        "transform(state, 0, x)\n",
        "print(state)"
      ],
      "metadata": {
        "colab": {
          "base_uri": "https://localhost:8080/"
        },
        "id": "z1QU3HTvgDzq",
        "outputId": "c29caa4e-b4a6-4e0b-9e92-b6181c640e92"
      },
      "execution_count": 20,
      "outputs": [
        {
          "output_type": "stream",
          "name": "stdout",
          "text": [
            "[(0.07478+0.06912j), (0.09858+0.03637j), (0.00641+0.16322j), (0.04852+0.10526j), (0.58403-0.6318j), (-0.12895+0.34953j), (0.12867-0.00506j), (0.18795-0.08665j)]\n"
          ]
        }
      ]
    },
    {
      "cell_type": "markdown",
      "source": [
        "## Encoding a uniform distribution in a multi-qubit quantum system"
      ],
      "metadata": {
        "id": "yPIVMYftVc_Q"
      }
    },
    {
      "cell_type": "code",
      "source": [
        "# encode a uniform distribution in a three-qubit system\n",
        "state = init_state(3) # initialize 3-qubit state\n",
        "\n",
        "print(state)"
      ],
      "metadata": {
        "colab": {
          "base_uri": "https://localhost:8080/"
        },
        "id": "XeUMhEEfVd6b",
        "outputId": "bb6b1e81-a453-4ed8-aa89-3960828cb4f7"
      },
      "execution_count": 21,
      "outputs": [
        {
          "output_type": "stream",
          "name": "stdout",
          "text": [
            "[1, 0, 0, 0, 0, 0, 0, 0]\n"
          ]
        }
      ]
    },
    {
      "cell_type": "code",
      "source": [
        "# apply hadamard gate to position 0 qubit\n",
        "h = [[1/sqrt(2), 1/sqrt(2)], [1/sqrt(2), -1/sqrt(2)]]\n",
        "\n",
        "transform(state, 0, h)\n",
        "\n",
        "print(state)"
      ],
      "metadata": {
        "colab": {
          "base_uri": "https://localhost:8080/"
        },
        "id": "TJNNmKB5VqGF",
        "outputId": "6ebbb70b-6901-4fa1-8b89-a18563839d8f"
      },
      "execution_count": 22,
      "outputs": [
        {
          "output_type": "stream",
          "name": "stdout",
          "text": [
            "[0.7071067811865475, 0.7071067811865475, 0.0, 0.0, 0.0, 0.0, 0.0, 0.0]\n"
          ]
        }
      ]
    },
    {
      "cell_type": "code",
      "source": [
        "# apply hadamard gate to all target qubits -- uniform dist.\n",
        "state = init_state(3)\n",
        "\n",
        "transform(state, 0, h)\n",
        "transform(state, 1, h)\n",
        "transform(state, 2, h)\n",
        "\n",
        "print(state)"
      ],
      "metadata": {
        "colab": {
          "base_uri": "https://localhost:8080/"
        },
        "id": "dlpWnBLjV5wb",
        "outputId": "7a630c65-1205-4066-c276-82fde146e1fd"
      },
      "execution_count": 23,
      "outputs": [
        {
          "output_type": "stream",
          "name": "stdout",
          "text": [
            "[0.3535533905932737, 0.3535533905932737, 0.3535533905932737, 0.3535533905932737, 0.3535533905932737, 0.3535533905932737, 0.3535533905932737, 0.3535533905932737]\n"
          ]
        }
      ]
    },
    {
      "cell_type": "markdown",
      "source": [
        "## Simulating controlled gate transformations in Python"
      ],
      "metadata": {
        "id": "YN-nWm1GWMYV"
      }
    },
    {
      "cell_type": "code",
      "source": [
        "# Applying controlled gate transformations to a state\n",
        "\n",
        "\n",
        "# Utility: check whether bit k of integer m is 1.\n",
        "# m : int   – the integer whose bits we examine\n",
        "# k : int   – zero-based bit position (0 = least-significant bit)\n",
        "# Returns True if the k-th bit is set, else False.\n",
        "# Example: is_bit_set(0b1010, 1)  → True (because bit-1 is '1')\n",
        "# ────────────────────────────────────────────────────────────────────────────────\n",
        "def is_bit_set(m: int, k: int) -> bool:\n",
        "    return (m & (1 << k)) != 0\n",
        "\n",
        "# ────────────────────────────────────────────────────────────────────────────────\n",
        "# Apply a *controlled* single-qubit gate to every |control, target⟩ pair\n",
        "# in a quantum state vector.\n",
        "#\n",
        "# state : list[complex]  – 2^n-length amplitude vector (modified in-place)\n",
        "# c     : int            – index of the *control* qubit (0 = LSB)\n",
        "# t     : int            – index of the *target*  qubit\n",
        "# gate  : Callable[[complex, complex], tuple[complex, complex]]\n",
        "#                       – function that takes the two target-amplitudes\n",
        "#                         (|…0…〉 and |…1…〉) and returns the transformed pair\n",
        "#\n",
        "# Algorithm\n",
        "# ----------\n",
        "# • n = log2(len(state))   → number of qubits.\n",
        "# • Iterate over every basis-pair (k0, k1) that differ **only** on qubit t.\n",
        "#   `pair_generator(n, t)` should yield all such index pairs in ascending order.\n",
        "# • Keep only those pairs whose *control* qubit c is 1 (lambda filter).\n",
        "# • For each surviving pair, apply `gate` to update the two amplitudes.\n",
        "#\n",
        "# Complexity\n",
        "# ----------\n",
        "# Time: O(2^(n-1))  – half of the basis states are visited.\n",
        "# Memory: O(1)      – in-place update of `state`.\n",
        "# ────────────────────────────────────────────────────────────────────────────────\n",
        "def c_transform(state: list[complex],\n",
        "                c: int,\n",
        "                t: int,\n",
        "                gate):\n",
        "    # Infer qubit count from the state length (assumes perfect power of two).\n",
        "    n = int(log2(len(state)))\n",
        "\n",
        "    # loop over all index pairs that differ on qubit t\n",
        "    for (k0, k1) in filter(lambda p: is_bit_set(p[0], c),\n",
        "                           pair_generator(n, t)):\n",
        "        # Only pairs where the control qubit is |1⟩ reach this point.\n",
        "        # process_pair mutates `state[k0]` and `state[k1]` in-place.\n",
        "        process_pair(state, gate, k0, k1)"
      ],
      "metadata": {
        "id": "QQ7ETPCtWBvn"
      },
      "execution_count": 24,
      "outputs": []
    },
    {
      "cell_type": "code",
      "source": [
        "state = [(0.09858+0.03637j),\n",
        "(0.07478+0.06912j),\n",
        "(0.04852+0.10526j),\n",
        "(0.00641+0.16322j),\n",
        "(-0.12895+0.34953j),\n",
        "(0.58403-0.6318j),\n",
        "(0.18795-0.08665j),\n",
        "(0.12867-0.00506j)]\n",
        "\n",
        "c_transform(state, 1, 2, x)\n",
        "\n",
        "print(state)"
      ],
      "metadata": {
        "colab": {
          "base_uri": "https://localhost:8080/"
        },
        "id": "lu6774QsNEqM",
        "outputId": "868a7ea4-186c-4223-bc0b-9ddc2354d55f"
      },
      "execution_count": 25,
      "outputs": [
        {
          "output_type": "stream",
          "name": "stdout",
          "text": [
            "[(0.09858+0.03637j), (0.07478+0.06912j), (0.18795-0.08665j), (0.12867-0.00506j), (-0.12895+0.34953j), (0.58403-0.6318j), (0.04852+0.10526j), (0.00641+0.16322j)]\n"
          ]
        }
      ]
    },
    {
      "cell_type": "markdown",
      "source": [
        "## Simulating multicontrol gate transformations in Python"
      ],
      "metadata": {
        "id": "UG9sikSNNWtk"
      }
    },
    {
      "cell_type": "code",
      "source": [
        "def mc_transform(state, cs, t, gate):\n",
        "  assert not t in cs # target can not be in control\n",
        "  n = int(log2(len(state)))\n",
        "  # Check that all pairs have 1 in the control qubit positions\n",
        "  for (k0, k1) in filter(\n",
        "    lambda p: all([is_bit_set(p[0], c) for c in cs]),\n",
        "    pair_generator(n, t)):\n",
        "    process_pair(state, gate, k0, k1) # recombines amplitudes"
      ],
      "metadata": {
        "id": "nWLAF6khNXsj"
      },
      "execution_count": 26,
      "outputs": []
    },
    {
      "cell_type": "code",
      "source": [
        "state = [(0.09858+0.03637j), (0.07478+0.06912j), (0.04852+0.10526j),\n",
        "(0.00641+0.16322j), (-0.12895+0.34953j), (0.58403-0.6318j),\n",
        "(0.18795-0.08665j), (0.12867-0.00506j)]\n",
        "\n",
        "mc_transform(state, [1, 2], 0, x)\n",
        "\n",
        "print(state)"
      ],
      "metadata": {
        "colab": {
          "base_uri": "https://localhost:8080/"
        },
        "id": "-uPfRukYNtAn",
        "outputId": "a239fed4-e556-4e47-c7f3-5131045bf926"
      },
      "execution_count": 27,
      "outputs": [
        {
          "output_type": "stream",
          "name": "stdout",
          "text": [
            "[(0.09858+0.03637j), (0.07478+0.06912j), (0.04852+0.10526j), (0.00641+0.16322j), (-0.12895+0.34953j), (0.58403-0.6318j), (0.12867-0.00506j), (0.18795-0.08665j)]\n"
          ]
        }
      ]
    },
    {
      "cell_type": "markdown",
      "source": [
        "## Simulating measurement of multi-qubit states"
      ],
      "metadata": {
        "id": "yvZFJrobN5ec"
      }
    },
    {
      "cell_type": "code",
      "source": [
        "# takes the state vector and a number of samples (shots).\n",
        "# The function calculates the probabilities\n",
        "# using the amplitudes of the given state and returns a dictionary with the\n",
        "# counts of each outcome.\n",
        "\n",
        "from random import choices\n",
        "from collections import Counter\n",
        "\n",
        "def measure(state, shots):\n",
        "  samples = choices(\n",
        "    range(len(state)),\n",
        "    [abs(state[k])**2 for k in range(len(state))],\n",
        "    k=shots)\n",
        "  counts = {}\n",
        "  for (k, v) in Counter(samples).items():\n",
        "    counts[k] = v\n",
        "  return counts"
      ],
      "metadata": {
        "id": "sMtz_cr3N61T"
      },
      "execution_count": 28,
      "outputs": []
    },
    {
      "cell_type": "code",
      "source": [
        "state = [(0.09858+0.03637j), (0.07478+0.06912j), (0.04852+0.10526j),\n",
        "(0.00641+0.16322j), (-0.12895+0.34953j), (0.58403-0.6318j),\n",
        "(0.18795-0.08665j), (0.12867-0.00506j)]\n",
        "\n",
        "probabilities = [[k, abs(state[k])**2] for k in range(len(state))]\n",
        "\n",
        "for i in probabilities:\n",
        "  print(\"probability of outcome\", i[0], \": \", round(i[1], 3))"
      ],
      "metadata": {
        "colab": {
          "base_uri": "https://localhost:8080/"
        },
        "id": "uRXPdZbcOezz",
        "outputId": "6dcf0bcb-ebf4-4451-af24-a1c2dee63876"
      },
      "execution_count": 29,
      "outputs": [
        {
          "output_type": "stream",
          "name": "stdout",
          "text": [
            "probability of outcome 0 :  0.011\n",
            "probability of outcome 1 :  0.01\n",
            "probability of outcome 2 :  0.013\n",
            "probability of outcome 3 :  0.027\n",
            "probability of outcome 4 :  0.139\n",
            "probability of outcome 5 :  0.74\n",
            "probability of outcome 6 :  0.043\n",
            "probability of outcome 7 :  0.017\n"
          ]
        }
      ]
    },
    {
      "cell_type": "code",
      "source": [
        "# simulate the outcomes of 100 executions of the\n",
        "# computation that creates our example state\n",
        "\n",
        "samples = measure(state, 100)\n",
        "\n",
        "print(samples)"
      ],
      "metadata": {
        "colab": {
          "base_uri": "https://localhost:8080/"
        },
        "id": "jpblL6psOpv9",
        "outputId": "218729ae-f3c6-4dec-a525-3c8e6d221443"
      },
      "execution_count": 30,
      "outputs": [
        {
          "output_type": "stream",
          "name": "stdout",
          "text": [
            "{5: 83, 2: 3, 4: 10, 3: 2, 1: 1, 6: 1}\n"
          ]
        }
      ]
    },
    {
      "cell_type": "markdown",
      "source": [
        "## Quantum registers and circuits in code"
      ],
      "metadata": {
        "id": "aENCEpCuPZGh"
      }
    },
    {
      "cell_type": "code",
      "source": [
        "class QuantumRegister:\n",
        "    \"\"\"\n",
        "    Lightweight view onto a contiguous block of qubit indices.\n",
        "\n",
        "    Parameters\n",
        "    ----------\n",
        "    size : int\n",
        "        Number of qubits in the register.\n",
        "    shift : int, optional\n",
        "        Offset to add to every local index so the register can map\n",
        "        into a larger “global” set of qubits (default: 0).\n",
        "\n",
        "    Examples\n",
        "    --------\n",
        "    >>> qr = QuantumRegister(3, shift=2)   # represents qubits 2,3,4\n",
        "    >>> len(qr)\n",
        "    3\n",
        "    >>> qr[0], qr[1], qr[2]\n",
        "    (2, 3, 4)\n",
        "    >>> qr[-1]            # negative indexing works, like a list\n",
        "    4\n",
        "    >>> list(qr)          # iteration returns global indices\n",
        "    [2, 3, 4]\n",
        "    >>> qr[0:2]           # slicing returns a Python list of indices\n",
        "    [2, 3]\n",
        "    >>> list(reversed(qr))\n",
        "    [4, 3, 2]\n",
        "    \"\"\"\n",
        "    # ────────────────────────────────────────\n",
        "    def __init__(self, size: int, shift: int = 0) -> None:\n",
        "        self.size  = size   # number of qubits in *this* register\n",
        "        self.shift = shift  # start position inside a larger system\n",
        "\n",
        "    # ────────────────────────────────────────\n",
        "    def __getitem__(self, key):\n",
        "        \"\"\"\n",
        "        Support r[i]  and  r[i:j:k] just like a standard sequence.\n",
        "\n",
        "        • For an int, return the corresponding **global** qubit index.\n",
        "        • For a slice, return a *list* of global indices.\n",
        "        \"\"\"\n",
        "        if isinstance(key, slice):\n",
        "            # slice.indices(len) expands (i:j:k) into concrete bounds\n",
        "            return [self[ii] for ii in range(*key.indices(len(self)))]\n",
        "        elif isinstance(key, int):\n",
        "            # Enable negative indexing (-1 == last element, etc.)\n",
        "            if key < 0:\n",
        "                key += len(self)\n",
        "            # Validate bounds\n",
        "            assert 0 <= key < self.size, \"index out of range\"\n",
        "            # Map local index → global index via shift\n",
        "            return self.shift + key\n",
        "        else:\n",
        "            raise TypeError(\"Index must be int or slice\")\n",
        "\n",
        "    # ────────────────────────────────────────\n",
        "    def __len__(self) -> int:\n",
        "        \"\"\"`len(qr)` → number of qubits in the register.\"\"\"\n",
        "        return self.size\n",
        "\n",
        "    # ────────────────────────────────────────\n",
        "    def __iter__(self):\n",
        "        \"\"\"\n",
        "        Iterate over global qubit indices.\n",
        "        NOTE: returning a generator is lighter than materializing a list.\n",
        "        \"\"\"\n",
        "        return (self.shift + i for i in range(self.size))\n",
        "\n",
        "    # ────────────────────────────────────────\n",
        "    def __reversed__(self):\n",
        "        \"\"\"Iterate over global indices in reverse order.\"\"\"\n",
        "        return (self.shift + i for i in range(self.size - 1, -1, -1))"
      ],
      "metadata": {
        "id": "QP5BDNeBPcVy"
      },
      "execution_count": 31,
      "outputs": []
    },
    {
      "cell_type": "code",
      "source": [
        "class QuantumTransformation:\n",
        "    def __init__(self, gate, target, controls=None, name=None, arg=None):\n",
        "        self.gate = gate\n",
        "        self.target = target\n",
        "        self.controls = list(controls) if controls else []\n",
        "        self.name = name\n",
        "        self.arg = arg\n",
        "\n",
        "    def __str__(self):\n",
        "        arg_str = f' {round(self.arg, 2)}' if self.arg is not None else ''\n",
        "        return f'{self.name}{arg_str} {self.controls} {self.target}'\n",
        "\n",
        "    def __copy__(self):\n",
        "        return QuantumTransformation(\n",
        "            self.gate,\n",
        "            self.target,\n",
        "            self.controls.copy(),\n",
        "            self.name,\n",
        "            self.arg\n",
        "        )"
      ],
      "metadata": {
        "id": "9FcOD9ZLQB6P"
      },
      "execution_count": 32,
      "outputs": []
    },
    {
      "cell_type": "markdown",
      "source": [
        "## Partial implementation of the QuantumCircuit class"
      ],
      "metadata": {
        "id": "dhv0h1xFRTS0"
      }
    },
    {
      "cell_type": "code",
      "source": [
        "class QuantumCircuit:\n",
        "    \"\"\"\n",
        "    Minimal quantum-circuit container.\n",
        "\n",
        "    • Accepts one or more QuantumRegister objects at construction.\n",
        "      Each register is *re-based* (its ``shift`` is set) so that all qubits\n",
        "      form a single, contiguous address space.\n",
        "    • Stores a list of pending QuantumTransformation objects.\n",
        "      Calling ``run()`` walks through that list and mutates ``self.state``.\n",
        "    \"\"\"\n",
        "\n",
        "    # ───────────────────────── Constructor ─────────────────────────\n",
        "    def __init__(self, *args):\n",
        "        \"\"\"\n",
        "        Parameters\n",
        "        ----------\n",
        "        *args : QuantumRegister\n",
        "            One or more registers that collectively define the qubits\n",
        "            used in the circuit.\n",
        "\n",
        "        Side effects\n",
        "        ------------\n",
        "        • Each register's ``shift`` is overwritten to its starting bit index\n",
        "          in the global state vector.\n",
        "        • ``self.state`` is initialized to |0…0⟩ via ``init_state(bits)``.\n",
        "        \"\"\"\n",
        "\n",
        "        bits = 0            # total qubit count so far\n",
        "        regs = []           # list of register sizes (for later reference)\n",
        "\n",
        "        for register in args:\n",
        "            register.shift = bits          # anchor this register in the global\n",
        "            bits += register.size          # advance the cursor\n",
        "            regs.append(register.size)     # remember the span\n",
        "\n",
        "        self.state = init_state(bits)      # 2**bits-element state vector |0…0⟩\n",
        "        self.transformations = []          # queue of QuantumTransformation objs\n",
        "        self.regs = regs                   # convenience: [size1, size2, …]\n",
        "        self.reports = {}                  # user-defined metadata\n",
        "\n",
        "    # ───────────────────────── State management ────────────────────\n",
        "    def initialize(self, state):\n",
        "        \"\"\"Replace the internal state vector with an arbitrary one.\"\"\"\n",
        "        self.state = state\n",
        "\n",
        "    # ───────────────────────── Gate builders ───────────────────────\n",
        "    # Each method appends a QuantumTransformation to the queue.\n",
        "\n",
        "    def x(self, t):\n",
        "        \"\"\"Apply an X (NOT) gate to target qubit *t*.\"\"\"\n",
        "        self.transformations.append(\n",
        "            QuantumTransformation(x, t, [], 'x')\n",
        "        )\n",
        "\n",
        "    def h(self, t):\n",
        "        \"\"\"Apply a Hadamard gate to target qubit *t*.\"\"\"\n",
        "        self.transformations.append(\n",
        "            QuantumTransformation(h, t, [], 'h')\n",
        "        )\n",
        "\n",
        "    def ry(self, theta, t):\n",
        "        \"\"\"Apply a rotation Rᵧ(θ) to qubit *t*.\"\"\"\n",
        "        self.transformations.append(\n",
        "            QuantumTransformation(ry(theta), t, [], 'ry', theta)\n",
        "        )\n",
        "\n",
        "    def cx(self, c, t):\n",
        "        \"\"\"Apply a controlled-X (CNOT) with control *c* → target *t*.\"\"\"\n",
        "        self.transformations.append(\n",
        "            QuantumTransformation(x, t, [c], 'x')\n",
        "        )\n",
        "\n",
        "    def mcx(self, cs, t):\n",
        "        \"\"\"Multi-controlled X where *cs* is a list of controls.\"\"\"\n",
        "        self.transformations.append(\n",
        "            QuantumTransformation(x, t, cs, 'x')\n",
        "        )\n",
        "\n",
        "    # ───────────────────────── Measurement helper ──────────────────\n",
        "    def measure(self, shots: int = 0):\n",
        "        \"\"\"\n",
        "        Execute the queued gates, then sample.\n",
        "\n",
        "        Parameters\n",
        "        ----------\n",
        "        shots : int, optional\n",
        "            0 → return the final state vector only.\n",
        "            >0 → draw that many samples from the computational basis.\n",
        "\n",
        "        Returns\n",
        "        -------\n",
        "        dict with keys:\n",
        "            'state vector' : list[complex]\n",
        "            'counts'       : Counter-like dict (only if shots > 0)\n",
        "        \"\"\"\n",
        "        state = self.run()             # evolve state in-place\n",
        "        samples = measure(state, shots)\n",
        "        return {'state vector': state, 'counts': samples}\n",
        "\n",
        "    # ───────────────────────── Execution engine ────────────────────\n",
        "    def run(self):\n",
        "        \"\"\"\n",
        "        Walk through all queued QuantumTransformation objects and\n",
        "        apply them (in order) to ``self.state``.\n",
        "\n",
        "        After execution, the queue is cleared so that subsequent gate\n",
        "        additions start a fresh timestep.\n",
        "        \"\"\"\n",
        "        for tr in self.transformations:\n",
        "            cs = tr.controls\n",
        "            if len(cs) == 0:\n",
        "                transform(self.state, tr.target, tr.gate)\n",
        "            elif len(cs) == 1:\n",
        "                c_transform(self.state, cs[0], tr.target, tr.gate)\n",
        "            else:\n",
        "                mc_transform(self.state, cs, tr.target, tr.gate)\n",
        "\n",
        "        self.transformations = []      # reset queue\n",
        "        return self.state              # allow chaining"
      ],
      "metadata": {
        "id": "XWFItizvRVUU"
      },
      "execution_count": 33,
      "outputs": []
    },
    {
      "cell_type": "code",
      "source": [
        "q = QuantumRegister(3) # initialize a state with three qubits\n",
        "\n",
        "qc = QuantumCircuit(q) # add the qubits to the circuit\n",
        "\n",
        "qc.h(q[0]) # hadamard gate to qubit_0\n",
        "\n",
        "qc.h(q[1]) # hadamard gate to qubit_1\n",
        "\n",
        "qc.mcx([q[0], q[1]], q[2]) # multicontrolled X gate; target q_2, control q_1,0"
      ],
      "metadata": {
        "id": "7djgnYZFn0w_"
      },
      "execution_count": 34,
      "outputs": []
    },
    {
      "cell_type": "code",
      "source": [
        "# apply transformations to state and retrieve transformed state\n",
        "state = qc.run()"
      ],
      "metadata": {
        "id": "pMbp0crhoQq7"
      },
      "execution_count": 35,
      "outputs": []
    },
    {
      "cell_type": "code",
      "source": [
        "state"
      ],
      "metadata": {
        "colab": {
          "base_uri": "https://localhost:8080/"
        },
        "id": "zK_ivilzoUvg",
        "outputId": "956096e5-96bd-4199-d135-42cfe2bbf60e"
      },
      "execution_count": 36,
      "outputs": [
        {
          "output_type": "execute_result",
          "data": {
            "text/plain": [
              "[0.4999999999999999,\n",
              " 0.4999999999999999,\n",
              " 0.4999999999999999,\n",
              " 0.0,\n",
              " 0.0,\n",
              " 0.0,\n",
              " 0.0,\n",
              " 0.4999999999999999]"
            ]
          },
          "metadata": {},
          "execution_count": 36
        }
      ]
    },
    {
      "cell_type": "code",
      "source": [
        "# simulate measurement on the resulting state with the measure function\n",
        "samples = measure(state, 1000)\n",
        "\n",
        "print(samples)"
      ],
      "metadata": {
        "colab": {
          "base_uri": "https://localhost:8080/"
        },
        "id": "vy5OgLbyoYZo",
        "outputId": "c76badfa-d42d-4fb5-efa6-7d2bad0b873e"
      },
      "execution_count": 37,
      "outputs": [
        {
          "output_type": "stream",
          "name": "stdout",
          "text": [
            "{2: 245, 7: 238, 0: 267, 1: 250}\n"
          ]
        }
      ]
    },
    {
      "cell_type": "markdown",
      "source": [
        "## Reimplementing the uniform distribution with registers and circuits"
      ],
      "metadata": {
        "id": "MUy5vUeHomVq"
      }
    },
    {
      "cell_type": "code",
      "source": [
        "q = QuantumRegister(3) # initialize state with three qubits\n",
        "\n",
        "qc = QuantumCircuit(q) # add qubits to circuit\n",
        "\n",
        "for i in range(len(q)):\n",
        "  qc.h(q[i]) # apply hadamard gate to all qubits\n",
        "\n",
        "state = qc.run() # run transformations"
      ],
      "metadata": {
        "id": "5oFoCjB1onjx"
      },
      "execution_count": 38,
      "outputs": []
    },
    {
      "cell_type": "code",
      "source": [
        "state"
      ],
      "metadata": {
        "colab": {
          "base_uri": "https://localhost:8080/"
        },
        "id": "MEL7sQc8o15i",
        "outputId": "b0042682-9f06-4c04-e5ef-56346d61c7b8"
      },
      "execution_count": 39,
      "outputs": [
        {
          "output_type": "execute_result",
          "data": {
            "text/plain": [
              "[0.3535533905932737,\n",
              " 0.3535533905932737,\n",
              " 0.3535533905932737,\n",
              " 0.3535533905932737,\n",
              " 0.3535533905932737,\n",
              " 0.3535533905932737,\n",
              " 0.3535533905932737,\n",
              " 0.3535533905932737]"
            ]
          },
          "metadata": {},
          "execution_count": 39
        }
      ]
    },
    {
      "cell_type": "code",
      "source": [
        "# creating a function to apply uniform distribution\n",
        "def uniform(n):\n",
        "  q = QuantumRegister(n)\n",
        "  qc = QuantumCircuit(q)\n",
        "  for i in range(len(q)):\n",
        "    qc.h(q[i])\n",
        "  return qc"
      ],
      "metadata": {
        "id": "5A3b9lJno2o4"
      },
      "execution_count": 40,
      "outputs": []
    },
    {
      "cell_type": "markdown",
      "source": [
        "## Encoding the binomial distribution in a multi-qubit state\n",
        "\n",
        "We can encode a binomial distribution in a quantum state using RY rotations."
      ],
      "metadata": {
        "id": "jxle9WOOo_77"
      }
    },
    {
      "cell_type": "code",
      "source": [
        "# Ry transformation\n",
        "def ry(theta):\n",
        "    return [[cos(theta/2), -sin(theta/2)], [sin(theta/2), cos(theta/2)]]"
      ],
      "metadata": {
        "id": "QNcwfaxjptqv"
      },
      "execution_count": 42,
      "outputs": []
    },
    {
      "cell_type": "code",
      "source": [
        "q = QuantumRegister(3)\n",
        "qc = QuantumCircuit(q)\n",
        "\n",
        "for i in range(len(q)):\n",
        "  qc.ry(pi/3, q[i])\n",
        "\n",
        "state = qc.run()"
      ],
      "metadata": {
        "id": "jaFkHThLpAnd"
      },
      "execution_count": 43,
      "outputs": []
    },
    {
      "cell_type": "code",
      "source": [
        "state"
      ],
      "metadata": {
        "colab": {
          "base_uri": "https://localhost:8080/"
        },
        "id": "IXKFpuXgpvmC",
        "outputId": "11b1a4a0-c450-4a0b-c532-7ab2f5cfaaf0"
      },
      "execution_count": 44,
      "outputs": [
        {
          "output_type": "execute_result",
          "data": {
            "text/plain": [
              "[0.6495190528383291,\n",
              " 0.375,\n",
              " 0.375,\n",
              " 0.21650635094610962,\n",
              " 0.375,\n",
              " 0.21650635094610962,\n",
              " 0.21650635094610962,\n",
              " 0.12499999999999996]"
            ]
          },
          "metadata": {},
          "execution_count": 44
        }
      ]
    },
    {
      "cell_type": "code",
      "source": [
        "# function for encoding the binomial distribution in a quantum state\n",
        "def binomial(n, theta):\n",
        "  q = QuantumRegister(n)\n",
        "  qc = QuantumCircuit(q)\n",
        "  for i in range(len(q)):\n",
        "    qc.ry(theta, q[i]) # iterate through each qubit in register and apply Ry gate\n",
        "  return qc"
      ],
      "metadata": {
        "id": "3xwVWdokqEeI"
      },
      "execution_count": 45,
      "outputs": []
    },
    {
      "cell_type": "markdown",
      "source": [
        "## Implementing the Bell states"
      ],
      "metadata": {
        "id": "O0ia804-qgRQ"
      }
    },
    {
      "cell_type": "code",
      "source": [
        "# THE FIRST BELL STATE\n",
        "# only the outcomes '00' and '11' are possible\n",
        "\n",
        "q = QuantumRegister(2)\n",
        "\n",
        "qc = QuantumCircuit(q)\n",
        "\n",
        "qc.h(q[0])\n",
        "\n",
        "qc.cx(q[0], q[1])\n",
        "\n",
        "state = qc.run()"
      ],
      "metadata": {
        "id": "_oh0fomtqg3m"
      },
      "execution_count": 46,
      "outputs": []
    },
    {
      "cell_type": "code",
      "source": [
        "state"
      ],
      "metadata": {
        "colab": {
          "base_uri": "https://localhost:8080/"
        },
        "id": "s1fxTfFzuIFN",
        "outputId": "bc135923-bafc-484a-bef7-a57321bb6999"
      },
      "execution_count": 47,
      "outputs": [
        {
          "output_type": "execute_result",
          "data": {
            "text/plain": [
              "[0.7071067811865475, 0.0, 0.0, 0.7071067811865475]"
            ]
          },
          "metadata": {},
          "execution_count": 47
        }
      ]
    },
    {
      "cell_type": "code",
      "source": [
        "# THE THIRD BELL STATE\n",
        "# only the outcomes '01' and '10' are possible\n",
        "\n",
        "q = QuantumRegister(2)\n",
        "qc = QuantumCircuit(q)\n",
        "\n",
        "qc.h(q[0])\n",
        "qc.x(q[1])\n",
        "\n",
        "qc.cx(q[0], q[1])\n",
        "\n",
        "state = qc.run()"
      ],
      "metadata": {
        "id": "OUIVp7xkuIzK"
      },
      "execution_count": 48,
      "outputs": []
    },
    {
      "cell_type": "code",
      "source": [
        "state"
      ],
      "metadata": {
        "colab": {
          "base_uri": "https://localhost:8080/"
        },
        "id": "EL3VNQ1kuWJQ",
        "outputId": "eb4fdce8-4433-475a-86c6-596d31e05451"
      },
      "execution_count": 49,
      "outputs": [
        {
          "output_type": "execute_result",
          "data": {
            "text/plain": [
              "[0.0, 0.7071067811865475, 0.7071067811865475, 0.0]"
            ]
          },
          "metadata": {},
          "execution_count": 49
        }
      ]
    },
    {
      "cell_type": "code",
      "source": [
        "# THE SECOND BELL STATE\n",
        "q = QuantumRegister(2)\n",
        "\n",
        "qc = QuantumCircuit(q)\n",
        "\n",
        "qc.h(q[0])\n",
        "\n",
        "qc.cx(q[0], q[1])\n",
        "\n",
        "# Z = HXH\n",
        "qc.h(q[1])\n",
        "qc.x(q[1])\n",
        "qc.h(q[1])\n",
        "\n",
        "state = qc.run()\n",
        "\n",
        "state"
      ],
      "metadata": {
        "colab": {
          "base_uri": "https://localhost:8080/"
        },
        "id": "BINYKVD2uWxO",
        "outputId": "208b26b9-2886-48bb-cecc-547cc1355ea3"
      },
      "execution_count": 53,
      "outputs": [
        {
          "output_type": "execute_result",
          "data": {
            "text/plain": [
              "[0.7071067811865474, 0.0, 0.0, -0.7071067811865474]"
            ]
          },
          "metadata": {},
          "execution_count": 53
        }
      ]
    },
    {
      "cell_type": "code",
      "source": [
        "# FOURTH BELL STATE\n",
        "q  = QuantumRegister(2)\n",
        "qc = QuantumCircuit(q)\n",
        "\n",
        "qc.h(q[0])          # superposition             → (|00⟩+|10⟩)/√2\n",
        "qc.cx(q[0], q[1])   # entangle                  → (|00⟩+|11⟩)/√2  = Φ⁺\n",
        "qc.x(q[1])          # swap |0⟩↔|1⟩ on qubit-1   → (|01⟩+|10⟩)/√2  = Ψ⁺\n",
        "                    # flip phase of |10⟩        → (|01⟩−|10⟩)/√2  = Ψ⁻\n",
        "qc.h(q[0])\n",
        "qc.x(q[0])\n",
        "qc.h(q[0])\n",
        "\n",
        "state = qc.run()\n",
        "\n",
        "state"
      ],
      "metadata": {
        "colab": {
          "base_uri": "https://localhost:8080/"
        },
        "id": "ha1nTYluvkHT",
        "outputId": "1a4667f3-26a5-4642-ab18-dfa72f8b4b3c"
      },
      "execution_count": 54,
      "outputs": [
        {
          "output_type": "execute_result",
          "data": {
            "text/plain": [
              "[0.0, -0.7071067811865474, 0.7071067811865474, 0.0]"
            ]
          },
          "metadata": {},
          "execution_count": 54
        }
      ]
    }
  ]
}