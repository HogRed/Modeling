{
  "nbformat": 4,
  "nbformat_minor": 0,
  "metadata": {
    "colab": {
      "provenance": []
    },
    "kernelspec": {
      "name": "python3",
      "display_name": "Python 3"
    },
    "language_info": {
      "name": "python"
    }
  },
  "cells": [
    {
      "cell_type": "markdown",
      "source": [
        "## Intro to Probability Theory\n",
        "\n",
        "**Probability** is a measure of the likelihood that an event will occur. It is quantified as a number between [0, 1], where:\n",
        "- 0 indicates there is no way the event will occur\n",
        "- 1 indicates the event will certainly happen\n",
        "\n",
        "We use proability to help us in all sorts of fields from medicine, business, and modeling to see what we most believe will happen in a givens scenario.\n",
        "\n",
        "### Sample Space, Events, and Outcomes:\n",
        "- **Sample Space** (denoted 𝑆) is the set of all possible outcomes of an experiment.\n",
        "- The **event** (denoted 𝐸) is a subset of the sample space. It represents one or more outcomes.\n",
        "- An **outcome** is a single result from a sample space.\n",
        "\n",
        "So, how is this typically written? Well, let's look at a basic example of tossing a coin:\n",
        "\n",
        "Sample space:\n",
        "\n",
        "$S$ = {*Heads*,*Tails*}\n",
        "\n",
        "Event:\n",
        "\n",
        "$E$ ={*Heads*}\n",
        "\n",
        "**Let's simulate a simple experiment: tossing a fair coin 100 times!**\n"
      ],
      "metadata": {
        "id": "aiHebvstvuKq"
      }
    },
    {
      "cell_type": "code",
      "source": [
        "# Package imports\n",
        "import numpy as np\n",
        "import matplotlib.pyplot as plt\n",
        "\n",
        "# Define sample space\n",
        "sample_space = ['Heads', 'Tails']\n",
        "\n",
        "# Simulate 100 tosses\n",
        "n_tosses = 100\n",
        "\n",
        "# Randomly assign heads or tails to coin toss\n",
        "tosses = np.random.choice(sample_space, size=n_tosses)\n",
        "\n",
        "# Count occurrences\n",
        "heads_count = np.sum(tosses == 'Heads')\n",
        "tails_count = np.sum(tosses == 'Tails')\n",
        "\n",
        "# Print results\n",
        "print(f\"Heads: {heads_count}, Tails: {tails_count}\")\n",
        "\n",
        "# Visualize the results\n",
        "labels = ['Heads', 'Tails']\n",
        "counts = [heads_count, tails_count]\n",
        "\n",
        "# Plot experiment data\n",
        "plt.bar(labels, counts)\n",
        "plt.title('Coin Toss Results')\n",
        "plt.ylabel('Count')\n",
        "plt.show();\n",
        "\n",
        "# You can re-run to get different results!"
      ],
      "metadata": {
        "colab": {
          "base_uri": "https://localhost:8080/",
          "height": 469
        },
        "id": "oy_IVmE_1Eie",
        "outputId": "1712faf0-df98-4d8f-dc79-8d36d78e70c8"
      },
      "execution_count": null,
      "outputs": [
        {
          "output_type": "stream",
          "name": "stdout",
          "text": [
            "Heads: 46, Tails: 54\n"
          ]
        },
        {
          "output_type": "display_data",
          "data": {
            "text/plain": [
              "<Figure size 640x480 with 1 Axes>"
            ],
            "image/png": "[encoded data removed]"
          },
          "metadata": {}
        }
      ]
    },
    {
      "cell_type": "markdown",
      "source": [
        "## Basic Rules of Probability\n",
        "\n",
        "\n",
        "### Addition Rule:\n",
        "For two mutually exclusive events $( A )$ and $( B )$, the probability that either $( A )$ or $( B )$ occurs is given by:\n",
        "\n",
        "$$[P(A \\cup B) = P(A) + P(B)]$$\n",
        "Where $( P(A \\cup B) )$ is the probability of either event happening.\n",
        "\n",
        "When you hear the term mutually exclusive, think that the two events can't both happen.\n",
        "\n",
        "### Multiplication Rule:\n",
        "For two independent events $A$ and $B$, the probability of both events happening is the product of their probabilities:\n",
        "$$P(A \\cap B) = P(A) \\cdot P(B)$$\n",
        "\n",
        "Where $P(A \\cap B)$ is the probability of both events occurring.\n",
        "\n",
        "Independent events are those that, the likelihood of either happening is not affected by what happens with the other.\n",
        "\n",
        "### Complement Rule:\n",
        "The probability that an event $A$ does not occur is given by the complement of the event:\n",
        "\n",
        "$$P(A^c) = 1 - P(A)$$\n",
        "\n",
        "When you hear complement, just think the opposite of whatever the event you're currently looking at is.\n",
        "\n",
        "**Let's continue using our coin, but we'll also add in a dice!**\n",
        "\n"
      ],
      "metadata": {
        "id": "MzXtPL_Nw8wF"
      }
    },
    {
      "cell_type": "code",
      "source": [
        "# Simple experiment with a die roll and a coin toss\n",
        "\n",
        "# Sample spaces\n",
        "die_sample_space = np.arange(1, 7) # [1,6] <- dice\n",
        "\n",
        "coin_sample_space = ['Heads', 'Tails'] # H/T <- coin\n",
        "\n",
        "# Roll a die and toss a coin 100 times\n",
        "n_trials = 100\n",
        "\n",
        "# Assign outcomes from sample space randomly\n",
        "die_rolls = np.random.choice(die_sample_space, size=n_trials)\n",
        "coin_tosses = np.random.choice(coin_sample_space, size=n_trials)\n",
        "\n",
        "# Define event: Die roll = 6 and Coin toss = Heads\n",
        "event_die_6 = (die_rolls == 6)\n",
        "event_heads = (coin_tosses == 'Heads')\n",
        "\n",
        "# Probability of both events happening (Multiplication Rule)\n",
        "both_events = np.sum(event_die_6 & event_heads) / n_trials\n",
        "\n",
        "print(f\"Probability of rolling a 6 and getting Heads: {round(both_events,2)*100}%\")\n",
        "\n",
        "# Define event: Rolling a 4 or getting tails\n",
        "event_4 = (die_rolls == 4)\n",
        "event_tails = (coin_tosses == 'Tails')\n",
        "\n",
        "# Probability of either event happening (Addition Rule)\n",
        "either_event = np.sum((event_4 | event_tails)) / n_trials\n",
        "\n",
        "print(f\"Probability of rolling a 4 or getting Tails: {round(either_event,2)*100}%\")"
      ],
      "metadata": {
        "colab": {
          "base_uri": "https://localhost:8080/"
        },
        "id": "rjg8n9tk1i2O",
        "outputId": "6f6ba8fa-d124-4c16-a117-33b02e785d5a"
      },
      "execution_count": null,
      "outputs": [
        {
          "output_type": "stream",
          "name": "stdout",
          "text": [
            "Probability of rolling a 6 and getting Heads: 17.0%\n",
            "Probability of rolling a 4 or getting Tails: 48.0%\n"
          ]
        }
      ]
    },
    {
      "cell_type": "markdown",
      "source": [
        "## 3. **Conditional Probability**\n",
        "\n",
        "The probability of an event occurring given that another event has already occurred. It is denoted as $P(A|B)$ and calculated using the formula:\n",
        "\n",
        "$$P(A|B) = \\frac{P(A \\cap B)}{P(B)}$$\n",
        "\n",
        "Where:\n",
        "- $P(A|B)$ is the probability of $A$ occurring given $B$ has occurred.\n",
        "- $P(A \\cap B)$ is the probability of both $A$ and $B$ occurring.\n",
        "- $P(B)$ is the probability of $B$ occurring.\n",
        "\n",
        "## 4. **Bayes' Theorem**\n",
        "\n",
        "Bayes' Theorem relates conditional probabilities and is given by:\n",
        "\n",
        "$$P(A|B) = \\frac{P(B|A) \\cdot P(A)}{P(B)}$$\n",
        "\n",
        "Where:\n",
        "- $P(A|B)$ is the probability of $A$ given $B$.\n",
        "- $P(B|A)$ is the probability of $B$ given $A$.\n",
        "- $P(A)$ and $P(B)$ are the probabilities of $A$ and $B$ independently.\n",
        "\n",
        "### Example: Diagnostic Test\n",
        "Consider a medical test where:\n",
        "- $P(\\text{Positive Test}|\\text{Disease})$ is the probability of testing positive given a disease.\n",
        "- $P(\\text{Disease})$ is the overall probability of having the disease.\n",
        "\n",
        "Bayes' Theorem can be used to find the probability of having the disease given a positive test result. Let's take a look at that example below:\n",
        "\n",
        "$P(\\text{Positive Test}|\\text{Disease})$ = 95%\n",
        "\n",
        "$P(\\text{Disease})$ = 1%\n",
        "\n",
        "Given the probabilities we are given above, we can calculate a couple of others:\n",
        "\n",
        "$P(\\text{No Disease})$ = 1 - $P(\\text{Disease})$ = 0.99\n",
        "\n",
        "$P(\\text{Positive Test}|\\text{No Disease})$ = 1 - $P(\\text{Positive Test}|\\text{Disease})$ = 0.05\n",
        "\n",
        "**What's the probability of having the disease, given that you have a positive test result?**"
      ],
      "metadata": {
        "id": "RuoFFfgO1jaT"
      }
    },
    {
      "cell_type": "code",
      "execution_count": null,
      "metadata": {
        "colab": {
          "base_uri": "https://localhost:8080/"
        },
        "id": "VD16Y4IHvW7j",
        "outputId": "ad6143a5-aa70-4a6b-98b7-f21473568db7"
      },
      "outputs": [
        {
          "output_type": "stream",
          "name": "stdout",
          "text": [
            "Probability of having the disease given a positive test: 16.0%\n"
          ]
        }
      ],
      "source": [
        "# Known probabilities\n",
        "P_disease = 0.01  # Probability of having the disease\n",
        "P_positive_given_disease = 0.95  # Sensitivity (true positive rate)\n",
        "P_positive_given_no_disease = 0.05  # False positive rate\n",
        "P_no_disease = 1 - P_disease  # Probability of not having the disease\n",
        "\n",
        "# Apply Bayes' Theorem\n",
        "P_positive = ((P_positive_given_disease * P_disease)\n",
        "              + (P_positive_given_no_disease * P_no_disease))\n",
        "P_disease_given_positive = (P_positive_given_disease * P_disease) / P_positive\n",
        "\n",
        "print(f\"Probability of having the disease given a positive test: {round(P_disease_given_positive,2)*100}%\")"
      ]
    },
    {
      "cell_type": "markdown",
      "source": [
        "## 5. **Independence**\n",
        "\n",
        "### Definition:\n",
        "Two events $A$ and $B$ are **independent** if the occurrence of one does not affect the occurrence of the other. Formally, $A$ and $B$ are independent if:\n",
        "$$\n",
        "P(A \\cap B) = P(A) \\cdot P(B)\n",
        "$$\n",
        "\n",
        "**Let's see how we can check if two events are independent!**"
      ],
      "metadata": {
        "id": "nGE3Kvt72dPG"
      }
    },
    {
      "cell_type": "code",
      "source": [
        "# Probability of rolling a 6\n",
        "P_six = np.mean(die_rolls == 6)\n",
        "\n",
        "# Probability of getting Heads\n",
        "P_heads = np.mean(coin_tosses == 'Heads')\n",
        "\n",
        "# Probability of rolling a 6 and getting Heads\n",
        "P_six_and_heads = np.mean((die_rolls == 6) & (coin_tosses == 'Heads'))\n",
        "\n",
        "# Check for independence: P(A ∩ B) should equal P(A) * P(B)\n",
        "independent = np.isclose(P_six_and_heads, P_six * P_heads)\n",
        "\n",
        "print(f\"Are the events independent? {independent}\")"
      ],
      "metadata": {
        "colab": {
          "base_uri": "https://localhost:8080/"
        },
        "id": "4SNEN41E2rtg",
        "outputId": "5e212783-0c83-4ff4-b374-3da07ecd5d23"
      },
      "execution_count": null,
      "outputs": [
        {
          "output_type": "stream",
          "name": "stdout",
          "text": [
            "Are the events independent? False\n"
          ]
        }
      ]
    },
    {
      "cell_type": "markdown",
      "source": [
        "## Probability Distributions\n",
        "\n",
        "### Uniform Distribution:\n",
        "A **uniform distribution** is one in which all outcomes are equally likely. For a discrete uniform distribution with $n$ outcomes, the probability of any specific outcome is:\n",
        "$$\n",
        "P(x) = \\frac{1}{n}\n",
        "$$\n"
      ],
      "metadata": {
        "id": "wcpU1koW28L2"
      }
    },
    {
      "cell_type": "code",
      "source": [
        "# Package import\n",
        "from scipy.stats import uniform\n",
        "\n",
        "# Parameters for the uniform distribution\n",
        "\n",
        "a = 0  # Lower bound of the uniform distribution\n",
        "b = 10  # Upper bound of the uniform distribution\n",
        "\n",
        "# Generate values for the x-axis\n",
        "# 1000 points between a - 1 and b + 1 for smooth line\n",
        "x = np.linspace(a - 1, b + 1, 1000)\n",
        "\n",
        "# Get the PDF (probability density function) values for the uniform distribution\n",
        "# loc = lower bound; scale = diff b/w upper and lower bound of distribution\n",
        "pdf_values = uniform.pdf(x, loc=a, scale=b-a)\n",
        "\n",
        "# Plot uniform distribution\n",
        "plt.plot(x, pdf_values, color='purple')\n",
        "plt.fill_between(x, pdf_values, color='purple', alpha=0.25)\n",
        "plt.title('Uniform Distribution')\n",
        "plt.xlabel('x')\n",
        "plt.ylabel('Probability Density')\n",
        "plt.show();"
      ],
      "metadata": {
        "colab": {
          "base_uri": "https://localhost:8080/",
          "height": 472
        },
        "id": "3LIbf4d85u4Z",
        "outputId": "128922fd-954f-4658-9795-aa821cc19290"
      },
      "execution_count": null,
      "outputs": [
        {
          "output_type": "display_data",
          "data": {
            "text/plain": [
              "<Figure size 640x480 with 1 Axes>"
            ],
            "image/png": "[encoded data removed]"
          },
          "metadata": {}
        }
      ]
    },
    {
      "cell_type": "markdown",
      "source": [
        "### Binomial Distribution:\n",
        "The **binomial distribution** describes the number of successes in $n$ independent Bernoulli trials. The probability of getting exactly $k$ successes in $n$ trials is given by the formula:\n",
        "$$\n",
        "P(X = k) = \\binom{n}{k} p^k (1 - p)^{n - k}\n",
        "$$\n",
        "Where $p$ is the probability of success in a single trial."
      ],
      "metadata": {
        "id": "UCh-CiAa5vK7"
      }
    },
    {
      "cell_type": "code",
      "source": [
        "# Package imports\n",
        "from scipy.stats import binom\n",
        "import matplotlib.pyplot as plt\n",
        "\n",
        "# Parameters for the binomial distribution\n",
        "n_trials = 10  # Number of trials\n",
        "p_success = 0.5  # Probability of success in each trial\n",
        "\n",
        "# Create the binomial distribution\n",
        "x = np.arange(0, n_trials + 1)\n",
        "binomial_pmf = binom.pmf(x, n_trials, p_success)\n",
        "\n",
        "# Plot the distribution\n",
        "plt.bar(x, binomial_pmf, color='green')\n",
        "plt.title('Binomial Distribution: n=10, p=0.5')\n",
        "plt.xlabel('Number of Successes')\n",
        "plt.ylabel('Probability')\n",
        "plt.show()"
      ],
      "metadata": {
        "colab": {
          "base_uri": "https://localhost:8080/",
          "height": 472
        },
        "id": "jOiCfg2v3S-2",
        "outputId": "47eefa97-46c7-43dc-e5eb-172a833a797e"
      },
      "execution_count": null,
      "outputs": [
        {
          "output_type": "display_data",
          "data": {
            "text/plain": [
              "<Figure size 640x480 with 1 Axes>"
            ],
            "image/png": "[encoded data removed]"
          },
          "metadata": {}
        }
      ]
    },
    {
      "cell_type": "markdown",
      "source": [
        "### Normal Distribution:\n",
        "The **normal distribution** is a continuous distribution defined by its mean $\\mu$ and standard deviation $\\sigma$.\n",
        "\n",
        "The probability density function (PDF) is given by:\n",
        "$$\n",
        "f(x) = \\frac{1}{\\sqrt{2\\pi\\sigma^2}} e^{-\\frac{(x - \\mu)^2}{2\\sigma^2}}\n",
        "$$"
      ],
      "metadata": {
        "id": "G7oOr7y73nWd"
      }
    },
    {
      "cell_type": "code",
      "source": [
        "# Package import\n",
        "from scipy.stats import norm\n",
        "\n",
        "# Parameters for the normal distribution\n",
        "mu = 0  # Mean\n",
        "sigma = 1  # Standard deviation\n",
        "\n",
        "# Generate data points\n",
        "x = np.linspace(-3, 3, 100)\n",
        "normal_pdf = norm.pdf(x, mu, sigma)\n",
        "\n",
        "# Plot the normal distribution\n",
        "plt.plot(x, normal_pdf, color='purple')\n",
        "plt.title('Normal Distribution: $\\mu=0$, $\\sigma=1$')\n",
        "plt.xlabel('x')\n",
        "plt.ylabel('Probability Density')\n",
        "plt.show();"
      ],
      "metadata": {
        "colab": {
          "base_uri": "https://localhost:8080/",
          "height": 474
        },
        "id": "HGVhf9Lx3oQs",
        "outputId": "0fd21fe5-261f-4074-8b88-ad8e6e7c2b6d"
      },
      "execution_count": null,
      "outputs": [
        {
          "output_type": "display_data",
          "data": {
            "text/plain": [
              "<Figure size 640x480 with 1 Axes>"
            ],
            "image/png": "[encoded data removed]"
          },
          "metadata": {}
        }
      ]
    },
    {
      "cell_type": "markdown",
      "source": [
        "## Extra Word Problems You Can Study!\n",
        "\n",
        "### Binomial Word Problem\n",
        "\n",
        "#### Problem:\n",
        "A basketball player has a free throw success rate of 70\\% (i.e., they make 70\\% of their free throws). If the player takes 10 free throws in a game, what is the probability that the player makes exactly 7 of them?\n"
      ],
      "metadata": {
        "id": "SExqvgUM4Qj0"
      }
    },
    {
      "cell_type": "code",
      "source": [
        "# Package import\n",
        "from scipy.stats import binom\n",
        "\n",
        "# Parameters for the binomial distribution\n",
        "\n",
        "n = 10  # Number of trials (free throws)\n",
        "p = 0.70  # Probability of success (making a free throw)\n",
        "k = 7  # Number of successes (free throws made)\n",
        "\n",
        "# Calculate the probability of exactly 7 successes\n",
        "# PMF - probability mass function; probability at a specific point / density\n",
        "probability = binom.pmf(k, n, p)\n",
        "\n",
        "print(f\"The probability that the player makes exactly 7 free throws is: {100*probability:.4f}%\")"
      ],
      "metadata": {
        "colab": {
          "base_uri": "https://localhost:8080/"
        },
        "id": "JniZbz6y4hEj",
        "outputId": "3014c5d6-cac0-4985-e003-05783ca05dac"
      },
      "execution_count": null,
      "outputs": [
        {
          "output_type": "stream",
          "name": "stdout",
          "text": [
            "The probability that the player makes exactly 7 free throws is: 26.6828%\n"
          ]
        }
      ]
    },
    {
      "cell_type": "markdown",
      "source": [
        "### Normal Distribution Word Problem\n",
        "\n",
        "#### Problem:\n",
        "The heights of adult men in a city are normally distributed with a mean of 70 inches and a standard deviation of 3 inches. What is the probability that a randomly selected man is taller than 74 inches?"
      ],
      "metadata": {
        "id": "Uk1kQDW_4zL9"
      }
    },
    {
      "cell_type": "code",
      "source": [
        "# Package import\n",
        "from scipy.stats import norm\n",
        "\n",
        "# Parameters for the normal distribution\n",
        "\n",
        "mu = 70  # Mean height in inches\n",
        "sigma = 3  # Standard deviation in inches\n",
        "x = 74  # The height we're interested in (greater than 74 inches)\n",
        "\n",
        "# Calculate the z-score\n",
        "z_score = (x - mu) / sigma\n",
        "\n",
        "# Find the probability that height is greater than 74 inches\n",
        "# When you hear probability greater than a certain value, think CDF!\n",
        "# You can do 1 - CDF to get cumulative probs after a certain value.\n",
        "probability = 1 - norm.cdf(z_score)\n",
        "\n",
        "# Or you can calculate prob w/o converting to z-score, if you prefer\n",
        "probability = 1 - norm.cdf(x, loc=mu, scale=sigma)\n",
        "\n",
        "print(f\"The probability that a man is taller than 74 inches is: {100*probability:.4f}%\")"
      ],
      "metadata": {
        "colab": {
          "base_uri": "https://localhost:8080/"
        },
        "id": "GIwd-n5H44g7",
        "outputId": "2a4ce289-3e6a-431b-aed9-4ed2f91bc1a3"
      },
      "execution_count": null,
      "outputs": [
        {
          "output_type": "stream",
          "name": "stdout",
          "text": [
            "The probability that a man is taller than 74 inches is: 9.1211%\n"
          ]
        }
      ]
    }
  ]
}