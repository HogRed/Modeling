{
  "nbformat": 4,
  "nbformat_minor": 0,
  "metadata": {
    "colab": {
      "provenance": []
    },
    "kernelspec": {
      "name": "python3",
      "display_name": "Python 3"
    },
    "language_info": {
      "name": "python"
    }
  },
  "cells": [
    {
      "cell_type": "markdown",
      "source": [
        "# Selecting Outcomes With Quantum Oracles (Phase & Bit)\n",
        "\n",
        "- Notes from \"Building Quantum Software with Python\"\n",
        " - Link [here](https://www.manning.com/books/building-quantum-software-with-python)"
      ],
      "metadata": {
        "id": "2sUeJ29YxzzH"
      }
    },
    {
      "cell_type": "markdown",
      "source": [
        "## Phase oracles"
      ],
      "metadata": {
        "id": "zDbTkeGLyPgC"
      }
    },
    {
      "cell_type": "code",
      "execution_count": null,
      "metadata": {
        "id": "J-QIm8Lhxb_h"
      },
      "outputs": [],
      "source": [
        "# in a scenario with one good outcome,\n",
        "# 3, we can define the following predicate\n",
        "\n",
        "predicate = lambda k: True if k == 3 else False # classical"
      ]
    },
    {
      "cell_type": "code",
      "source": [
        "n = 3\n",
        "\n",
        "print(f'\\nGood outcomes: {[k for k in range(2**n) if predicate(k)]}')"
      ],
      "metadata": {
        "colab": {
          "base_uri": "https://localhost:8080/"
        },
        "id": "_ldXLZjzycQa",
        "outputId": "3f0db12c-859a-4e33-b8ca-710abb4401a7"
      },
      "execution_count": null,
      "outputs": [
        {
          "output_type": "stream",
          "name": "stdout",
          "text": [
            "\n",
            "Good outcomes: [3]\n"
          ]
        }
      ]
    },
    {
      "cell_type": "code",
      "source": [
        "def classical_phase_oracle(state, predicate):\n",
        "  for item in range(len(state)): # iterate through\n",
        "    if predicate(item):\n",
        "      state[item] *= -1 # if true / good, multiply by -1"
      ],
      "metadata": {
        "id": "bDSGExJhyxlv"
      },
      "execution_count": null,
      "outputs": []
    },
    {
      "cell_type": "code",
      "source": [
        "# uniform superposition; magnitudes of all amplitudes are equal:\n",
        "from math import sqrt\n",
        "n = 3\n",
        "state = [1/sqrt(2**n) for _ in range(2**n)]\n",
        "\n",
        "state"
      ],
      "metadata": {
        "colab": {
          "base_uri": "https://localhost:8080/"
        },
        "id": "XksOsuhny_Ww",
        "outputId": "c1535f44-aa4d-4425-aa36-f90a8fb63130"
      },
      "execution_count": null,
      "outputs": [
        {
          "output_type": "execute_result",
          "data": {
            "text/plain": [
              "[0.35355339059327373,\n",
              " 0.35355339059327373,\n",
              " 0.35355339059327373,\n",
              " 0.35355339059327373,\n",
              " 0.35355339059327373,\n",
              " 0.35355339059327373,\n",
              " 0.35355339059327373,\n",
              " 0.35355339059327373]"
            ]
          },
          "metadata": {},
          "execution_count": 4
        }
      ]
    },
    {
      "cell_type": "code",
      "source": [
        "# apply classical phase oracle\n",
        "classical_phase_oracle(state, predicate)"
      ],
      "metadata": {
        "id": "trkBWFcOzLsR"
      },
      "execution_count": null,
      "outputs": []
    },
    {
      "cell_type": "code",
      "source": [
        "state"
      ],
      "metadata": {
        "colab": {
          "base_uri": "https://localhost:8080/"
        },
        "id": "DJgqftwUzQIt",
        "outputId": "63fef2f9-a087-4ed1-afac-dd7f343e46a1"
      },
      "execution_count": null,
      "outputs": [
        {
          "output_type": "execute_result",
          "data": {
            "text/plain": [
              "[0.35355339059327373,\n",
              " 0.35355339059327373,\n",
              " 0.35355339059327373,\n",
              " -0.35355339059327373,\n",
              " 0.35355339059327373,\n",
              " 0.35355339059327373,\n",
              " 0.35355339059327373,\n",
              " 0.35355339059327373]"
            ]
          },
          "metadata": {},
          "execution_count": 6
        }
      ]
    },
    {
      "cell_type": "code",
      "source": [
        "n = 4 # 4 qubits in a uniform superposition\n",
        "\n",
        "state = [1/sqrt(2**n) for _ in range(2**n)]\n",
        "\n",
        "predicate = lambda k: True if k in [2, 9] else False # in this ex., good outcomes are 2 & 9\n",
        "\n",
        "classical_phase_oracle(state, predicate)\n",
        "\n",
        "state"
      ],
      "metadata": {
        "colab": {
          "base_uri": "https://localhost:8080/"
        },
        "id": "Trvew06Uzar7",
        "outputId": "a64a7aca-f284-43a1-ab05-5cb4cef6bca3"
      },
      "execution_count": null,
      "outputs": [
        {
          "output_type": "execute_result",
          "data": {
            "text/plain": [
              "[0.25,\n",
              " 0.25,\n",
              " -0.25,\n",
              " 0.25,\n",
              " 0.25,\n",
              " 0.25,\n",
              " 0.25,\n",
              " 0.25,\n",
              " 0.25,\n",
              " -0.25,\n",
              " 0.25,\n",
              " 0.25,\n",
              " 0.25,\n",
              " 0.25,\n",
              " 0.25,\n",
              " 0.25]"
            ]
          },
          "metadata": {},
          "execution_count": 7
        }
      ]
    },
    {
      "cell_type": "markdown",
      "source": [
        "## Bit Oracles"
      ],
      "metadata": {
        "id": "zt0nIOQhzrWW"
      }
    },
    {
      "cell_type": "code",
      "source": [
        "def classical_bit_oracle(state, predicate):\n",
        "    \"\"\"\n",
        "    Extend a computational-basis superposition |ψ⟩ with an\n",
        "    extra |0⟩ tag qubit and XOR the predicate result into it.\n",
        "\n",
        "    Args:\n",
        "        state (list[complex]): amplitudes for N basis states.\n",
        "        predicate (Callable[[int], bool]): classical function f(i).\n",
        "\n",
        "    Returns:\n",
        "        list[complex]: amplitudes for 2 × N basis states ordered\n",
        "                       as |x, tag⟩ with tag ∈ {0,1}.\n",
        "    \"\"\"\n",
        "    N = len(state)\n",
        "    extended = state + [0] * N       # |ψ⟩|0⟩\n",
        "\n",
        "    for i in range(N):\n",
        "        if predicate(i):\n",
        "            extended[N + i] = extended[i]   # put amp in |i,1⟩\n",
        "            extended[i] = 0                 # remove it from |i,0⟩\n",
        "\n",
        "    return extended"
      ],
      "metadata": {
        "id": "5APgTMqozsIC"
      },
      "execution_count": null,
      "outputs": []
    },
    {
      "cell_type": "code",
      "source": [
        "# apply this oracle to a state with n = 3 qubits, where 3 is the good state\n",
        "predicate = lambda k: True if k == 3 else False\n",
        "n = 3\n",
        "\n",
        "state = [1/sqrt(2**n) for _ in range(2**n)]\n",
        "\n",
        "tag_state = classical_bit_oracle(state, predicate)\n",
        "\n",
        "tag_state"
      ],
      "metadata": {
        "colab": {
          "base_uri": "https://localhost:8080/"
        },
        "id": "2vsa8hhphT11",
        "outputId": "f524b533-85bd-4d43-c866-01b3a6d6ccee"
      },
      "execution_count": null,
      "outputs": [
        {
          "output_type": "execute_result",
          "data": {
            "text/plain": [
              "[0.35355339059327373,\n",
              " 0.35355339059327373,\n",
              " 0.35355339059327373,\n",
              " 0,\n",
              " 0.35355339059327373,\n",
              " 0.35355339059327373,\n",
              " 0.35355339059327373,\n",
              " 0.35355339059327373,\n",
              " 0,\n",
              " 0,\n",
              " 0,\n",
              " 0.35355339059327373,\n",
              " 0,\n",
              " 0,\n",
              " 0,\n",
              " 0]"
            ]
          },
          "metadata": {},
          "execution_count": 20
        }
      ]
    },
    {
      "cell_type": "code",
      "source": [
        "from math import sqrt, cos, sin, pi\n",
        "\n",
        "import random\n",
        "\n",
        "\n",
        "def generate_state(n, seed=555):\n",
        "    # Choose a seed\n",
        "    random.seed(seed)\n",
        "    # Generate random probabilities that add up to 1\n",
        "    probs = [random.random() for _ in range(2 ** n)]\n",
        "    total = sum(probs)\n",
        "    probs = [p / total for p in probs]\n",
        "    # Generate random angles in radians\n",
        "    angles = [random.uniform(0, 2 * pi) for _ in range(2 ** n)]\n",
        "    # Build the quantum state array\n",
        "    return [sqrt(p) * (cos(a) + 1j * sin(a)) for (p, a) in zip(probs, angles)]"
      ],
      "metadata": {
        "id": "ftOTIkR2mwPv"
      },
      "execution_count": null,
      "outputs": []
    },
    {
      "cell_type": "code",
      "source": [
        "# apply this oracle to a random state generated using our generate_state\n",
        "# function\n",
        "\n",
        "n = 3 # signle good outcome, 3\n",
        "\n",
        "state = generate_state(n, seed=777)\n",
        "state = classical_bit_oracle(state, predicate)\n",
        "\n",
        "state"
      ],
      "metadata": {
        "colab": {
          "base_uri": "https://localhost:8080/"
        },
        "id": "jhCvMm-U_yOa",
        "outputId": "6ebd1366-b92b-4573-f202-077667cbe56b"
      },
      "execution_count": null,
      "outputs": [
        {
          "output_type": "execute_result",
          "data": {
            "text/plain": [
              "[(-0.16733824602949593-0.16163956867439347j),\n",
              " (-0.24934970824006517+0.20736014882528672j),\n",
              " (-0.07149604906669824+0.28616096772648136j),\n",
              " 0,\n",
              " (0.2542744908533219-0.12117775554169502j),\n",
              " (-0.15028894220684266-0.39367692825666034j),\n",
              " (0.35615637042469733-0.3015546510155862j),\n",
              " (0.3691694024051929+0.2811262289970899j),\n",
              " 0,\n",
              " 0,\n",
              " 0,\n",
              " (0.25213320773536324-0.010848356345614402j),\n",
              " 0,\n",
              " 0,\n",
              " 0,\n",
              " 0]"
            ]
          },
          "metadata": {},
          "execution_count": 24
        }
      ]
    },
    {
      "cell_type": "code",
      "source": [
        "# Create a random state with n = 4 qubits, and apply a bit oracle for good outcome 11\n",
        "\n",
        "\n",
        "n = 4 # signle good outcome, 3\n",
        "predicate = lambda k: True if k == 11 else False # good state of 11\n",
        "\n",
        "\n",
        "state = generate_state(n, seed=777)\n",
        "state = classical_bit_oracle(state, predicate)\n",
        "\n",
        "state"
      ],
      "metadata": {
        "colab": {
          "base_uri": "https://localhost:8080/"
        },
        "id": "fVQQGbDmnKE1",
        "outputId": "51f90fc8-9722-4abd-af86-1f5f40176fb9"
      },
      "execution_count": null,
      "outputs": [
        {
          "output_type": "execute_result",
          "data": {
            "text/plain": [
              "[(-0.009909016959430719-0.15806007428341345j),\n",
              " (0.20180135144082675-0.08949269822719456j),\n",
              " (0.20077209451055392+0.0015488043525347123j),\n",
              " (-0.10674926679756096-0.13459261468416647j),\n",
              " (-0.10095794947444352+0.163002822190022j),\n",
              " (-0.24738881668740878-0.1451758434437566j),\n",
              " (0.24834048374014075+0.1980852466564266j),\n",
              " (-0.15896645629682016-0.27294405551017986j),\n",
              " (0.06536877272351427+0.25254447049462386j),\n",
              " (-0.2064111407090093-0.0014874318674361663j),\n",
              " (0.07000381669897351-0.16340852544775078j),\n",
              " 0,\n",
              " (-0.2725805127846052-0.16530046947119742j),\n",
              " (0.2688011709428538+0.05849959077838427j),\n",
              " (-0.24060396523025246-0.1981060633349655j),\n",
              " (-0.09433763716866593-0.049282000378601025j),\n",
              " 0,\n",
              " 0,\n",
              " 0,\n",
              " 0,\n",
              " 0,\n",
              " 0,\n",
              " 0,\n",
              " 0,\n",
              " 0,\n",
              " 0,\n",
              " 0,\n",
              " (0.1444309985144392-0.29623717370074093j),\n",
              " 0,\n",
              " 0,\n",
              " 0,\n",
              " 0]"
            ]
          },
          "metadata": {},
          "execution_count": 25
        }
      ]
    },
    {
      "cell_type": "code",
      "source": [
        "# sanity-check in code\n",
        "good = 11\n",
        "N = 2**4                      # 16\n",
        "assert state[good] == 0 # check that value in normal index is 0\n",
        "assert abs(state[N+good]) > 0 # Check the value at 27th index is non-zero\n",
        "assert abs(sum(abs(a)**2 for a in state) - 1) < 1e-12 # check norms / that probability is conserved"
      ],
      "metadata": {
        "id": "gFvjAwGWn7g7"
      },
      "execution_count": null,
      "outputs": []
    },
    {
      "cell_type": "markdown",
      "source": [
        "## Quantum implementation of oracles"
      ],
      "metadata": {
        "id": "KjJo5qA6nwZn"
      }
    },
    {
      "cell_type": "code",
      "source": [
        "### CODE FROM PAST NOTEBOOKS (CAN SKIP)\n",
        "from math import cos, sin, pi, atan2, log2, floor, log10\n",
        "\n",
        "def is_close_float(a, b, rtol=1e-5, atol=1e-8):\n",
        "    return abs(a - b) < atol + rtol * abs(b)\n",
        "\n",
        "\n",
        "def is_close(a, b):\n",
        "    if isinstance(a, float):\n",
        "        a = complex(a, 0)\n",
        "\n",
        "    if isinstance(b, float):\n",
        "        b = complex(b, 0)\n",
        "\n",
        "    return is_close_float(a.real, b.real) and is_close_float(a.imag, b.imag)\n",
        "\n",
        "\n",
        "def all_close(state1, state2):\n",
        "    for (a, b) in zip(state1, state2):\n",
        "        if not is_close(a, b):\n",
        "            return False\n",
        "    return True\n",
        "\n",
        "\n",
        "def cis(theta):\n",
        "    return cos(theta) + 1j*sin(theta)\n",
        "\n",
        "\n",
        "def complex_to_rgb(c, ints=False):\n",
        "    a = c.real\n",
        "    b = c.imag\n",
        "\n",
        "    hue = atan2(b, a)/pi*180\n",
        "    if hue < 0:\n",
        "        hue += 360\n",
        "\n",
        "    rgb = scalarMap.to_rgba(hue)[:3]\n",
        "\n",
        "    if ints:\n",
        "        r, g, b = tuple([int(round(c * 255.0)) for c in rgb])\n",
        "        return r, g, b\n",
        "    else:\n",
        "        return rgb\n",
        "\n",
        "\n",
        "def print_state_table(state, decimals=4, symbol='\\u2588'):\n",
        "    print(state_table_to_string(state, decimals, symbol))\n",
        "\n",
        "\n",
        "def state_table_to_string(state, decimals=4, symbol='\\u2588'):\n",
        "    assert(decimals <= 10)\n",
        "    n = int(log2(len(state)))\n",
        "    round_state = [round(state[k].real, decimals) + 1j * round(state[k].imag, decimals) for k in range(len(state))]\n",
        "\n",
        "    headers = ['Outcome', 'Binary', 'Amplitude', 'Direction', 'Magnitude', 'Amplitude Bar', 'Probability']\n",
        "    offsets = [max(len(headers[0]), floor(log10(len(state)))),               # outcome\n",
        "               max(len(headers[1]), n),                                      # binary\n",
        "               max(len(headers[2]), 2*(decimals + 2) + 6),                   # amplitude\n",
        "               max(len(headers[4]), decimals),                               # direction\n",
        "               max(len(headers[3]), (decimals + 2)),                         # magnitude\n",
        "               max(len(headers[5]), 24),                                     # amplitude bar\n",
        "               max(len(headers[6]), decimals + 2),                           # probability\n",
        "               ]\n",
        "\n",
        "    for i in range(len(offsets)):\n",
        "        headers[i] = headers[i] + ' '*(offsets[i] - len(headers[i]))\n",
        "\n",
        "    header_str = '  '.join(headers)\n",
        "\n",
        "    output = '\\n' + header_str + '\\n' + len(header_str) * '-' + '\\n'\n",
        "\n",
        "    for k in range(len(round_state)):\n",
        "        direction = round(atan2(round_state[k].imag, round_state[k].real) * 180 / pi, 2)\n",
        "\n",
        "        output += '  '.join([str(k).ljust(offsets[0], ' '),\n",
        "\n",
        "                             str(bin(k)[2:].zfill(n)).ljust(offsets[1] - 1, ' '),\n",
        "\n",
        "                             ((' ' if round_state[k].real >= 0 else '-') +\n",
        "                              str(abs(round_state[k].real)).ljust(decimals + 2, '0') +\n",
        "                              (' + ' if round_state[k].imag >= 0 else ' - ') + 'i' +\n",
        "                              str(abs(round_state[k].imag)).ljust(decimals + 2, '0')).ljust(offsets[2] + 1, ' '),\n",
        "\n",
        "                             (str(((' ' if direction >= 0 else '-') + str(floor(abs(direction)))).rjust(4, ' ') +\n",
        "                                  '.' + str(int(100*round(abs(direction) - floor(abs(direction)), 2))).ljust(2, '0')) + '\\u00b0' if\n",
        "                              abs(round_state[k]) > 0 else offsets[4] * ' ').ljust(offsets[4], ' '),\n",
        "\n",
        "                             str(round(abs(state[k]), decimals)).ljust(decimals + 2, ' ').ljust(offsets[3], ' '),\n",
        "\n",
        "                             (int(abs(state[k] * 24)) * symbol).ljust(offsets[5], ' '),\n",
        "\n",
        "                             str(round(abs(state[k]) ** 2, decimals)).ljust(decimals + 2, ' ')\n",
        "                             ])\n",
        "        output += '\\n'\n",
        "\n",
        "    return output\n",
        "\n",
        "\n",
        "def init_state(n):\n",
        "    state = [0 for _ in range(2 ** n)]\n",
        "    state[0] = 1\n",
        "    return state\n",
        "\n",
        "x = [[0, 1], [1, 0]]\n",
        "\n",
        "z = [[1, 0], [0, -1]]\n",
        "\n",
        "\n",
        "def phase(theta):\n",
        "    return [[1, 0], [0, complex(cos(theta), sin(theta))]]\n",
        "\n",
        "\n",
        "h = [[1/sqrt(2), 1/sqrt(2)], [1/sqrt(2), -1/sqrt(2)]]\n",
        "\n",
        "\n",
        "def rz(theta):\n",
        "    return [[complex(cos(theta / 2), -sin(theta / 2)), 0], [0, complex(cos(theta / 2), sin(theta / 2))]]\n",
        "\n",
        "\n",
        "y = [[0, complex(0, -1)], [complex(0, 1), 0]]\n",
        "\n",
        "\n",
        "def rx(theta):\n",
        "    return [[cos(theta/2), complex(0, -sin(theta/2))], [complex(0, -sin(theta/2)), cos(theta/2)]]\n",
        "\n",
        "\n",
        "def ry(theta):\n",
        "    return [[cos(theta/2), -sin(theta/2)], [sin(theta/2), cos(theta/2)]]\n",
        "\n",
        "def prepare_state(*a):\n",
        "    state = [a[k] for k in range(len(a))]\n",
        "    assert(len(state) == 2)\n",
        "    assert(is_close(sum([abs(state[k])**2 for k in range(len(state))]), 1))\n",
        "    return state\n",
        "\n",
        "\n",
        "def transform(state, target, gate):\n",
        "    \"\"\"\n",
        "    In-place apply a single-qubit gate 'gate' to qubit 'target'\n",
        "    of the full state vector 'state'.  No copying, O(2ⁿ).\n",
        "    \"\"\"\n",
        "    mask = 1 << target\n",
        "    for i in range(0, len(state), 2*mask):\n",
        "        for j in range(mask):\n",
        "            k0 = i + j           # |..0..〉 (target bit = 0)\n",
        "            k1 = k0 + mask       # |..1..〉 (target bit = 1)\n",
        "\n",
        "            a0 = state[k0]\n",
        "            a1 = state[k1]\n",
        "\n",
        "            state[k0] = gate[0][0]*a0 + gate[0][1]*a1\n",
        "            state[k1] = gate[1][0]*a0 + gate[1][1]*a1\n",
        "\n",
        "def c_transform(state, control, target, gate):\n",
        "    mask_t = 1 << target\n",
        "    mask_c = 1 << control\n",
        "    for i in range(len(state)):\n",
        "        if (i & mask_c):                  # control qubit is |1〉\n",
        "            j = i ^ mask_t               # flip target bit only\n",
        "            a0, a1 = state[i & ~mask_t], state[i | mask_t]\n",
        "            state[i & ~mask_t] = gate[0][0]*a0 + gate[0][1]*a1\n",
        "            state[i |  mask_t] = gate[1][0]*a0 + gate[1][1]*a1\n",
        "\n",
        "def mc_transform(state, controls, target, gate):\n",
        "    mask_t = 1 << target\n",
        "    mask_c = sum(1 << c for c in controls)\n",
        "    for i in range(len(state)):\n",
        "        if (i & mask_c) == mask_c:        # *all* controls are |1〉\n",
        "            j = i ^ mask_t\n",
        "            a0, a1 = state[i & ~mask_t], state[i | mask_t]\n",
        "            state[i & ~mask_t] = gate[0][0]*a0 + gate[0][1]*a1\n",
        "            state[i |  mask_t] = gate[1][0]*a0 + gate[1][1]*a1\n",
        "\n",
        "class QuantumRegister:\n",
        "    def __init__(self, size, shift=0):\n",
        "        self.size = size\n",
        "        self.shift = shift\n",
        "\n",
        "    def __getitem__(self, key):\n",
        "        if isinstance(key, slice):\n",
        "            return [self[ii] for ii in range(*key.indices(len(self)))]\n",
        "        elif isinstance(key, int):\n",
        "            if key < 0:\n",
        "                key += len(self)\n",
        "            assert(0 <= key < self.size)\n",
        "            return self.shift + key\n",
        "\n",
        "    def __len__(self):\n",
        "        return self.size\n",
        "\n",
        "    def __iter__(self):\n",
        "        return list([self.shift + i for i in range(self.size)])\n",
        "\n",
        "    def __reversed__(self):\n",
        "        return list([self.shift + i for i in range(self.size)[::-1]])\n",
        "\n",
        "\n",
        "class QuantumTransformation:\n",
        "    def __init__(self, gate, target, controls=[], name=None, arg=None):\n",
        "        self.gate = gate\n",
        "        self.target = target\n",
        "        self.controls = controls\n",
        "        self.name = name\n",
        "        self.arg = arg\n",
        "\n",
        "    def __str__(self):\n",
        "        return rf'{self.name} {round(self.arg, 2) if self.arg is not None else \"\"} {self.controls} {self.target}'\n",
        "\n",
        "    def __copy__(self):\n",
        "        return QuantumTransformation(self.gate, self.target, self.controls, self.name, self.arg)\n",
        "\n",
        "\n",
        "class QuantumCircuit:\n",
        "    def __init__(self, *args):\n",
        "        bits = 0\n",
        "        regs = []\n",
        "        for register in args:\n",
        "            register.shift = bits\n",
        "            bits += register.size\n",
        "            regs.append(register.size)\n",
        "\n",
        "        self.state = init_state(bits)\n",
        "        self.transformations = []\n",
        "        self.regs = regs\n",
        "        self.reports = {}\n",
        "\n",
        "    def x(self, t):\n",
        "        self.transformations.append(QuantumTransformation(x, t, [], 'x'))\n",
        "\n",
        "    def y(self, t):\n",
        "        self.transformations.append(QuantumTransformation(y, t, [], 'y'))\n",
        "\n",
        "    def z(self, t):\n",
        "        self.transformations.append(QuantumTransformation(z, t, [], 'z'))\n",
        "\n",
        "    def h(self, t):\n",
        "        self.transformations.append(QuantumTransformation(h, t, [], 'h'))\n",
        "\n",
        "    def p(self, theta, t):\n",
        "        self.transformations.append(QuantumTransformation(phase(theta), t, [], 'p', theta))\n",
        "\n",
        "    def rx(self, theta, t):\n",
        "        self.transformations.append(QuantumTransformation(rx(theta), t, [], 'rx', theta))\n",
        "\n",
        "    def ry(self, theta, t):\n",
        "        self.transformations.append(QuantumTransformation(ry(theta), t, [], 'ry', theta))\n",
        "\n",
        "    def rz(self, theta, t):\n",
        "        self.transformations.append(QuantumTransformation(rz(theta), t, [], 'rz', theta))\n",
        "\n",
        "    def cx(self, c, t):\n",
        "        self.transformations.append(QuantumTransformation(x, t, [c], 'x'))\n",
        "\n",
        "    def cy(self, c, t):\n",
        "        self.transformations.append(QuantumTransformation(y, t, [c], 'y'))\n",
        "\n",
        "    def cz(self, c, t):\n",
        "        self.transformations.append(QuantumTransformation(z, t, [c], 'z'))\n",
        "\n",
        "    def cp(self, theta, c, t):\n",
        "        self.transformations.append(QuantumTransformation(phase(theta), t, [c], 'p', theta))\n",
        "\n",
        "    def cry(self, theta, c, t):\n",
        "        self.transformations.append(QuantumTransformation(ry(theta), t, [c], 'ry', theta))\n",
        "\n",
        "    def mcx(self, cs, t):\n",
        "        self.transformations.append(QuantumTransformation(x, t, cs, 'x'))\n",
        "\n",
        "    def mcp(self, theta, cs, t):\n",
        "        self.transformations.append(QuantumTransformation(phase(theta), t, cs, 'p', theta))\n",
        "\n",
        "    def measure(self, shots=0):\n",
        "        state = self.run()\n",
        "        samples = measure(state, shots)\n",
        "        return {'state vector': state, 'counts': samples}\n",
        "\n",
        "    def run(self):\n",
        "        for tr in self.transformations:\n",
        "            cs = tr.controls\n",
        "            if len(cs) == 0:\n",
        "                transform(self.state, tr.target, tr.gate)\n",
        "            elif len(cs) == 1:\n",
        "                c_transform(self.state, cs[0], tr.target, tr.gate)\n",
        "            else:\n",
        "                mc_transform(self.state, cs, tr.target, tr.gate)\n",
        "        self.transformations = []\n",
        "        return self.state\n",
        "\n",
        "class QuantumRegister(QuantumRegister):\n",
        "    pass\n",
        "\n",
        "\n",
        "class QuantumTransformation(QuantumTransformation):\n",
        "    pass\n",
        "\n",
        "class QuantumCircuit(QuantumCircuit):\n",
        "\n",
        "    def initialize(self, state):\n",
        "        self.state = state\n",
        "\n",
        "    def append(self, circuit, reg):\n",
        "        assert(reg.size == sum(circuit.regs))\n",
        "        for tr in circuit.transformations:\n",
        "            self.transformations.append(QuantumTransformation(tr.gate, reg.shift + tr.target, tr.controls, tr.name, tr.arg))\n",
        "\n",
        "    def c_append(self, circuit, c, reg):\n",
        "        assert(c not in range(reg.shift, reg.shift + reg.size))\n",
        "        for tr in circuit.transformations:\n",
        "            self.transformations.append(QuantumTransformation(tr.gate, reg.shift + tr.target,\n",
        "                                                              [c] + [reg.shift + t for t in tr.controls],\n",
        "                                                              tr.name, tr.arg))"
      ],
      "metadata": {
        "id": "pZVjWrVxo2Bp"
      },
      "execution_count": null,
      "outputs": []
    },
    {
      "cell_type": "code",
      "source": [
        "# ------------------------------------------------------------\n",
        "#  Single-, controlled-, and multi-controlled 2×2 gate helpers\n",
        "# ------------------------------------------------------------\n",
        "def _apply_2x2_pair(state, k0, k1, gate):\n",
        "    \"\"\"In-place apply a 2×2 gate to amplitudes (k0,k1).\"\"\"\n",
        "    a0, a1 = state[k0], state[k1]\n",
        "    state[k0] = gate[0][0]*a0 + gate[0][1]*a1\n",
        "    state[k1] = gate[1][0]*a0 + gate[1][1]*a1\n",
        "\n",
        "\n",
        "def transform(state, target, gate):\n",
        "    \"\"\"Apply *gate* to qubit *target* of the whole register.\"\"\"\n",
        "    mask = 1 << target\n",
        "    for base in range(0, len(state), 2*mask):\n",
        "        for j in range(mask):\n",
        "            _apply_2x2_pair(state,\n",
        "                            base + j,\n",
        "                            base + j + mask,\n",
        "                            gate)\n",
        "\n",
        "\n",
        "def c_transform(state, control, target, gate):\n",
        "    \"\"\"Controlled-gate: act only when *control* qubit is |1⟩.\"\"\"\n",
        "    mask_c = 1 << control\n",
        "    mask_t = 1 << target\n",
        "    for i in range(len(state)):\n",
        "        if i & mask_c:                       # control qubit in state |1>\n",
        "            if not (i & mask_t):             # target currently |0>\n",
        "                _apply_2x2_pair(state,\n",
        "                                i,\n",
        "                                i | mask_t,\n",
        "                                gate)\n",
        "\n",
        "\n",
        "def mc_transform(state, controls, target, gate):\n",
        "    \"\"\"Multi-controlled version: *all* controls must be |1⟩.\"\"\"\n",
        "    mask_c = sum(1 << c for c in controls)\n",
        "    mask_t = 1 << target\n",
        "    for i in range(len(state)):\n",
        "        if (i & mask_c) == mask_c:           # every control bit is 1\n",
        "            if not (i & mask_t):\n",
        "                _apply_2x2_pair(state,\n",
        "                                i,\n",
        "                                i | mask_t,\n",
        "                                gate)"
      ],
      "metadata": {
        "id": "X3GyTu0S2ky7"
      },
      "execution_count": null,
      "outputs": []
    },
    {
      "cell_type": "code",
      "source": [
        "def append(self, circuit, reg):\n",
        "  assert(reg.size == sum(circuit.regs))\n",
        "  for tr in circuit.transformations:\n",
        "    self.transformations.append(\n",
        "    QuantumTransformation(\n",
        "    tr.gate,\n",
        "    reg.shift + tr.target,\n",
        "    tr.controls,\n",
        "    tr.name,\n",
        "    tr.arg\n",
        "  )\n",
        "  )"
      ],
      "metadata": {
        "id": "iRlO9BNdnw1i"
      },
      "execution_count": null,
      "outputs": []
    },
    {
      "cell_type": "code",
      "source": [
        "# create a three-qubit register and a circuit with one X gate applied to\n",
        "# target qubit 0\n",
        "\n",
        "n = 3\n",
        "q = QuantumRegister(n)\n",
        "qc = QuantumCircuit(q)\n",
        "qc.x(0)"
      ],
      "metadata": {
        "id": "DiZgBGiCpk2B"
      },
      "execution_count": null,
      "outputs": []
    },
    {
      "cell_type": "code",
      "source": [
        "# Next, we will use the uniform function from chapter 4. This function creates a circuit\n",
        "# for encoding the uniform distribution in a state with n qubits\n",
        "def uniform(n):\n",
        "  q = QuantumRegister(n)\n",
        "  qc = QuantumCircuit(q)\n",
        "  for i in range(len(q)):\n",
        "    qc.h(q[i])\n",
        "  return qc"
      ],
      "metadata": {
        "id": "bKnxmQtzqKeS"
      },
      "execution_count": null,
      "outputs": []
    },
    {
      "cell_type": "code",
      "source": [
        "# apply the circuit defined by the function uniform to our three-qubit register\n",
        "# using the append method\n",
        "n = 3\n",
        "uniform_qc = uniform(n)\n",
        "qc.append(uniform_qc, q) # applies circuit to register q"
      ],
      "metadata": {
        "id": "5nL2qYfMqTmS"
      },
      "execution_count": null,
      "outputs": []
    },
    {
      "cell_type": "code",
      "source": [
        "# Method to append a circuit with control qubits\n",
        "def c_append(self, circuit, c, reg):\n",
        "  assert(c not in range(reg.shift, reg.shift + reg.size))\n",
        "  for tr in circuit.transformations:\n",
        "    self.transformations.append(\n",
        "    QuantumTransformation(\n",
        "    tr.gate,\n",
        "    reg.shift + tr.target,\n",
        "    [c] + [reg.shift + t for t in tr.controls],\n",
        "    tr.name,\n",
        "    tr.arg\n",
        "  )\n",
        "  )"
      ],
      "metadata": {
        "id": "s-ECh0muqftt"
      },
      "execution_count": null,
      "outputs": []
    },
    {
      "cell_type": "markdown",
      "source": [
        "## Phase oracle"
      ],
      "metadata": {
        "id": "3YGvd96PrYl8"
      }
    },
    {
      "cell_type": "code",
      "source": [
        "# Function to create a phase oracle circuit\n",
        "from math import pi\n",
        "\n",
        "def is_bit_not_set(m, k):\n",
        "  return not (m & (1 << k))\n",
        "\n",
        "def phase_oracle_match(n, items):\n",
        "  q = QuantumRegister(n)\n",
        "  qc = QuantumCircuit(q)\n",
        "  for m in items:\n",
        "    for i in range(n):\n",
        "      if is_bit_not_set(m, i):\n",
        "        qc.x(q[i])\n",
        "    qc.mcp(pi, [q[i] for i in range(len(q) - 1)], q[len(q) - 1])\n",
        "    for i in range(n):\n",
        "      if is_bit_not_set(m, i):\n",
        "        qc.x(q[i])\n",
        "  return qc"
      ],
      "metadata": {
        "id": "WshegY2YrZPa"
      },
      "execution_count": null,
      "outputs": []
    },
    {
      "cell_type": "code",
      "source": [
        "# create a phase oracle circuit for n = 3 qubits and a single\n",
        "# good outcome, 3\n",
        "n = 3\n",
        "items = [3]\n",
        "oracle_circuit = phase_oracle_match(n, items)"
      ],
      "metadata": {
        "id": "8kZ5aL1hsBwH"
      },
      "execution_count": null,
      "outputs": []
    },
    {
      "cell_type": "code",
      "source": [
        "# create a state in equal superposition (uniform distribution) by applying a Hadamard\n",
        "# gate to each qubit\n",
        "q = QuantumRegister(n)\n",
        "qc = QuantumCircuit(q)\n",
        "\n",
        "for i in range(n):\n",
        "  qc.h(q[i])\n",
        "\n",
        "qc.append(oracle_circuit, QuantumRegister(n))\n",
        "\n",
        "# This bit of code applies a circuit that applies a Hadamard gate\n",
        " # to each of n = 3 qubits followed by the phase oracle for a single good outcome, 3"
      ],
      "metadata": {
        "id": "SXV3Q49RtLYr"
      },
      "execution_count": null,
      "outputs": []
    },
    {
      "cell_type": "code",
      "source": [
        "# create an oracle for n = 3 qubits and associated with good outcomes 1, 3, and 5\n",
        "\n",
        "q = QuantumRegister(n)\n",
        "qc = QuantumCircuit(q)\n",
        "\n",
        "for i in range(n):\n",
        "  qc.h(q[i])\n",
        "\n",
        "qc.append(oracle_circuit, QuantumRegister(n))"
      ],
      "metadata": {
        "id": "g1nwJPfDth7o"
      },
      "execution_count": null,
      "outputs": []
    },
    {
      "cell_type": "markdown",
      "source": [
        "## Bit oracle"
      ],
      "metadata": {
        "id": "-udDRsgMuJhR"
      }
    },
    {
      "cell_type": "code",
      "source": [
        "# Function to create a bit oracle circuit\n",
        "def bit_oracle_match(n, items):\n",
        "    \"\"\"\n",
        "    Return an (n+1)-qubit *bit* oracle that flips the ancilla\n",
        "    iff the n-bit register equals one of the integers in *items*.\n",
        "    \"\"\"\n",
        "    q = QuantumRegister(n)       # data qubits\n",
        "    a = QuantumRegister(1)       # ancilla / tag qubit\n",
        "    qc = QuantumCircuit(q, a)\n",
        "\n",
        "    for m in items:\n",
        "        # --- mask: turn |m⟩ into |11…1⟩ ---------------------\n",
        "        for i in range(n):\n",
        "            if is_bit_not_set(m, i):\n",
        "                qc.x(q[i])\n",
        "\n",
        "        # --- multi-controlled X onto the ancilla ------------\n",
        "        qc.mcx([q[i] for i in range(n)], a[0])\n",
        "\n",
        "        # --- unmask so data register is restored ------------\n",
        "        for i in range(n):\n",
        "            if is_bit_not_set(m, i):\n",
        "                qc.x(q[i])\n",
        "\n",
        "    return qc"
      ],
      "metadata": {
        "id": "Wt93jJKuuKPG"
      },
      "execution_count": null,
      "outputs": []
    },
    {
      "cell_type": "code",
      "source": [
        "# create the bit oracle circuit and apply it where a state\n",
        "# with n = 3 qubits is prepared using Hadamard gates and the good item is 3\n",
        "\n",
        "n = 3\n",
        "items = [3]\n",
        "\n",
        "oracle_circuit = bit_oracle_match(n, items)\n",
        "q = QuantumRegister(n)\n",
        "a = QuantumRegister(1)\n",
        "qc = QuantumCircuit(q, a)\n",
        "\n",
        "for i in range(n):\n",
        "  qc.h(q[i])\n",
        "\n",
        "# The circuit created by bit_oracle_match adds an ancilla qubit, so we need\n",
        "# to pass a register with n+1 qubits when we append the circuit\n",
        "qc.append(oracle_circuit, QuantumRegister(n + 1))"
      ],
      "metadata": {
        "id": "w-BKvNKdugsX"
      },
      "execution_count": null,
      "outputs": []
    },
    {
      "cell_type": "code",
      "source": [
        "# create a bit oracle for the same state with three good outcomes\n",
        "n = 3\n",
        "items = [1, 3, 5]\n",
        "\n",
        "oracle_circuit = bit_oracle_match(n, items)\n",
        "\n",
        "q = QuantumRegister(n)\n",
        "a = QuantumRegister(1)\n",
        "qc = QuantumCircuit(q, a)\n",
        "\n",
        "for i in range(n):\n",
        "  qc.h(q[i])\n",
        "\n",
        "qc.append(oracle_circuit, QuantumRegister(n+1))"
      ],
      "metadata": {
        "id": "bxP2yXauvjuo"
      },
      "execution_count": null,
      "outputs": []
    },
    {
      "cell_type": "markdown",
      "source": [
        "## Converting between phase and bit quantum oracles"
      ],
      "metadata": {
        "id": "3I_Aphs9wCQR"
      }
    },
    {
      "cell_type": "code",
      "source": [
        "def phase_to_bit_oracle(phase_circ):\n",
        "    \"\"\"\n",
        "    Wrap a phase oracle (on n qubits) to make a bit oracle on n+1 qubits.\n",
        "    Works with the minimal framework in your notebook.\n",
        "    \"\"\"\n",
        "    n = sum(phase_circ.regs)          # how many data qubits the oracle uses\n",
        "\n",
        "    data   = QuantumRegister(n)       # brand-new n-qubit register\n",
        "    anc    = QuantumRegister(1)       # one ancilla\n",
        "    bit    = QuantumCircuit(data, anc)\n",
        "\n",
        "    bit.h(anc[0])                     # |0⟩ → |+⟩ on ancilla\n",
        "    bit.append(phase_circ, data)      # embed the phase oracle on `data`\n",
        "    bit.h(anc[0])                     # turn kicked-back Z into X\n",
        "\n",
        "    return bit"
      ],
      "metadata": {
        "id": "Bjn8-7-jwCwF"
      },
      "execution_count": null,
      "outputs": []
    },
    {
      "cell_type": "code",
      "source": [
        "# 1) build the oracle\n",
        "n      = 3\n",
        "items  = [1, 3, 5]\n",
        "bit_or = bit_oracle_match(n, items)\n",
        "\n",
        "# 2) prepare random 3-qubit state + ancilla |0⟩\n",
        "state = generate_state(n, seed=777) + [0]*(2**n)\n",
        "\n",
        "# 3) wire everything up\n",
        "q = QuantumRegister(n)      # data (indices 0,1,2)\n",
        "a = QuantumRegister(1)      # ancilla (index 3)\n",
        "qc = QuantumCircuit(q, a)\n",
        "\n",
        "qc.initialize(state.copy())\n",
        "qc.append(bit_or, QuantumRegister(n+1))     # same 4 wires 0..3\n",
        "\n",
        "# 4) run and inspect\n",
        "final_state = qc.run()\n",
        "print_state_table(final_state, decimals=4)"
      ],
      "metadata": {
        "colab": {
          "base_uri": "https://localhost:8080/"
        },
        "id": "9oScTWmPyxfx",
        "outputId": "38a0685e-2c1f-4954-bda9-ba7a46fad3c8"
      },
      "execution_count": null,
      "outputs": [
        {
          "output_type": "stream",
          "name": "stdout",
          "text": [
            "\n",
            "Outcome  Binary  Amplitude           Direction  Magnitude  Amplitude Bar             Probability\n",
            "------------------------------------------------------------------------------------------------\n",
            "0        0000   -0.1673 - i0.1616    -135.99°   0.2327     █████                     0.0541\n",
            "1        0001    0.0000 + i0.0000               0.0                                  0.0   \n",
            "2        0010   -0.0715 + i0.2862     104.30°   0.295      ███████                   0.087 \n",
            "3        0011    0.0000 + i0.0000               0.0                                  0.0   \n",
            "4        0100    0.2543 - i0.1212     -25.48°   0.2817     ██████                    0.0793\n",
            "5        0101    0.0000 + i0.0000               0.0                                  0.0   \n",
            "6        0110    0.3562 - i0.3016     -40.26°   0.4667     ███████████               0.2178\n",
            "7        0111    0.3692 + i0.2811      37.28°   0.464      ███████████               0.2153\n",
            "8        1000    0.0000 + i0.0000               0                                    0     \n",
            "9        1001   -0.2493 + i0.2074     140.24°   0.3243     ███████                   0.1052\n",
            "10       1010    0.0000 + i0.0000               0                                    0     \n",
            "11       1011    0.2521 - i0.0108      -2.45°   0.2524     ██████                    0.0637\n",
            "12       1100    0.0000 + i0.0000               0                                    0     \n",
            "13       1101   -0.1503 - i0.3937    -110.89°   0.4214     ██████████                0.1776\n",
            "14       1110    0.0000 + i0.0000               0                                    0     \n",
            "15       1111    0.0000 + i0.0000               0.0                                  0.0   \n",
            "\n"
          ]
        }
      ]
    },
    {
      "cell_type": "markdown",
      "source": [
        "## Converting a bit oracle to a phase oracle"
      ],
      "metadata": {
        "id": "7zQ92Q6B2odY"
      }
    },
    {
      "cell_type": "code",
      "source": [
        "# create a circuit that will act as a phase oracle, where the parameter oracle_circuit is a bit oracle\n",
        "def bit_to_phase_oracle(oracle_circuit):\n",
        "  n = sum(oracle_circuit.regs)\n",
        "  q = QuantumRegister(n)\n",
        "  qc = QuantumCircuit(q)\n",
        "  qc.append(oracle_circuit, q)\n",
        "  qc.p(pi, q[len(q)-1])\n",
        "  qc.append(oracle_circuit, q)\n",
        "  return qc"
      ],
      "metadata": {
        "id": "_dSyhrRd2pNw"
      },
      "execution_count": null,
      "outputs": []
    },
    {
      "cell_type": "code",
      "source": [
        "# create the bit oracle circuit for our example problem where n = 3 qubits and the\n",
        "# good outcomes are 1, 3, and 5\n",
        "n = 3\n",
        "items = [1, 3, 5]\n",
        "\n",
        "oracle_circuit = bit_oracle_match(n, items)"
      ],
      "metadata": {
        "id": "3Pwm5GA321y1"
      },
      "execution_count": null,
      "outputs": []
    },
    {
      "cell_type": "code",
      "source": [
        "# implement the same example using a phase oracle created from a bit oracle\n",
        "n = 3\n",
        "items = [1, 3, 5]\n",
        "oracle_circuit = bit_oracle_match(n, items)\n",
        "state = generate_state(n, seed=777) + [0 for _ in range(2**n)]\n",
        "q = QuantumRegister(n)\n",
        "a = QuantumRegister(1)\n",
        "qc = QuantumCircuit(q, a)\n",
        "qc.initialize(state.copy())\n",
        "qc.append(bit_to_phase_oracle(oracle_circuit), QuantumRegister(n+1))\n",
        "\n",
        "final_state = qc.run()\n",
        "print_state_table(final_state, decimals=4)"
      ],
      "metadata": {
        "colab": {
          "base_uri": "https://localhost:8080/"
        },
        "id": "4XRIZ3bD3B04",
        "outputId": "1531f761-a1c8-4931-f53e-20195f39efa4"
      },
      "execution_count": null,
      "outputs": [
        {
          "output_type": "stream",
          "name": "stdout",
          "text": [
            "\n",
            "Outcome  Binary  Amplitude           Direction  Magnitude  Amplitude Bar             Probability\n",
            "------------------------------------------------------------------------------------------------\n",
            "0        0000   -0.1673 - i0.1616    -135.99°   0.2327     █████                     0.0541\n",
            "1        0001    0.2493 - i0.2074     -39.76°   0.3243     ███████                   0.1052\n",
            "2        0010   -0.0715 + i0.2862     104.30°   0.295      ███████                   0.087 \n",
            "3        0011   -0.2521 + i0.0108     177.55°   0.2524     ██████                    0.0637\n",
            "4        0100    0.2543 - i0.1212     -25.48°   0.2817     ██████                    0.0793\n",
            "5        0101    0.1503 + i0.3937      69.11°   0.4214     ██████████                0.1776\n",
            "6        0110    0.3562 - i0.3016     -40.26°   0.4667     ███████████               0.2178\n",
            "7        0111    0.3692 + i0.2811      37.28°   0.464      ███████████               0.2153\n",
            "8        1000    0.0000 + i0.0000               0.0                                  0.0   \n",
            "9        1001    0.0000 + i0.0000               0.0                                  0.0   \n",
            "10       1010    0.0000 + i0.0000               0.0                                  0.0   \n",
            "11       1011    0.0000 + i0.0000               0.0                                  0.0   \n",
            "12       1100    0.0000 + i0.0000               0.0                                  0.0   \n",
            "13       1101    0.0000 + i0.0000               0.0                                  0.0   \n",
            "14       1110    0.0000 + i0.0000               0.0                                  0.0   \n",
            "15       1111    0.0000 + i0.0000               0.0                                  0.0   \n",
            "\n"
          ]
        }
      ]
    },
    {
      "cell_type": "markdown",
      "source": [
        "## Fibonacci numbers and the golden ratio with good outcomes"
      ],
      "metadata": {
        "id": "ENN1H8XU3tZb"
      }
    },
    {
      "cell_type": "code",
      "source": [
        "# We can compute the nth number in the Fibonacci sequence (denoted by Fn) using the\n",
        "# following recursive Python function\n",
        "def recursive_fib(n):\n",
        "  assert n >= 0\n",
        "  if n <= 1:\n",
        "    return n\n",
        "  else:\n",
        "    return recursive_fib(n - 1) + recursive_fib(n - 2)\n",
        "\n",
        "# use the recursive function to create a list of the first 10 Fibonacci numbers\n",
        "[recursive_fib(n) for n in range(10)]\n",
        "\n",
        "# As the Fibonacci numbers get larger, the ratio between consecutive numbers\n",
        "# approaches the golden ratio"
      ],
      "metadata": {
        "colab": {
          "base_uri": "https://localhost:8080/"
        },
        "id": "ADdKhoST4qLU",
        "outputId": "9efd4d59-e398-4c3b-f95a-ca4939bae479"
      },
      "execution_count": null,
      "outputs": [
        {
          "output_type": "execute_result",
          "data": {
            "text/plain": [
              "[0, 1, 1, 2, 3, 5, 8, 13, 21, 34]"
            ]
          },
          "metadata": {},
          "execution_count": 97
        }
      ]
    },
    {
      "cell_type": "code",
      "source": [
        "# define the good outcomes as those whose binary representation does not contain two consecutive 1s\n",
        "\n",
        "# create a circuit that identifies the good outcomes and makes the bad outcomes impossible.\n",
        "# The function fib_circuit creates this circuit for a given number of qubits n > 0\n",
        "\n",
        "from math import asin\n",
        "\n",
        "def fib_circuit(n):\n",
        "  theta = 2*asin((sqrt(5) - 1)/2)\n",
        "  q = QuantumRegister(n)\n",
        "  qc = QuantumCircuit(q)\n",
        "  for i in range(n):\n",
        "    qc.ry(theta, q[i])\n",
        "  for i in range(n - 1):\n",
        "    qc.cry(-theta, q[i], q[i + 1])\n",
        "  return qc"
      ],
      "metadata": {
        "id": "M5Hb8LzW3upV"
      },
      "execution_count": null,
      "outputs": []
    },
    {
      "cell_type": "code",
      "source": [
        "qc = fib_circuit(1)\n",
        "final_state = qc.run()\n",
        "print_state_table(final_state, decimals=4)"
      ],
      "metadata": {
        "colab": {
          "base_uri": "https://localhost:8080/"
        },
        "id": "mZjFoJ0356jI",
        "outputId": "28ba40ab-cea0-499b-819c-8ecdea370352"
      },
      "execution_count": null,
      "outputs": [
        {
          "output_type": "stream",
          "name": "stdout",
          "text": [
            "\n",
            "Outcome  Binary  Amplitude           Direction  Magnitude  Amplitude Bar             Probability\n",
            "------------------------------------------------------------------------------------------------\n",
            "0        0       0.7862 + i0.0000       0.00°   0.7862     ██████████████████        0.618 \n",
            "1        1       0.6180 + i0.0000       0.00°   0.618      ██████████████            0.382 \n",
            "\n"
          ]
        }
      ]
    },
    {
      "cell_type": "code",
      "source": [
        "qc = fib_circuit(2)\n",
        "final_state = qc.run()\n",
        "print_state_table(final_state, decimals=4)"
      ],
      "metadata": {
        "colab": {
          "base_uri": "https://localhost:8080/"
        },
        "id": "3k23hpHI6FfC",
        "outputId": "c200f4a2-1ebd-4ea6-d46a-fb69af610503"
      },
      "execution_count": null,
      "outputs": [
        {
          "output_type": "stream",
          "name": "stdout",
          "text": [
            "\n",
            "Outcome  Binary  Amplitude           Direction  Magnitude  Amplitude Bar             Probability\n",
            "------------------------------------------------------------------------------------------------\n",
            "0        00      0.6180 + i0.0000       0.00°   0.618      ██████████████            0.382 \n",
            "1        01      0.6180 + i0.0000       0.00°   0.618      ██████████████            0.382 \n",
            "2        10      0.4859 + i0.0000       0.00°   0.4859     ███████████               0.2361\n",
            "3        11      0.0000 + i0.0000               0.0                                  0.0   \n",
            "\n"
          ]
        }
      ]
    },
    {
      "cell_type": "markdown",
      "source": [
        "The ratio of the probabilities of a good outcome that starts with 1 and a good outcome that starts with 0 is the golden ratio."
      ],
      "metadata": {
        "id": "xn0DTg8T7pEI"
      }
    },
    {
      "cell_type": "code",
      "source": [
        "qc = fib_circuit(2)\n",
        "state = qc.run()\n",
        "assert is_close(abs(state[0])**2/abs(state[2])**2, (1+sqrt(5))/2)\n",
        "assert is_close(abs(state[1])**2/abs(state[2])**2, (1+sqrt(5))/2)"
      ],
      "metadata": {
        "id": "n9dFu-fG7qG6"
      },
      "execution_count": null,
      "outputs": []
    },
    {
      "cell_type": "code",
      "source": [
        "qc = fib_circuit(3)\n",
        "final_state = qc.run()\n",
        "print_state_table(final_state, decimals=4)"
      ],
      "metadata": {
        "colab": {
          "base_uri": "https://localhost:8080/"
        },
        "id": "gKJt8Yjf775f",
        "outputId": "30f24bd7-bfcc-46fe-fdfa-6b28377f2372"
      },
      "execution_count": null,
      "outputs": [
        {
          "output_type": "stream",
          "name": "stdout",
          "text": [
            "\n",
            "Outcome  Binary  Amplitude           Direction  Magnitude  Amplitude Bar             Probability\n",
            "------------------------------------------------------------------------------------------------\n",
            "0        000     0.4859 + i0.0000       0.00°   0.4859     ███████████               0.2361\n",
            "1        001     0.4859 + i0.0000       0.00°   0.4859     ███████████               0.2361\n",
            "2        010     0.4859 + i0.0000       0.00°   0.4859     ███████████               0.2361\n",
            "3        011     0.0000 + i0.0000               0.0                                  0.0   \n",
            "4        100     0.3820 + i0.0000       0.00°   0.382      █████████                 0.1459\n",
            "5        101     0.3820 + i0.0000       0.00°   0.382      █████████                 0.1459\n",
            "6        110     0.0000 + i0.0000               0.0                                  0.0   \n",
            "7        111     0.0000 + i0.0000               0.0                                  0.0   \n",
            "\n"
          ]
        }
      ]
    },
    {
      "cell_type": "code",
      "source": [
        "from math import sqrt\n",
        "\n",
        "phi = (1 + sqrt(5)) / 2                     # 1.618...\n",
        "\n",
        "probs = [abs(z)**2 for z in final_state if abs(z) > 1e-12]\n",
        "unique_probs = sorted(set(round(p, 12) for p in probs))\n",
        "\n",
        "assert len(unique_probs) == 2\n",
        "\n",
        "p, q = unique_probs[1], unique_probs[0]      # larger first, smaller second\n",
        "assert is_close(p / q, phi)                  # should now pass\n",
        "print(\"ratio p/q =\", p/q, \"≈ φ\")"
      ],
      "metadata": {
        "colab": {
          "base_uri": "https://localhost:8080/"
        },
        "id": "QwwmiCeq87ws",
        "outputId": "855f3b16-70bc-474a-dffe-0ed0e41e111e"
      },
      "execution_count": null,
      "outputs": [
        {
          "output_type": "stream",
          "name": "stdout",
          "text": [
            "ratio p/q = 1.618033988754835 ≈ φ\n"
          ]
        }
      ]
    }
  ]
}