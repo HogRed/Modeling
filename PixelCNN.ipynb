{
  "nbformat": 4,
  "nbformat_minor": 0,
  "metadata": {
    "colab": {
      "provenance": [],
      "machine_shape": "hm",
      "gpuType": "L4"
    },
    "kernelspec": {
      "name": "python3",
      "display_name": "Python 3"
    },
    "language_info": {
      "name": "python"
    },
    "accelerator": "GPU"
  },
  "cells": [
    {
      "cell_type": "markdown",
      "source": [
        "## PixelCNN\n",
        "\n",
        "The PixelCNN architecture is a generative model that modifies the standard convolutional neural network (CNN) by introducing an autoregressive component. In PixelCNN, the model predicts each pixel value one at a time, with each prediction being conditioned on the previously predicted pixels. This allows the model to capture complex spatial dependencies, both local and global, within an image.\n",
        "\n",
        "Because of its autoregressive nature, PixelCNN is inherently sequential, which means that the generation process can be slower compared to traditional CNNs. This sequential approach introduces additional computational demands, making training and inference more time-consuming. However, the architecture excels in producing high-quality images by learning dependencies between pixels.\n",
        "\n",
        "PixelCNN relies on a combination of masked convolutions and residual blocks. Masked convolutions ensure that the model only has access to pixels that have already been generated, preserving the autoregressive property. Residual blocks help facilitate the training of deeper networks, allowing the model to capture more detailed pixel relationships. These architectural components, while effective, contribute to the overall complexity of the model and can result in longer training times.\n",
        "\n",
        "**Challenges:**\n",
        "- Training time: Due to its autoregressive nature, training PixelCNN can take longer as the model needs to learn complex pixel dependencies over many epochs.\n",
        "- Computational demands: The architecture’s depth and sequential structure require significant compute resources, especially for larger datasets or high-resolution images.\n",
        "- Instability risks: Larger architectures increase the risk of training instability. Proper hyperparameter tuning (such as learning rate, regularization, and batch size) is crucial to avoid issues like vanishing gradients or overfitting during training.\n",
        "\n",
        "Despite these challenges, PixelCNN is a powerful model for generating high-quality images, particularly when the goal is to model complex pixel dependencies in a structured and interpretable way.\n",
        "\n",
        "Code is Adapted and updated from the book [Generative Deep Learning: Teaching Machines to Paint, Write, Compose, and Play](https://www.amazon.com/Generative-Deep-Learning-Teaching-Machines/dp/1098134184/ref=pd_sbs_d_sccl_2_1/130-9125606-0943241?pd_rd_w=FhXH7&content-id=amzn1.sym.156274ff-6322-443d-8bbf-ab3ed87e382f&pf_rd_p=156274ff-6322-443d-8bbf-ab3ed87e382f&pf_rd_r=ZD77MMX08RJGV0GG0MMC&pd_rd_wg=tEpZf&pd_rd_r=93f3b12b-d7f8-488a-a6e3-05de7a8f06dc&pd_rd_i=1098134184&psc=1)"
      ],
      "metadata": {
        "id": "2IaqEZA2YqXp"
      }
    },
    {
      "cell_type": "markdown",
      "source": [
        "## Defining Functions and Classes"
      ],
      "metadata": {
        "id": "ditjyngZ4K8F"
      }
    },
    {
      "cell_type": "code",
      "source": [
        "# Checks for changes in all imported modules and reloads them\n",
        "# if they have been modified\n",
        "%load_ext autoreload\n",
        "%autoreload 2\n",
        "\n",
        "# Package imports\n",
        "import numpy as np\n",
        "import tensorflow as tf\n",
        "from tensorflow.keras import datasets, layers, models, optimizers, callbacks\n",
        "import matplotlib.pyplot as plt\n",
        "import matplotlib"
      ],
      "metadata": {
        "id": "Wv6Gj6blZcx4"
      },
      "execution_count": 1,
      "outputs": []
    },
    {
      "cell_type": "code",
      "source": [
        "# Create batch sampling function\n",
        "def sample_batch(dataset):\n",
        "    \"\"\"\n",
        "    Samples a single batch from the dataset and returns it as a NumPy array.\n",
        "    \"\"\"\n",
        "    try:\n",
        "        # Take a single batch from the dataset\n",
        "        batch = dataset.take(1).get_single_element()\n",
        "\n",
        "        # If the batch is a tuple (e.g., data and labels), extract the data part\n",
        "        if isinstance(batch, tuple):\n",
        "            batch = batch[0]\n",
        "\n",
        "        # Convert the batch to a NumPy array\n",
        "        return batch.numpy()\n",
        "\n",
        "    # Catch any exceptions that may occur\n",
        "    except Exception as e:\n",
        "        print(f\"Error in loading batch: {e}\")\n",
        "        return None\n",
        "\n",
        "\n",
        "# Function to display images\n",
        "def display(\n",
        "    images, n=10, size=None, cmap=\"gray_r\", as_type=\"float32\",\n",
        "    save_to=None, show_axes=False\n",
        "):\n",
        "    \"\"\"\n",
        "    Displays n random images from the provided array and\n",
        "    optionally saves the plot.\n",
        "    \"\"\"\n",
        "    # Ensure image values are between 0 and 1, for display consistency\n",
        "    if images.max() > 1.0 or images.min() < 0.0:\n",
        "        images = np.clip(images, 0, 1)\n",
        "\n",
        "    # If no size is provided, dynamically adjust the size based\n",
        "    # on the number of images\n",
        "    if size is None:\n",
        "        size = (n * 2, 3)  # Set figure width relative to number of images\n",
        "\n",
        "    # Create a new figure for displaying the images\n",
        "    plt.figure(figsize=size)\n",
        "\n",
        "    # Loop through the first 'n' images (or fewer if the array is smaller)\n",
        "    for i in range(min(n, len(images))):\n",
        "        _ = plt.subplot(1, min(n, len(images)), i + 1)  # Create a subplot for\n",
        "                                                        # each image\n",
        "\n",
        "        # Display each image after converting it to the specified type\n",
        "        plt.imshow(images[i].astype(as_type), cmap=cmap)\n",
        "\n",
        "        # Optionally hide axis labels if 'show_axes' is False\n",
        "        if not show_axes:\n",
        "            plt.axis(\"off\")\n",
        "\n",
        "    # Save the plot to a file if 'save_to' is provided\n",
        "    if save_to:\n",
        "        plt.savefig(save_to)\n",
        "        print(f\"\\nSaved to {save_to}\")  # Notify the user that the\n",
        "                                        # file has been saved\n",
        "\n",
        "    # Show the plot\n",
        "    plt.show()"
      ],
      "metadata": {
        "id": "tB_v_1Z8ZLKE"
      },
      "execution_count": 2,
      "outputs": []
    },
    {
      "cell_type": "code",
      "source": [
        "# Subclassing the Keras Layer\n",
        "class MaskedConv2D(layers.Layer):\n",
        "    \"\"\"\n",
        "    Custom 2D Convolutional layer with a masking mechanism.\n",
        "\n",
        "    This layer applies a mask to the convolution kernel before performing the\n",
        "    convolution. The mask type can be either 'A' or 'B', where type 'A' masks\n",
        "    the center of the kernel, and type 'B' allows the center position\n",
        "    to be used.\n",
        "    \"\"\"\n",
        "\n",
        "    def __init__(self, mask_type, **kwargs):\n",
        "        \"\"\"\n",
        "        Initialize the MaskedConv2D layer.\n",
        "        \"\"\"\n",
        "        # Base class initialization\n",
        "        super(MaskedConv2D, self).__init__()\n",
        "\n",
        "        # Mask type determines how the kernel is masked\n",
        "        self.mask_type = mask_type\n",
        "        # Initialize the Conv2D layer with the passed arguments\n",
        "        self.conv = layers.Conv2D(**kwargs)\n",
        "\n",
        "    def build(self, input_shape):\n",
        "        \"\"\"\n",
        "        Build the layer by creating the convolutional kernel and\n",
        "        applying the mask.\n",
        "        \"\"\"\n",
        "        # Build the internal Conv2D layer to initialize its kernel\n",
        "        self.conv.build(input_shape)\n",
        "\n",
        "        # Get the shape of the kernel for creating the mask\n",
        "        # Shape of the Conv2D kernel =\n",
        "        # filters, kernel_size, input_channels, output_channels\n",
        "        kernel_shape = self.conv.kernel.shape\n",
        "\n",
        "        # Initialize the mask with zeros (same shape as the kernel)\n",
        "        self.mask = np.zeros(shape=kernel_shape)\n",
        "\n",
        "        # Fill the mask for the first half of the kernel (up to the center)\n",
        "        self.mask[: kernel_shape[0] // 2, ...] = 1.0\n",
        "\n",
        "        # Fill the center row of the mask up to the center pixel\n",
        "        self.mask[kernel_shape[0] // 2, : kernel_shape[1] // 2, ...] = 1.0\n",
        "\n",
        "        # If the mask type is 'B', allow the center pixel to not be masked\n",
        "        if self.mask_type == \"B\":\n",
        "            self.mask[kernel_shape[0] // 2, kernel_shape[1] // 2, ...] = 1.0\n",
        "\n",
        "    def call(self, inputs):\n",
        "        \"\"\"\n",
        "        Apply the mask to the convolutional kernel and perform the convolution.\n",
        "        \"\"\"\n",
        "        # Apply the mask by element-wise multiplication of the convolutional\n",
        "        # kernel with the mask\n",
        "        self.conv.kernel.assign(self.conv.kernel * self.mask)\n",
        "\n",
        "        # Perform the convolution on the inputs\n",
        "        return self.conv(inputs)\n",
        "\n",
        "    def get_config(self):\n",
        "        \"\"\"\n",
        "        Return the configuration of the layer for model saving and loading.\n",
        "        \"\"\"\n",
        "        # Retrieve the configuration of the base Layer class\n",
        "        cfg = super().get_config()\n",
        "\n",
        "        # Add mask_type to the layer config\n",
        "        cfg.update({\"mask_type\": self.mask_type})\n",
        "\n",
        "        return cfg"
      ],
      "metadata": {
        "id": "meQR1erEZ_j3"
      },
      "execution_count": 3,
      "outputs": []
    },
    {
      "cell_type": "code",
      "source": [
        "# Creating residual block by subclassing Keras Layer class\n",
        "class ResidualBlock(layers.Layer):\n",
        "    \"\"\"\n",
        "    A custom Residual Block layer that uses a series of convolutions,\n",
        "    including a MaskedConv2D layer, and adds the input to the output\n",
        "    (residual connection).\n",
        "    \"\"\"\n",
        "\n",
        "    def __init__(self, filters, **kwargs):\n",
        "        \"\"\"\n",
        "        Initialize the ResidualBlock layer.\n",
        "        \"\"\"\n",
        "\n",
        "        # Initialize the base class\n",
        "        super(ResidualBlock, self).__init__(**kwargs)\n",
        "\n",
        "        # First 1x1 convolution layer that reduces the number of filters by half\n",
        "        self.conv1 = layers.Conv2D(\n",
        "            # Reduce the number of filters by half for the intermediate layers\n",
        "            filters=filters // 2,\n",
        "            kernel_size=1,  # Use a 1x1 kernel for this convolution\n",
        "            activation=\"relu\"\n",
        "        )\n",
        "\n",
        "        # Masked 3x3 convolution layer (with 'B' mask type)\n",
        "        self.pixel_conv = MaskedConv2D(\n",
        "            mask_type=\"B\",  # Mask type 'B' includes center pixel\n",
        "            filters=filters // 2,\n",
        "            kernel_size=3,\n",
        "            activation=\"relu\",\n",
        "            padding=\"same\"  # Same padding to maintain the input shape\n",
        "        )\n",
        "\n",
        "        # Second 1x1 convolution layer to restore the original number of filters\n",
        "        self.conv2 = layers.Conv2D(\n",
        "            filters=filters,  # Output the same number of filters as the input\n",
        "            kernel_size=1,\n",
        "            activation=\"relu\"\n",
        "        )\n",
        "\n",
        "    def call(self, inputs):\n",
        "        \"\"\"\n",
        "        Forward pass for the Residual Block.\n",
        "        \"\"\"\n",
        "        # Apply the first 1x1 convolution\n",
        "        x = self.conv1(inputs)\n",
        "\n",
        "        # Apply the masked 3x3 convolution\n",
        "        x = self.pixel_conv(x)\n",
        "\n",
        "        # Apply the second 1x1 convolution to restore the original\n",
        "        # number of filters\n",
        "        x = self.conv2(x)\n",
        "\n",
        "        # Add the original input (residual connection) to the output of the\n",
        "        # convolutions\n",
        "        return layers.add([inputs, x])\n",
        "\n",
        "    def get_config(self):\n",
        "        \"\"\"\n",
        "        Returns the configuration of the layer for model saving and loading.\n",
        "        \"\"\"\n",
        "\n",
        "        # Retrieve the base class configuration\n",
        "        cfg = super().get_config()\n",
        "\n",
        "        return cfg\n"
      ],
      "metadata": {
        "id": "yJ7lXy6U4xX3"
      },
      "execution_count": 4,
      "outputs": []
    },
    {
      "cell_type": "code",
      "source": [
        "# TensorBoard callback for logging metrics and visualizations\n",
        "tensorboard_callback = callbacks.TensorBoard(log_dir=\"./logs\")\n",
        "\n",
        "# Creating custom callback\n",
        "class ImageGenerator(callbacks.Callback):\n",
        "    \"\"\"\n",
        "    Custom callback for generating images at the end of each training epoch.\n",
        "    \"\"\"\n",
        "\n",
        "    def __init__(self, num_img):\n",
        "        \"\"\"\n",
        "        Initialize the ImageGenerator callback.\n",
        "        \"\"\"\n",
        "\n",
        "        # Base callback init\n",
        "        super().__init__()\n",
        "        self.num_img = num_img  # Number of images to generate\n",
        "\n",
        "    def sample_from(self, probs, temperature):\n",
        "        \"\"\"\n",
        "        Samples a pixel value based on the predicted probabilities and a\n",
        "        temperature value.\n",
        "        \"\"\"\n",
        "\n",
        "        # Adjust the probabilities by the temperature (controls the randomness)\n",
        "        probs = probs ** (1 / temperature)\n",
        "\n",
        "        probs = probs / np.sum(probs)  # Normalize the probabilities\n",
        "\n",
        "        # Sample an index based on the adjusted probabilities\n",
        "        return np.random.choice(len(probs), p=probs)\n",
        "\n",
        "    def generate(self, temperature):\n",
        "        \"\"\"\n",
        "        Generates images one pixel at a time using the trained PixelCNN model.\n",
        "        \"\"\"\n",
        "\n",
        "        # Initialize an array for generated images filled with zeros\n",
        "        generated_images = (np.zeros(shape=(self.num_img,)\n",
        "                            + (pixel_cnn.input_shape)[1:]))\n",
        "\n",
        "        # Get the dimensions of the images\n",
        "        batch, rows, cols, channels = generated_images.shape\n",
        "\n",
        "        # Generate each pixel one at a time for each image in the batch\n",
        "        for row in range(rows):\n",
        "            for col in range(cols):\n",
        "                for channel in range(channels):\n",
        "                    # Predict the probabilities for the current pixel location\n",
        "                    probs = self.model.predict(generated_images, verbose=0)[\n",
        "                        :, row, col, :]\n",
        "\n",
        "                    # Sample a pixel value for each image in the batch using\n",
        "                    # the predicted probabilities\n",
        "                    generated_images[:, row, col, channel] = [\n",
        "                        self.sample_from(x, temperature) for x in probs]\n",
        "\n",
        "                    # Normalize the pixel values based on the number of\n",
        "                    # pixel levels\n",
        "                    generated_images[:, row, col, channel] /= PIXEL_LEVELS\n",
        "\n",
        "        return generated_images\n",
        "\n",
        "    def on_epoch_end(self, epoch, logs=None):\n",
        "        \"\"\"\n",
        "        Method called at the end of each epoch to generate images.\n",
        "        \"\"\"\n",
        "\n",
        "        # Generate images using a temperature of 1.0\n",
        "        generated_images = self.generate(temperature=1.0)\n",
        "\n",
        "        # Display and save the generated images for visualization\n",
        "        # Save images with the epoch number in the filename\n",
        "        display(\n",
        "            generated_images,\n",
        "            save_to=\"/content/images/generated_img_%03d.png\" % (epoch),\n",
        "        )\n",
        "\n",
        "\n",
        "# Callback to generate 10 images at the end of each epoch\n",
        "img_generator_callback = ImageGenerator(num_img=10)"
      ],
      "metadata": {
        "id": "0DfoqoCe49dH"
      },
      "execution_count": 5,
      "outputs": []
    },
    {
      "cell_type": "code",
      "source": [
        "# Create new directory to house images\n",
        "!mkdir ./images"
      ],
      "metadata": {
        "id": "_z2D43pK5Ff9",
        "colab": {
          "base_uri": "https://localhost:8080/"
        },
        "outputId": "2e489808-ef20-4360-8ba8-cc3c7e5c590b"
      },
      "execution_count": 6,
      "outputs": [
        {
          "output_type": "stream",
          "name": "stdout",
          "text": [
            "mkdir: cannot create directory ‘./images’: File exists\n"
          ]
        }
      ]
    },
    {
      "cell_type": "markdown",
      "source": [
        "## Defining Constants"
      ],
      "metadata": {
        "id": "J6XiWdxX4imX"
      }
    },
    {
      "cell_type": "code",
      "source": [
        "# Defining constants for image size, pixel levels, filters, etc.\n",
        "IMAGE_SIZE = 28\n",
        "PIXEL_LEVELS = 4 # Will result in low-quality images; can save on resources\n",
        "N_FILTERS = 128\n",
        "RESIDUAL_BLOCKS = 5\n",
        "BATCH_SIZE = 128\n",
        "EPOCHS = 25"
      ],
      "metadata": {
        "id": "874FvkprZut1"
      },
      "execution_count": 7,
      "outputs": []
    },
    {
      "cell_type": "markdown",
      "source": [
        "## Loading and Preprocessing Data"
      ],
      "metadata": {
        "id": "SdBJj3Eg4luo"
      }
    },
    {
      "cell_type": "code",
      "source": [
        "# Load MNIST fashion data\n",
        "(x_train, _), (_, _) = datasets.fashion_mnist.load_data()"
      ],
      "metadata": {
        "id": "rO9yP6K7Zz1-"
      },
      "execution_count": 8,
      "outputs": []
    },
    {
      "cell_type": "code",
      "source": [
        "# Preprocess the data for PixelCNN training\n",
        "def preprocess(imgs_int):\n",
        "    \"\"\"\n",
        "    Preprocesses the input images by resizing, normalizing, and preparing them\n",
        "    for both the model's input (normalized floating-point values) and output\n",
        "    (integer values).\n",
        "    \"\"\"\n",
        "\n",
        "    # Expand the dimensions of the images to add a channel dimension\n",
        "    # (for grayscale images)\n",
        "    # This makes the shape of each image (height, width, 1) instead of just\n",
        "    # (height, width)\n",
        "    imgs_int = np.expand_dims(imgs_int, -1)\n",
        "\n",
        "    # Resize the images to a defined size (IMAGE_SIZE x IMAGE_SIZE)\n",
        "    # Converts the images into a TensorFlow tensor, resizes them, and\n",
        "    # converts back to NumPy array\n",
        "    imgs_int = (tf.image\n",
        "                .resize(imgs_int, (IMAGE_SIZE, IMAGE_SIZE))\n",
        "                .numpy())\n",
        "\n",
        "    # Scale the integer pixel values from 0-255 down to a smaller range\n",
        "    # based on PIXEL_LEVELS\n",
        "    # For example, if PIXEL_LEVELS is 4, the images will have pixel values\n",
        "    # in the range 0-3\n",
        "    imgs_int = (imgs_int / (256 / PIXEL_LEVELS)).astype(int)\n",
        "\n",
        "    # Convert the integer images from int to float32 format for model input\n",
        "    imgs = imgs_int.astype(\"float32\")\n",
        "\n",
        "    # Normalize the images to the range [0, 1] by dividing by PIXEL_LEVELS\n",
        "    # Essentially, there will be four shades of gray the pixels can take on\n",
        "    imgs = imgs / PIXEL_LEVELS\n",
        "\n",
        "    # Return both the normalized float images for the model and the\n",
        "    # integer images for the output\n",
        "    return imgs, imgs_int\n",
        "\n",
        "\n",
        "# Preprocess the training data to get input and output images\n",
        "input_data, output_data = preprocess(x_train)"
      ],
      "metadata": {
        "id": "Y5aSDj2wZ327"
      },
      "execution_count": 9,
      "outputs": []
    },
    {
      "cell_type": "code",
      "source": [
        "# Show some items of clothing from the training set\n",
        "display(input_data)"
      ],
      "metadata": {
        "colab": {
          "base_uri": "https://localhost:8080/",
          "height": 128
        },
        "id": "0epMINbyZ8Fj",
        "outputId": "8a606b20-fa7b-4a2f-ed24-d6e51e820e26"
      },
      "execution_count": 10,
      "outputs": [
        {
          "output_type": "display_data",
          "data": {
            "text/plain": [
              "<Figure size 2000x300 with 10 Axes>"
            ],
            "image/png": "[encoded data removed]"
          },
          "metadata": {}
        }
      ]
    },
    {
      "cell_type": "markdown",
      "source": [
        "## Building PixelCNN"
      ],
      "metadata": {
        "id": "SNq5sR8B4z_c"
      }
    },
    {
      "cell_type": "code",
      "source": [
        "# Input layer for grayscale images\n",
        "inputs = layers.Input(shape=(IMAGE_SIZE, IMAGE_SIZE, 1))\n",
        "\n",
        "# First masked convolution layer with mask type \"A\"\n",
        "# which is typically used for the first layer in PixelCNN\n",
        "x = MaskedConv2D(\n",
        "    mask_type=\"A\",\n",
        "    filters=N_FILTERS,\n",
        "    kernel_size=7,\n",
        "    activation=\"relu\",\n",
        "    padding=\"same\",\n",
        ")(inputs)\n",
        "\n",
        "# Apply a series of residual blocks\n",
        "# These blocks allow for better gradient flow and deeper networks\n",
        "for _ in range(RESIDUAL_BLOCKS):\n",
        "    x = ResidualBlock(filters=N_FILTERS)(x)\n",
        "\n",
        "# Apply two MaskedConv2D layers with mask type \"B\"\n",
        "for _ in range(2):\n",
        "    x = MaskedConv2D(\n",
        "        mask_type=\"B\",\n",
        "        filters=N_FILTERS,\n",
        "        kernel_size=1,\n",
        "        strides=1,            # Stride of 1 to preserve the input size\n",
        "        activation=\"relu\",\n",
        "        padding=\"valid\",      # Valid padding = no padding\n",
        "    )(x)\n",
        "\n",
        "# Final convolution layer to output predictions\n",
        "# This layer outputs a softmax over the PIXEL_LEVELS for each pixel\n",
        "out = layers.Conv2D(\n",
        "    filters=PIXEL_LEVELS,\n",
        "    kernel_size=1,         # 1x1 convolution to reduce dimensionality to the number of pixel levels\n",
        "    strides=1,\n",
        "    activation=\"softmax\",  # Softmax activation for classification\n",
        "    padding=\"valid\",\n",
        ")(x)\n",
        "\n",
        "# Create the PixelCNN model\n",
        "pixel_cnn = models.Model(inputs, out)\n",
        "\n",
        "# Print the model architecture summary\n",
        "pixel_cnn.summary()"
      ],
      "metadata": {
        "colab": {
          "base_uri": "https://localhost:8080/",
          "height": 449
        },
        "id": "q9YeRsKiaLXS",
        "outputId": "abf9d108-3335-4a9d-e0d7-adc281ac2217"
      },
      "execution_count": 11,
      "outputs": [
        {
          "output_type": "display_data",
          "data": {
            "text/plain": [
              "\u001b[1mModel: \"functional\"\u001b[0m\n"
            ],
            "text/html": [
              "<pre style=\"white-space:pre;overflow-x:auto;line-height:normal;font-family:Menlo,'DejaVu Sans Mono',consolas,'Courier New',monospace\"><span style=\"font-weight: bold\">Model: \"functional\"</span>\n",
              "</pre>\n"
            ]
          },
          "metadata": {}
        },
        {
          "output_type": "display_data",
          "data": {
            "text/plain": [
              "┏━━━━━━━━━━━━━━━━━━━━━━━━━━━━━━━━━━━━━━┳━━━━━━━━━━━━━━━━━━━━━━━━━━━━━┳━━━━━━━━━━━━━━━━━┓\n",
              "┃\u001b[1m \u001b[0m\u001b[1mLayer (type)                        \u001b[0m\u001b[1m \u001b[0m┃\u001b[1m \u001b[0m\u001b[1mOutput Shape               \u001b[0m\u001b[1m \u001b[0m┃\u001b[1m \u001b[0m\u001b[1m        Param #\u001b[0m\u001b[1m \u001b[0m┃\n",
              "┡━━━━━━━━━━━━━━━━━━━━━━━━━━━━━━━━━━━━━━╇━━━━━━━━━━━━━━━━━━━━━━━━━━━━━╇━━━━━━━━━━━━━━━━━┩\n",
              "│ input_layer (\u001b[38;5;33mInputLayer\u001b[0m)             │ (\u001b[38;5;45mNone\u001b[0m, \u001b[38;5;34m28\u001b[0m, \u001b[38;5;34m28\u001b[0m, \u001b[38;5;34m1\u001b[0m)           │               \u001b[38;5;34m0\u001b[0m │\n",
              "├──────────────────────────────────────┼─────────────────────────────┼─────────────────┤\n",
              "│ masked_conv2d (\u001b[38;5;33mMaskedConv2D\u001b[0m)         │ (\u001b[38;5;45mNone\u001b[0m, \u001b[38;5;34m28\u001b[0m, \u001b[38;5;34m28\u001b[0m, \u001b[38;5;34m128\u001b[0m)         │           \u001b[38;5;34m6,400\u001b[0m │\n",
              "├──────────────────────────────────────┼─────────────────────────────┼─────────────────┤\n",
              "│ residual_block (\u001b[38;5;33mResidualBlock\u001b[0m)       │ (\u001b[38;5;45mNone\u001b[0m, \u001b[38;5;34m28\u001b[0m, \u001b[38;5;34m28\u001b[0m, \u001b[38;5;34m128\u001b[0m)         │          \u001b[38;5;34m53,504\u001b[0m │\n",
              "├──────────────────────────────────────┼─────────────────────────────┼─────────────────┤\n",
              "│ residual_block_1 (\u001b[38;5;33mResidualBlock\u001b[0m)     │ (\u001b[38;5;45mNone\u001b[0m, \u001b[38;5;34m28\u001b[0m, \u001b[38;5;34m28\u001b[0m, \u001b[38;5;34m128\u001b[0m)         │          \u001b[38;5;34m53,504\u001b[0m │\n",
              "├──────────────────────────────────────┼─────────────────────────────┼─────────────────┤\n",
              "│ residual_block_2 (\u001b[38;5;33mResidualBlock\u001b[0m)     │ (\u001b[38;5;45mNone\u001b[0m, \u001b[38;5;34m28\u001b[0m, \u001b[38;5;34m28\u001b[0m, \u001b[38;5;34m128\u001b[0m)         │          \u001b[38;5;34m53,504\u001b[0m │\n",
              "├──────────────────────────────────────┼─────────────────────────────┼─────────────────┤\n",
              "│ residual_block_3 (\u001b[38;5;33mResidualBlock\u001b[0m)     │ (\u001b[38;5;45mNone\u001b[0m, \u001b[38;5;34m28\u001b[0m, \u001b[38;5;34m28\u001b[0m, \u001b[38;5;34m128\u001b[0m)         │          \u001b[38;5;34m53,504\u001b[0m │\n",
              "├──────────────────────────────────────┼─────────────────────────────┼─────────────────┤\n",
              "│ residual_block_4 (\u001b[38;5;33mResidualBlock\u001b[0m)     │ (\u001b[38;5;45mNone\u001b[0m, \u001b[38;5;34m28\u001b[0m, \u001b[38;5;34m28\u001b[0m, \u001b[38;5;34m128\u001b[0m)         │          \u001b[38;5;34m53,504\u001b[0m │\n",
              "├──────────────────────────────────────┼─────────────────────────────┼─────────────────┤\n",
              "│ masked_conv2d_6 (\u001b[38;5;33mMaskedConv2D\u001b[0m)       │ (\u001b[38;5;45mNone\u001b[0m, \u001b[38;5;34m28\u001b[0m, \u001b[38;5;34m28\u001b[0m, \u001b[38;5;34m128\u001b[0m)         │          \u001b[38;5;34m16,512\u001b[0m │\n",
              "├──────────────────────────────────────┼─────────────────────────────┼─────────────────┤\n",
              "│ masked_conv2d_7 (\u001b[38;5;33mMaskedConv2D\u001b[0m)       │ (\u001b[38;5;45mNone\u001b[0m, \u001b[38;5;34m28\u001b[0m, \u001b[38;5;34m28\u001b[0m, \u001b[38;5;34m128\u001b[0m)         │          \u001b[38;5;34m16,512\u001b[0m │\n",
              "├──────────────────────────────────────┼─────────────────────────────┼─────────────────┤\n",
              "│ conv2d_18 (\u001b[38;5;33mConv2D\u001b[0m)                   │ (\u001b[38;5;45mNone\u001b[0m, \u001b[38;5;34m28\u001b[0m, \u001b[38;5;34m28\u001b[0m, \u001b[38;5;34m4\u001b[0m)           │             \u001b[38;5;34m516\u001b[0m │\n",
              "└──────────────────────────────────────┴─────────────────────────────┴─────────────────┘\n"
            ],
            "text/html": [
              "<pre style=\"white-space:pre;overflow-x:auto;line-height:normal;font-family:Menlo,'DejaVu Sans Mono',consolas,'Courier New',monospace\">┏━━━━━━━━━━━━━━━━━━━━━━━━━━━━━━━━━━━━━━┳━━━━━━━━━━━━━━━━━━━━━━━━━━━━━┳━━━━━━━━━━━━━━━━━┓\n",
              "┃<span style=\"font-weight: bold\"> Layer (type)                         </span>┃<span style=\"font-weight: bold\"> Output Shape                </span>┃<span style=\"font-weight: bold\">         Param # </span>┃\n",
              "┡━━━━━━━━━━━━━━━━━━━━━━━━━━━━━━━━━━━━━━╇━━━━━━━━━━━━━━━━━━━━━━━━━━━━━╇━━━━━━━━━━━━━━━━━┩\n",
              "│ input_layer (<span style=\"color: #0087ff; text-decoration-color: #0087ff\">InputLayer</span>)             │ (<span style=\"color: #00d7ff; text-decoration-color: #00d7ff\">None</span>, <span style=\"color: #00af00; text-decoration-color: #00af00\">28</span>, <span style=\"color: #00af00; text-decoration-color: #00af00\">28</span>, <span style=\"color: #00af00; text-decoration-color: #00af00\">1</span>)           │               <span style=\"color: #00af00; text-decoration-color: #00af00\">0</span> │\n",
              "├──────────────────────────────────────┼─────────────────────────────┼─────────────────┤\n",
              "│ masked_conv2d (<span style=\"color: #0087ff; text-decoration-color: #0087ff\">MaskedConv2D</span>)         │ (<span style=\"color: #00d7ff; text-decoration-color: #00d7ff\">None</span>, <span style=\"color: #00af00; text-decoration-color: #00af00\">28</span>, <span style=\"color: #00af00; text-decoration-color: #00af00\">28</span>, <span style=\"color: #00af00; text-decoration-color: #00af00\">128</span>)         │           <span style=\"color: #00af00; text-decoration-color: #00af00\">6,400</span> │\n",
              "├──────────────────────────────────────┼─────────────────────────────┼─────────────────┤\n",
              "│ residual_block (<span style=\"color: #0087ff; text-decoration-color: #0087ff\">ResidualBlock</span>)       │ (<span style=\"color: #00d7ff; text-decoration-color: #00d7ff\">None</span>, <span style=\"color: #00af00; text-decoration-color: #00af00\">28</span>, <span style=\"color: #00af00; text-decoration-color: #00af00\">28</span>, <span style=\"color: #00af00; text-decoration-color: #00af00\">128</span>)         │          <span style=\"color: #00af00; text-decoration-color: #00af00\">53,504</span> │\n",
              "├──────────────────────────────────────┼─────────────────────────────┼─────────────────┤\n",
              "│ residual_block_1 (<span style=\"color: #0087ff; text-decoration-color: #0087ff\">ResidualBlock</span>)     │ (<span style=\"color: #00d7ff; text-decoration-color: #00d7ff\">None</span>, <span style=\"color: #00af00; text-decoration-color: #00af00\">28</span>, <span style=\"color: #00af00; text-decoration-color: #00af00\">28</span>, <span style=\"color: #00af00; text-decoration-color: #00af00\">128</span>)         │          <span style=\"color: #00af00; text-decoration-color: #00af00\">53,504</span> │\n",
              "├──────────────────────────────────────┼─────────────────────────────┼─────────────────┤\n",
              "│ residual_block_2 (<span style=\"color: #0087ff; text-decoration-color: #0087ff\">ResidualBlock</span>)     │ (<span style=\"color: #00d7ff; text-decoration-color: #00d7ff\">None</span>, <span style=\"color: #00af00; text-decoration-color: #00af00\">28</span>, <span style=\"color: #00af00; text-decoration-color: #00af00\">28</span>, <span style=\"color: #00af00; text-decoration-color: #00af00\">128</span>)         │          <span style=\"color: #00af00; text-decoration-color: #00af00\">53,504</span> │\n",
              "├──────────────────────────────────────┼─────────────────────────────┼─────────────────┤\n",
              "│ residual_block_3 (<span style=\"color: #0087ff; text-decoration-color: #0087ff\">ResidualBlock</span>)     │ (<span style=\"color: #00d7ff; text-decoration-color: #00d7ff\">None</span>, <span style=\"color: #00af00; text-decoration-color: #00af00\">28</span>, <span style=\"color: #00af00; text-decoration-color: #00af00\">28</span>, <span style=\"color: #00af00; text-decoration-color: #00af00\">128</span>)         │          <span style=\"color: #00af00; text-decoration-color: #00af00\">53,504</span> │\n",
              "├──────────────────────────────────────┼─────────────────────────────┼─────────────────┤\n",
              "│ residual_block_4 (<span style=\"color: #0087ff; text-decoration-color: #0087ff\">ResidualBlock</span>)     │ (<span style=\"color: #00d7ff; text-decoration-color: #00d7ff\">None</span>, <span style=\"color: #00af00; text-decoration-color: #00af00\">28</span>, <span style=\"color: #00af00; text-decoration-color: #00af00\">28</span>, <span style=\"color: #00af00; text-decoration-color: #00af00\">128</span>)         │          <span style=\"color: #00af00; text-decoration-color: #00af00\">53,504</span> │\n",
              "├──────────────────────────────────────┼─────────────────────────────┼─────────────────┤\n",
              "│ masked_conv2d_6 (<span style=\"color: #0087ff; text-decoration-color: #0087ff\">MaskedConv2D</span>)       │ (<span style=\"color: #00d7ff; text-decoration-color: #00d7ff\">None</span>, <span style=\"color: #00af00; text-decoration-color: #00af00\">28</span>, <span style=\"color: #00af00; text-decoration-color: #00af00\">28</span>, <span style=\"color: #00af00; text-decoration-color: #00af00\">128</span>)         │          <span style=\"color: #00af00; text-decoration-color: #00af00\">16,512</span> │\n",
              "├──────────────────────────────────────┼─────────────────────────────┼─────────────────┤\n",
              "│ masked_conv2d_7 (<span style=\"color: #0087ff; text-decoration-color: #0087ff\">MaskedConv2D</span>)       │ (<span style=\"color: #00d7ff; text-decoration-color: #00d7ff\">None</span>, <span style=\"color: #00af00; text-decoration-color: #00af00\">28</span>, <span style=\"color: #00af00; text-decoration-color: #00af00\">28</span>, <span style=\"color: #00af00; text-decoration-color: #00af00\">128</span>)         │          <span style=\"color: #00af00; text-decoration-color: #00af00\">16,512</span> │\n",
              "├──────────────────────────────────────┼─────────────────────────────┼─────────────────┤\n",
              "│ conv2d_18 (<span style=\"color: #0087ff; text-decoration-color: #0087ff\">Conv2D</span>)                   │ (<span style=\"color: #00d7ff; text-decoration-color: #00d7ff\">None</span>, <span style=\"color: #00af00; text-decoration-color: #00af00\">28</span>, <span style=\"color: #00af00; text-decoration-color: #00af00\">28</span>, <span style=\"color: #00af00; text-decoration-color: #00af00\">4</span>)           │             <span style=\"color: #00af00; text-decoration-color: #00af00\">516</span> │\n",
              "└──────────────────────────────────────┴─────────────────────────────┴─────────────────┘\n",
              "</pre>\n"
            ]
          },
          "metadata": {}
        },
        {
          "output_type": "display_data",
          "data": {
            "text/plain": [
              "\u001b[1m Total params: \u001b[0m\u001b[38;5;34m307,460\u001b[0m (1.17 MB)\n"
            ],
            "text/html": [
              "<pre style=\"white-space:pre;overflow-x:auto;line-height:normal;font-family:Menlo,'DejaVu Sans Mono',consolas,'Courier New',monospace\"><span style=\"font-weight: bold\"> Total params: </span><span style=\"color: #00af00; text-decoration-color: #00af00\">307,460</span> (1.17 MB)\n",
              "</pre>\n"
            ]
          },
          "metadata": {}
        },
        {
          "output_type": "display_data",
          "data": {
            "text/plain": [
              "\u001b[1m Trainable params: \u001b[0m\u001b[38;5;34m307,460\u001b[0m (1.17 MB)\n"
            ],
            "text/html": [
              "<pre style=\"white-space:pre;overflow-x:auto;line-height:normal;font-family:Menlo,'DejaVu Sans Mono',consolas,'Courier New',monospace\"><span style=\"font-weight: bold\"> Trainable params: </span><span style=\"color: #00af00; text-decoration-color: #00af00\">307,460</span> (1.17 MB)\n",
              "</pre>\n"
            ]
          },
          "metadata": {}
        },
        {
          "output_type": "display_data",
          "data": {
            "text/plain": [
              "\u001b[1m Non-trainable params: \u001b[0m\u001b[38;5;34m0\u001b[0m (0.00 B)\n"
            ],
            "text/html": [
              "<pre style=\"white-space:pre;overflow-x:auto;line-height:normal;font-family:Menlo,'DejaVu Sans Mono',consolas,'Courier New',monospace\"><span style=\"font-weight: bold\"> Non-trainable params: </span><span style=\"color: #00af00; text-decoration-color: #00af00\">0</span> (0.00 B)\n",
              "</pre>\n"
            ]
          },
          "metadata": {}
        }
      ]
    },
    {
      "cell_type": "code",
      "source": [
        "# Setting up model optimizer and compiling model\n",
        "adam = optimizers.Adam(learning_rate=0.0005)\n",
        "pixel_cnn.compile(optimizer=adam, loss=\"sparse_categorical_crossentropy\")"
      ],
      "metadata": {
        "id": "F77zvyJUaQTU"
      },
      "execution_count": 12,
      "outputs": []
    },
    {
      "cell_type": "code",
      "source": [
        "# Fitting model\n",
        "pixel_cnn.fit(\n",
        "    input_data,\n",
        "    output_data,\n",
        "    batch_size=BATCH_SIZE,\n",
        "    epochs=EPOCHS,\n",
        "    callbacks=[tensorboard_callback, img_generator_callback], # Custom callbacks\n",
        ")"
      ],
      "metadata": {
        "colab": {
          "base_uri": "https://localhost:8080/",
          "height": 1000
        },
        "id": "XvaDxA75aWhX",
        "outputId": "b6a97f90-e5ac-41fe-8456-33b3cad35c9d"
      },
      "execution_count": 13,
      "outputs": [
        {
          "output_type": "stream",
          "name": "stdout",
          "text": [
            "Epoch 1/25\n",
            "\u001b[1m469/469\u001b[0m \u001b[32m━━━━━━━━━━━━━━━━━━━━\u001b[0m\u001b[37m\u001b[0m \u001b[1m0s\u001b[0m 53ms/step - loss: 0.5604\n",
            "Saved to /content/images/generated_img_000.png\n"
          ]
        },
        {
          "output_type": "display_data",
          "data": {
            "text/plain": [
              "<Figure size 2000x300 with 10 Axes>"
            ],
            "image/png": "[encoded data removed]"
          },
          "metadata": {}
        },
        {
          "output_type": "stream",
          "name": "stdout",
          "text": [
            "\b\b\b\b\b\b\b\b\b\b\b\b\b\b\b\b\b\b\b\b\b\b\b\b\b\b\b\b\b\b\b\b\b\b\b\b\b\b\b\b\b\b\b\b\b\b\b\b\b\b\b\b\b\b\b\b\r\u001b[1m469/469\u001b[0m \u001b[32m━━━━━━━━━━━━━━━━━━━━\u001b[0m\u001b[37m\u001b[0m \u001b[1m79s\u001b[0m 148ms/step - loss: 0.5601\n",
            "Epoch 2/25\n",
            "\u001b[1m469/469\u001b[0m \u001b[32m━━━━━━━━━━━━━━━━━━━━\u001b[0m\u001b[37m\u001b[0m \u001b[1m0s\u001b[0m 44ms/step - loss: 0.3227\n",
            "Saved to /content/images/generated_img_001.png\n"
          ]
        },
        {
          "output_type": "display_data",
          "data": {
            "text/plain": [
              "<Figure size 2000x300 with 10 Axes>"
            ],
            "image/png": "[encoded data removed]"
          },
          "metadata": {}
        },
        {
          "output_type": "stream",
          "name": "stdout",
          "text": [
            "\b\b\b\b\b\b\b\b\b\b\b\b\b\b\b\b\b\b\b\b\b\b\b\b\b\b\b\b\b\b\b\b\b\b\b\b\b\b\b\b\b\b\b\b\b\b\b\b\b\b\b\b\b\b\b\b\r\u001b[1m469/469\u001b[0m \u001b[32m━━━━━━━━━━━━━━━━━━━━\u001b[0m\u001b[37m\u001b[0m \u001b[1m65s\u001b[0m 138ms/step - loss: 0.3227\n",
            "Epoch 3/25\n",
            "\u001b[1m469/469\u001b[0m \u001b[32m━━━━━━━━━━━━━━━━━━━━\u001b[0m\u001b[37m\u001b[0m \u001b[1m0s\u001b[0m 44ms/step - loss: 0.3099\n",
            "Saved to /content/images/generated_img_002.png\n"
          ]
        },
        {
          "output_type": "display_data",
          "data": {
            "text/plain": [
              "<Figure size 2000x300 with 10 Axes>"
            ],
            "image/png": "[encoded data removed]"
          },
          "metadata": {}
        },
        {
          "output_type": "stream",
          "name": "stdout",
          "text": [
            "\b\b\b\b\b\b\b\b\b\b\b\b\b\b\b\b\b\b\b\b\b\b\b\b\b\b\b\b\b\b\b\b\b\b\b\b\b\b\b\b\b\b\b\b\b\b\b\b\b\b\b\b\b\b\b\b\r\u001b[1m469/469\u001b[0m \u001b[32m━━━━━━━━━━━━━━━━━━━━\u001b[0m\u001b[37m\u001b[0m \u001b[1m65s\u001b[0m 139ms/step - loss: 0.3099\n",
            "Epoch 4/25\n",
            "\u001b[1m469/469\u001b[0m \u001b[32m━━━━━━━━━━━━━━━━━━━━\u001b[0m\u001b[37m\u001b[0m \u001b[1m0s\u001b[0m 44ms/step - loss: 0.3049\n",
            "Saved to /content/images/generated_img_003.png\n"
          ]
        },
        {
          "output_type": "display_data",
          "data": {
            "text/plain": [
              "<Figure size 2000x300 with 10 Axes>"
            ],
            "image/png": "[encoded data removed]"
          },
          "metadata": {}
        },
        {
          "output_type": "stream",
          "name": "stdout",
          "text": [
            "\b\b\b\b\b\b\b\b\b\b\b\b\b\b\b\b\b\b\b\b\b\b\b\b\b\b\b\b\b\b\b\b\b\b\b\b\b\b\b\b\b\b\b\b\b\b\b\b\b\b\b\b\b\b\b\b\r\u001b[1m469/469\u001b[0m \u001b[32m━━━━━━━━━━━━━━━━━━━━\u001b[0m\u001b[37m\u001b[0m \u001b[1m65s\u001b[0m 139ms/step - loss: 0.3049\n",
            "Epoch 5/25\n",
            "\u001b[1m469/469\u001b[0m \u001b[32m━━━━━━━━━━━━━━━━━━━━\u001b[0m\u001b[37m\u001b[0m \u001b[1m0s\u001b[0m 44ms/step - loss: 0.3010\n",
            "Saved to /content/images/generated_img_004.png\n"
          ]
        },
        {
          "output_type": "display_data",
          "data": {
            "text/plain": [
              "<Figure size 2000x300 with 10 Axes>"
            ],
            "image/png": "[encoded data removed]"
          },
          "metadata": {}
        },
        {
          "output_type": "stream",
          "name": "stdout",
          "text": [
            "\b\b\b\b\b\b\b\b\b\b\b\b\b\b\b\b\b\b\b\b\b\b\b\b\b\b\b\b\b\b\b\b\b\b\b\b\b\b\b\b\b\b\b\b\b\b\b\b\b\b\b\b\b\b\b\b\r\u001b[1m469/469\u001b[0m \u001b[32m━━━━━━━━━━━━━━━━━━━━\u001b[0m\u001b[37m\u001b[0m \u001b[1m66s\u001b[0m 141ms/step - loss: 0.3010\n",
            "Epoch 6/25\n",
            "\u001b[1m469/469\u001b[0m \u001b[32m━━━━━━━━━━━━━━━━━━━━\u001b[0m\u001b[37m\u001b[0m \u001b[1m0s\u001b[0m 44ms/step - loss: 0.2990\n",
            "Saved to /content/images/generated_img_005.png\n"
          ]
        },
        {
          "output_type": "display_data",
          "data": {
            "text/plain": [
              "<Figure size 2000x300 with 10 Axes>"
            ],
            "image/png": "[encoded data removed]"
          },
          "metadata": {}
        },
        {
          "output_type": "stream",
          "name": "stdout",
          "text": [
            "\b\b\b\b\b\b\b\b\b\b\b\b\b\b\b\b\b\b\b\b\b\b\b\b\b\b\b\b\b\b\b\b\b\b\b\b\b\b\b\b\b\b\b\b\b\b\b\b\b\b\b\b\b\b\b\b\r\u001b[1m469/469\u001b[0m \u001b[32m━━━━━━━━━━━━━━━━━━━━\u001b[0m\u001b[37m\u001b[0m \u001b[1m67s\u001b[0m 143ms/step - loss: 0.2990\n",
            "Epoch 7/25\n",
            "\u001b[1m469/469\u001b[0m \u001b[32m━━━━━━━━━━━━━━━━━━━━\u001b[0m\u001b[37m\u001b[0m \u001b[1m0s\u001b[0m 44ms/step - loss: 0.2969\n",
            "Saved to /content/images/generated_img_006.png\n"
          ]
        },
        {
          "output_type": "display_data",
          "data": {
            "text/plain": [
              "<Figure size 2000x300 with 10 Axes>"
            ],
            "image/png": "[encoded data removed]"
          },
          "metadata": {}
        },
        {
          "output_type": "stream",
          "name": "stdout",
          "text": [
            "\b\b\b\b\b\b\b\b\b\b\b\b\b\b\b\b\b\b\b\b\b\b\b\b\b\b\b\b\b\b\b\b\b\b\b\b\b\b\b\b\b\b\b\b\b\b\b\b\b\b\b\b\b\b\b\b\r\u001b[1m469/469\u001b[0m \u001b[32m━━━━━━━━━━━━━━━━━━━━\u001b[0m\u001b[37m\u001b[0m \u001b[1m65s\u001b[0m 139ms/step - loss: 0.2969\n",
            "Epoch 8/25\n",
            "\u001b[1m469/469\u001b[0m \u001b[32m━━━━━━━━━━━━━━━━━━━━\u001b[0m\u001b[37m\u001b[0m \u001b[1m0s\u001b[0m 44ms/step - loss: 0.2965\n",
            "Saved to /content/images/generated_img_007.png\n"
          ]
        },
        {
          "output_type": "display_data",
          "data": {
            "text/plain": [
              "<Figure size 2000x300 with 10 Axes>"
            ],
            "image/png": "[encoded data removed]"
          },
          "metadata": {}
        },
        {
          "output_type": "stream",
          "name": "stdout",
          "text": [
            "\b\b\b\b\b\b\b\b\b\b\b\b\b\b\b\b\b\b\b\b\b\b\b\b\b\b\b\b\b\b\b\b\b\b\b\b\b\b\b\b\b\b\b\b\b\b\b\b\b\b\b\b\b\b\b\b\r\u001b[1m469/469\u001b[0m \u001b[32m━━━━━━━━━━━━━━━━━━━━\u001b[0m\u001b[37m\u001b[0m \u001b[1m66s\u001b[0m 141ms/step - loss: 0.2965\n",
            "Epoch 9/25\n",
            "\u001b[1m468/469\u001b[0m \u001b[32m━━━━━━━━━━━━━━━━━━━\u001b[0m\u001b[37m━\u001b[0m \u001b[1m0s\u001b[0m 44ms/step - loss: 0.2941\n",
            "Saved to /content/images/generated_img_008.png\n"
          ]
        },
        {
          "output_type": "display_data",
          "data": {
            "text/plain": [
              "<Figure size 2000x300 with 10 Axes>"
            ],
            "image/png": "[encoded data removed]"
          },
          "metadata": {}
        },
        {
          "output_type": "stream",
          "name": "stdout",
          "text": [
            "\b\b\b\b\b\b\b\b\b\b\b\b\b\b\b\b\b\b\b\b\b\b\b\b\b\b\b\b\b\b\b\b\b\b\b\b\b\b\b\b\b\b\b\b\b\b\b\b\b\b\b\b\b\b\b\b\r\u001b[1m469/469\u001b[0m \u001b[32m━━━━━━━━━━━━━━━━━━━━\u001b[0m\u001b[37m\u001b[0m \u001b[1m65s\u001b[0m 139ms/step - loss: 0.2941\n",
            "Epoch 10/25\n",
            "\u001b[1m468/469\u001b[0m \u001b[32m━━━━━━━━━━━━━━━━━━━\u001b[0m\u001b[37m━\u001b[0m \u001b[1m0s\u001b[0m 44ms/step - loss: 0.2930\n",
            "Saved to /content/images/generated_img_009.png\n"
          ]
        },
        {
          "output_type": "display_data",
          "data": {
            "text/plain": [
              "<Figure size 2000x300 with 10 Axes>"
            ],
            "image/png": "[encoded data removed]"
          },
          "metadata": {}
        },
        {
          "output_type": "stream",
          "name": "stdout",
          "text": [
            "\b\b\b\b\b\b\b\b\b\b\b\b\b\b\b\b\b\b\b\b\b\b\b\b\b\b\b\b\b\b\b\b\b\b\b\b\b\b\b\b\b\b\b\b\b\b\b\b\b\b\b\b\b\b\b\b\r\u001b[1m469/469\u001b[0m \u001b[32m━━━━━━━━━━━━━━━━━━━━\u001b[0m\u001b[37m\u001b[0m \u001b[1m66s\u001b[0m 141ms/step - loss: 0.2930\n",
            "Epoch 11/25\n",
            "\u001b[1m469/469\u001b[0m \u001b[32m━━━━━━━━━━━━━━━━━━━━\u001b[0m\u001b[37m\u001b[0m \u001b[1m0s\u001b[0m 44ms/step - loss: 0.2926\n",
            "Saved to /content/images/generated_img_010.png\n"
          ]
        },
        {
          "output_type": "display_data",
          "data": {
            "text/plain": [
              "<Figure size 2000x300 with 10 Axes>"
            ],
            "image/png": "[encoded data removed]"
          },
          "metadata": {}
        },
        {
          "output_type": "stream",
          "name": "stdout",
          "text": [
            "\b\b\b\b\b\b\b\b\b\b\b\b\b\b\b\b\b\b\b\b\b\b\b\b\b\b\b\b\b\b\b\b\b\b\b\b\b\b\b\b\b\b\b\b\b\b\b\b\b\b\b\b\b\b\b\b\r\u001b[1m469/469\u001b[0m \u001b[32m━━━━━━━━━━━━━━━━━━━━\u001b[0m\u001b[37m\u001b[0m \u001b[1m65s\u001b[0m 139ms/step - loss: 0.2926\n",
            "Epoch 12/25\n",
            "\u001b[1m469/469\u001b[0m \u001b[32m━━━━━━━━━━━━━━━━━━━━\u001b[0m\u001b[37m\u001b[0m \u001b[1m0s\u001b[0m 44ms/step - loss: 0.2909\n",
            "Saved to /content/images/generated_img_011.png\n"
          ]
        },
        {
          "output_type": "display_data",
          "data": {
            "text/plain": [
              "<Figure size 2000x300 with 10 Axes>"
            ],
            "image/png": "[encoded data removed]"
          },
          "metadata": {}
        },
        {
          "output_type": "stream",
          "name": "stdout",
          "text": [
            "\b\b\b\b\b\b\b\b\b\b\b\b\b\b\b\b\b\b\b\b\b\b\b\b\b\b\b\b\b\b\b\b\b\b\b\b\b\b\b\b\b\b\b\b\b\b\b\b\b\b\b\b\b\b\b\b\r\u001b[1m469/469\u001b[0m \u001b[32m━━━━━━━━━━━━━━━━━━━━\u001b[0m\u001b[37m\u001b[0m \u001b[1m66s\u001b[0m 141ms/step - loss: 0.2909\n",
            "Epoch 13/25\n",
            "\u001b[1m469/469\u001b[0m \u001b[32m━━━━━━━━━━━━━━━━━━━━\u001b[0m\u001b[37m\u001b[0m \u001b[1m0s\u001b[0m 44ms/step - loss: 0.2914\n",
            "Saved to /content/images/generated_img_012.png\n"
          ]
        },
        {
          "output_type": "display_data",
          "data": {
            "text/plain": [
              "<Figure size 2000x300 with 10 Axes>"
            ],
            "image/png": "[encoded data removed]"
          },
          "metadata": {}
        },
        {
          "output_type": "stream",
          "name": "stdout",
          "text": [
            "\b\b\b\b\b\b\b\b\b\b\b\b\b\b\b\b\b\b\b\b\b\b\b\b\b\b\b\b\b\b\b\b\b\b\b\b\b\b\b\b\b\b\b\b\b\b\b\b\b\b\b\b\b\b\b\b\r\u001b[1m469/469\u001b[0m \u001b[32m━━━━━━━━━━━━━━━━━━━━\u001b[0m\u001b[37m\u001b[0m \u001b[1m65s\u001b[0m 140ms/step - loss: 0.2913\n",
            "Epoch 14/25\n",
            "\u001b[1m469/469\u001b[0m \u001b[32m━━━━━━━━━━━━━━━━━━━━\u001b[0m\u001b[37m\u001b[0m \u001b[1m0s\u001b[0m 44ms/step - loss: 0.2901\n",
            "Saved to /content/images/generated_img_013.png\n"
          ]
        },
        {
          "output_type": "display_data",
          "data": {
            "text/plain": [
              "<Figure size 2000x300 with 10 Axes>"
            ],
            "image/png": "[encoded data removed]"
          },
          "metadata": {}
        },
        {
          "output_type": "stream",
          "name": "stdout",
          "text": [
            "\b\b\b\b\b\b\b\b\b\b\b\b\b\b\b\b\b\b\b\b\b\b\b\b\b\b\b\b\b\b\b\b\b\b\b\b\b\b\b\b\b\b\b\b\b\b\b\b\b\b\b\b\b\b\b\b\r\u001b[1m469/469\u001b[0m \u001b[32m━━━━━━━━━━━━━━━━━━━━\u001b[0m\u001b[37m\u001b[0m \u001b[1m66s\u001b[0m 141ms/step - loss: 0.2901\n",
            "Epoch 15/25\n",
            "\u001b[1m469/469\u001b[0m \u001b[32m━━━━━━━━━━━━━━━━━━━━\u001b[0m\u001b[37m\u001b[0m \u001b[1m0s\u001b[0m 44ms/step - loss: 0.2886\n",
            "Saved to /content/images/generated_img_014.png\n"
          ]
        },
        {
          "output_type": "display_data",
          "data": {
            "text/plain": [
              "<Figure size 2000x300 with 10 Axes>"
            ],
            "image/png": "[encoded data removed]"
          },
          "metadata": {}
        },
        {
          "output_type": "stream",
          "name": "stdout",
          "text": [
            "\b\b\b\b\b\b\b\b\b\b\b\b\b\b\b\b\b\b\b\b\b\b\b\b\b\b\b\b\b\b\b\b\b\b\b\b\b\b\b\b\b\b\b\b\b\b\b\b\b\b\b\b\b\b\b\b\r\u001b[1m469/469\u001b[0m \u001b[32m━━━━━━━━━━━━━━━━━━━━\u001b[0m\u001b[37m\u001b[0m \u001b[1m66s\u001b[0m 141ms/step - loss: 0.2886\n",
            "Epoch 16/25\n",
            "\u001b[1m469/469\u001b[0m \u001b[32m━━━━━━━━━━━━━━━━━━━━\u001b[0m\u001b[37m\u001b[0m \u001b[1m0s\u001b[0m 44ms/step - loss: 0.2884\n",
            "Saved to /content/images/generated_img_015.png\n"
          ]
        },
        {
          "output_type": "display_data",
          "data": {
            "text/plain": [
              "<Figure size 2000x300 with 10 Axes>"
            ],
            "image/png": "[encoded data removed]"
          },
          "metadata": {}
        },
        {
          "output_type": "stream",
          "name": "stdout",
          "text": [
            "\b\b\b\b\b\b\b\b\b\b\b\b\b\b\b\b\b\b\b\b\b\b\b\b\b\b\b\b\b\b\b\b\b\b\b\b\b\b\b\b\b\b\b\b\b\b\b\b\b\b\b\b\b\b\b\b\r\u001b[1m469/469\u001b[0m \u001b[32m━━━━━━━━━━━━━━━━━━━━\u001b[0m\u001b[37m\u001b[0m \u001b[1m66s\u001b[0m 140ms/step - loss: 0.2884\n",
            "Epoch 17/25\n",
            "\u001b[1m469/469\u001b[0m \u001b[32m━━━━━━━━━━━━━━━━━━━━\u001b[0m\u001b[37m\u001b[0m \u001b[1m0s\u001b[0m 44ms/step - loss: 0.2882\n",
            "Saved to /content/images/generated_img_016.png\n"
          ]
        },
        {
          "output_type": "display_data",
          "data": {
            "text/plain": [
              "<Figure size 2000x300 with 10 Axes>"
            ],
            "image/png": "[encoded data removed]"
          },
          "metadata": {}
        },
        {
          "output_type": "stream",
          "name": "stdout",
          "text": [
            "\b\b\b\b\b\b\b\b\b\b\b\b\b\b\b\b\b\b\b\b\b\b\b\b\b\b\b\b\b\b\b\b\b\b\b\b\b\b\b\b\b\b\b\b\b\b\b\b\b\b\b\b\b\b\b\b\r\u001b[1m469/469\u001b[0m \u001b[32m━━━━━━━━━━━━━━━━━━━━\u001b[0m\u001b[37m\u001b[0m \u001b[1m66s\u001b[0m 141ms/step - loss: 0.2882\n",
            "Epoch 18/25\n",
            "\u001b[1m469/469\u001b[0m \u001b[32m━━━━━━━━━━━━━━━━━━━━\u001b[0m\u001b[37m\u001b[0m \u001b[1m0s\u001b[0m 44ms/step - loss: 0.2876\n",
            "Saved to /content/images/generated_img_017.png\n"
          ]
        },
        {
          "output_type": "display_data",
          "data": {
            "text/plain": [
              "<Figure size 2000x300 with 10 Axes>"
            ],
            "image/png": "[encoded data removed]"
          },
          "metadata": {}
        },
        {
          "output_type": "stream",
          "name": "stdout",
          "text": [
            "\b\b\b\b\b\b\b\b\b\b\b\b\b\b\b\b\b\b\b\b\b\b\b\b\b\b\b\b\b\b\b\b\b\b\b\b\b\b\b\b\b\b\b\b\b\b\b\b\b\b\b\b\b\b\b\b\r\u001b[1m469/469\u001b[0m \u001b[32m━━━━━━━━━━━━━━━━━━━━\u001b[0m\u001b[37m\u001b[0m \u001b[1m65s\u001b[0m 140ms/step - loss: 0.2876\n",
            "Epoch 19/25\n",
            "\u001b[1m469/469\u001b[0m \u001b[32m━━━━━━━━━━━━━━━━━━━━\u001b[0m\u001b[37m\u001b[0m \u001b[1m0s\u001b[0m 44ms/step - loss: 0.2876\n",
            "Saved to /content/images/generated_img_018.png\n"
          ]
        },
        {
          "output_type": "display_data",
          "data": {
            "text/plain": [
              "<Figure size 2000x300 with 10 Axes>"
            ],
            "image/png": "[encoded data removed]"
          },
          "metadata": {}
        },
        {
          "output_type": "stream",
          "name": "stdout",
          "text": [
            "\b\b\b\b\b\b\b\b\b\b\b\b\b\b\b\b\b\b\b\b\b\b\b\b\b\b\b\b\b\b\b\b\b\b\b\b\b\b\b\b\b\b\b\b\b\b\b\b\b\b\b\b\b\b\b\b\r\u001b[1m469/469\u001b[0m \u001b[32m━━━━━━━━━━━━━━━━━━━━\u001b[0m\u001b[37m\u001b[0m \u001b[1m67s\u001b[0m 143ms/step - loss: 0.2876\n",
            "Epoch 20/25\n",
            "\u001b[1m468/469\u001b[0m \u001b[32m━━━━━━━━━━━━━━━━━━━\u001b[0m\u001b[37m━\u001b[0m \u001b[1m0s\u001b[0m 44ms/step - loss: 0.2859\n",
            "Saved to /content/images/generated_img_019.png\n"
          ]
        },
        {
          "output_type": "display_data",
          "data": {
            "text/plain": [
              "<Figure size 2000x300 with 10 Axes>"
            ],
            "image/png": "[encoded data removed]"
          },
          "metadata": {}
        },
        {
          "output_type": "stream",
          "name": "stdout",
          "text": [
            "\b\b\b\b\b\b\b\b\b\b\b\b\b\b\b\b\b\b\b\b\b\b\b\b\b\b\b\b\b\b\b\b\b\b\b\b\b\b\b\b\b\b\b\b\b\b\b\b\b\b\b\b\b\b\b\b\r\u001b[1m469/469\u001b[0m \u001b[32m━━━━━━━━━━━━━━━━━━━━\u001b[0m\u001b[37m\u001b[0m \u001b[1m65s\u001b[0m 140ms/step - loss: 0.2859\n",
            "Epoch 21/25\n",
            "\u001b[1m469/469\u001b[0m \u001b[32m━━━━━━━━━━━━━━━━━━━━\u001b[0m\u001b[37m\u001b[0m \u001b[1m0s\u001b[0m 44ms/step - loss: 0.2855\n",
            "Saved to /content/images/generated_img_020.png\n"
          ]
        },
        {
          "output_type": "display_data",
          "data": {
            "text/plain": [
              "<Figure size 2000x300 with 10 Axes>"
            ],
            "image/png": "[encoded data removed]"
          },
          "metadata": {}
        },
        {
          "output_type": "stream",
          "name": "stdout",
          "text": [
            "\b\b\b\b\b\b\b\b\b\b\b\b\b\b\b\b\b\b\b\b\b\b\b\b\b\b\b\b\b\b\b\b\b\b\b\b\b\b\b\b\b\b\b\b\b\b\b\b\b\b\b\b\b\b\b\b\r\u001b[1m469/469\u001b[0m \u001b[32m━━━━━━━━━━━━━━━━━━━━\u001b[0m\u001b[37m\u001b[0m \u001b[1m67s\u001b[0m 143ms/step - loss: 0.2855\n",
            "Epoch 22/25\n",
            "\u001b[1m469/469\u001b[0m \u001b[32m━━━━━━━━━━━━━━━━━━━━\u001b[0m\u001b[37m\u001b[0m \u001b[1m0s\u001b[0m 44ms/step - loss: 0.2862\n",
            "Saved to /content/images/generated_img_021.png\n"
          ]
        },
        {
          "output_type": "display_data",
          "data": {
            "text/plain": [
              "<Figure size 2000x300 with 10 Axes>"
            ],
            "image/png": "[encoded data removed]"
          },
          "metadata": {}
        },
        {
          "output_type": "stream",
          "name": "stdout",
          "text": [
            "\b\b\b\b\b\b\b\b\b\b\b\b\b\b\b\b\b\b\b\b\b\b\b\b\b\b\b\b\b\b\b\b\b\b\b\b\b\b\b\b\b\b\b\b\b\b\b\b\b\b\b\b\b\b\b\b\r\u001b[1m469/469\u001b[0m \u001b[32m━━━━━━━━━━━━━━━━━━━━\u001b[0m\u001b[37m\u001b[0m \u001b[1m65s\u001b[0m 140ms/step - loss: 0.2862\n",
            "Epoch 23/25\n",
            "\u001b[1m468/469\u001b[0m \u001b[32m━━━━━━━━━━━━━━━━━━━\u001b[0m\u001b[37m━\u001b[0m \u001b[1m0s\u001b[0m 44ms/step - loss: 0.2857\n",
            "Saved to /content/images/generated_img_022.png\n"
          ]
        },
        {
          "output_type": "display_data",
          "data": {
            "text/plain": [
              "<Figure size 2000x300 with 10 Axes>"
            ],
            "image/png": "[encoded data removed]"
          },
          "metadata": {}
        },
        {
          "output_type": "stream",
          "name": "stdout",
          "text": [
            "\b\b\b\b\b\b\b\b\b\b\b\b\b\b\b\b\b\b\b\b\b\b\b\b\b\b\b\b\b\b\b\b\b\b\b\b\b\b\b\b\b\b\b\b\b\b\b\b\b\b\b\b\b\b\b\b\r\u001b[1m469/469\u001b[0m \u001b[32m━━━━━━━━━━━━━━━━━━━━\u001b[0m\u001b[37m\u001b[0m \u001b[1m67s\u001b[0m 143ms/step - loss: 0.2857\n",
            "Epoch 24/25\n",
            "\u001b[1m468/469\u001b[0m \u001b[32m━━━━━━━━━━━━━━━━━━━\u001b[0m\u001b[37m━\u001b[0m \u001b[1m0s\u001b[0m 44ms/step - loss: 0.2844\n",
            "Saved to /content/images/generated_img_023.png\n"
          ]
        },
        {
          "output_type": "display_data",
          "data": {
            "text/plain": [
              "<Figure size 2000x300 with 10 Axes>"
            ],
            "image/png": "[encoded data removed]"
          },
          "metadata": {}
        },
        {
          "output_type": "stream",
          "name": "stdout",
          "text": [
            "\b\b\b\b\b\b\b\b\b\b\b\b\b\b\b\b\b\b\b\b\b\b\b\b\b\b\b\b\b\b\b\b\b\b\b\b\b\b\b\b\b\b\b\b\b\b\b\b\b\b\b\b\b\b\b\b\r\u001b[1m469/469\u001b[0m \u001b[32m━━━━━━━━━━━━━━━━━━━━\u001b[0m\u001b[37m\u001b[0m \u001b[1m66s\u001b[0m 140ms/step - loss: 0.2844\n",
            "Epoch 25/25\n",
            "\u001b[1m469/469\u001b[0m \u001b[32m━━━━━━━━━━━━━━━━━━━━\u001b[0m\u001b[37m\u001b[0m \u001b[1m0s\u001b[0m 44ms/step - loss: 0.2840\n",
            "Saved to /content/images/generated_img_024.png\n"
          ]
        },
        {
          "output_type": "display_data",
          "data": {
            "text/plain": [
              "<Figure size 2000x300 with 10 Axes>"
            ],
            "image/png": "[encoded data removed]"
          },
          "metadata": {}
        },
        {
          "output_type": "stream",
          "name": "stdout",
          "text": [
            "\b\b\b\b\b\b\b\b\b\b\b\b\b\b\b\b\b\b\b\b\b\b\b\b\b\b\b\b\b\b\b\b\b\b\b\b\b\b\b\b\b\b\b\b\b\b\b\b\b\b\b\b\b\b\b\b\r\u001b[1m469/469\u001b[0m \u001b[32m━━━━━━━━━━━━━━━━━━━━\u001b[0m\u001b[37m\u001b[0m \u001b[1m67s\u001b[0m 143ms/step - loss: 0.2840\n"
          ]
        },
        {
          "output_type": "execute_result",
          "data": {
            "text/plain": [
              "<keras.src.callbacks.history.History at 0x7eca8962fd90>"
            ]
          },
          "metadata": {},
          "execution_count": 13
        }
      ]
    },
    {
      "cell_type": "markdown",
      "source": [
        "## Using Model To Generate New Image"
      ],
      "metadata": {
        "id": "mgxrKHMn8SvL"
      }
    },
    {
      "cell_type": "code",
      "source": [
        "# Create class for generating images with trained PixelCNN\n",
        "class ImageGenerator:\n",
        "    \"\"\"\n",
        "    A generator class for generating images with a trained PixelCNN model.\n",
        "    \"\"\"\n",
        "\n",
        "    def __init__(self, model, num_img, image_shape, pixel_levels):\n",
        "        \"\"\"\n",
        "        Initialize the ImageGenerator.\n",
        "        \"\"\"\n",
        "        # Set up basic model attributes\n",
        "        self.model = model\n",
        "        self.num_img = num_img\n",
        "        self.image_shape = image_shape\n",
        "        self.pixel_levels = pixel_levels\n",
        "\n",
        "    def sample_from(self, probs, temperature):\n",
        "        \"\"\"\n",
        "        Samples a pixel value based on the predicted probabilities and a\n",
        "        temperature value.\n",
        "        \"\"\"\n",
        "        # Adjust probabilities by temperature (controls randomness)\n",
        "        probs = probs ** (1 / temperature)\n",
        "\n",
        "        # Normalize probabilities\n",
        "        probs = probs / np.sum(probs)\n",
        "\n",
        "        # Sample an index based on the adjusted probabilities\n",
        "        return np.random.choice(len(probs), p=probs)\n",
        "\n",
        "    def generate_images(self, temperature=1.0):\n",
        "        \"\"\"\n",
        "        Generates images one pixel at a time using the trained PixelCNN model.\n",
        "        \"\"\"\n",
        "\n",
        "        # Initialize an array for the generated images\n",
        "        # (filled with zeros initially)\n",
        "        generated_images = np.zeros((self.num_img, *self.image_shape))\n",
        "\n",
        "        # Get the dimensions of the images\n",
        "        batch, rows, cols, channels = generated_images.shape\n",
        "\n",
        "        # Generate each pixel one at a time for each image in the batch\n",
        "        for row in range(rows):\n",
        "            for col in range(cols):\n",
        "                for channel in range(channels):\n",
        "                    # Predict probabilities for the current pixel location\n",
        "                    # Verbose = 0 means no output from generation process\n",
        "                    probs = self.model.predict(generated_images,\n",
        "                                               verbose=0)[:, row, col, :]\n",
        "\n",
        "                    # Sample pixel value for each image in the batch using\n",
        "                    # the predicted probabilities\n",
        "                    for i in range(self.num_img):\n",
        "                        generated_images[i,\n",
        "                                         row,\n",
        "                                         col,\n",
        "                                         channel] = self.sample_from(probs[i],\n",
        "                                                                     temperature)\n",
        "\n",
        "                    # Normalize the pixel values to be in the [0, 1] range\n",
        "                    generated_images[:,\n",
        "                                     row,\n",
        "                                     col,\n",
        "                                     channel] /= self.pixel_levels\n",
        "\n",
        "        return generated_images\n",
        "\n",
        "# Create an instance of ImageGenerator\n",
        "image_generator = ImageGenerator(model=pixel_cnn,\n",
        "                                 num_img=5,\n",
        "                                 image_shape=(28, 28, 1),\n",
        "                                 pixel_levels=4)\n",
        "\n",
        "# Generate images with temperature 1.0 (can adjust for more/less randomness)\n",
        "generated_images = image_generator.generate_images(temperature=1.0)\n",
        "\n",
        "# Show one generated image\n",
        "plt.imshow(generated_images[0, :, :, 0], cmap='gray')\n",
        "plt.show()"
      ],
      "metadata": {
        "colab": {
          "base_uri": "https://localhost:8080/",
          "height": 430
        },
        "id": "tvfSFunW8Uqt",
        "outputId": "a422eb7f-a5af-477b-d53b-34446e558ad5"
      },
      "execution_count": 25,
      "outputs": [
        {
          "output_type": "display_data",
          "data": {
            "text/plain": [
              "<Figure size 640x480 with 1 Axes>"
            ],
            "image/png": "[encoded data removed]"
          },
          "metadata": {}
        }
      ]
    }
  ]
}