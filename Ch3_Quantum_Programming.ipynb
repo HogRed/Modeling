{
  "nbformat": 4,
  "nbformat_minor": 0,
  "metadata": {
    "colab": {
      "provenance": []
    },
    "kernelspec": {
      "name": "python3",
      "display_name": "Python 3"
    },
    "language_info": {
      "name": "python"
    }
  },
  "cells": [
    {
      "cell_type": "markdown",
      "source": [
        "# Notes / Code Following Along With \"Building Quantum Software with Python\"\n",
        "\n",
        "Book available [here](https://www.manning.com/books/building-quantum-software-with-python?utm_source=stefanski&utm_medium=affiliate&utm_campaign=book_gonciulea_building_4_11_24&a_aid=stefanski&a_bid=2f351331&chan=mm_email&)"
      ],
      "metadata": {
        "id": "6fv083Eues2j"
      }
    },
    {
      "cell_type": "markdown",
      "source": [
        "## What directions correspond to amplitudes that are real numbers?"
      ],
      "metadata": {
        "id": "-7KjJ-NAq2Vm"
      }
    },
    {
      "cell_type": "code",
      "source": [
        "## The only directions that give purely real amplitudes are those that lie\n",
        "## exactly on the real axis of the complex plane—i.e., phase angles θ = 0 rad\n",
        " ## (pointing right) or θ = π rad (pointing left)."
      ],
      "metadata": {
        "id": "h5IcHNNKq3Hn"
      },
      "execution_count": null,
      "outputs": []
    },
    {
      "cell_type": "markdown",
      "source": [
        "## Write code that verifies that multiplying the 1 side of the following example state by –1 reverses its direction:"
      ],
      "metadata": {
        "id": "jPrhh0rHo-jk"
      }
    },
    {
      "cell_type": "code",
      "execution_count": 14,
      "metadata": {
        "id": "V7lOucOun68K"
      },
      "outputs": [],
      "source": [
        "import math\n",
        "state = [math.sqrt(0.3), -math.sqrt(0.7)]"
      ]
    },
    {
      "cell_type": "code",
      "source": [
        "direction = math.atan2(state[1].imag, state[1].real)\n",
        "\n",
        "direction * (180/math.pi) # original direction"
      ],
      "metadata": {
        "colab": {
          "base_uri": "https://localhost:8080/"
        },
        "id": "JLMa-Xzhn8Rc",
        "outputId": "d99aef44-5e58-455d-9335-820f5995b1c8"
      },
      "execution_count": 17,
      "outputs": [
        {
          "output_type": "execute_result",
          "data": {
            "text/plain": [
              "180.0"
            ]
          },
          "metadata": {},
          "execution_count": 17
        }
      ]
    },
    {
      "cell_type": "code",
      "source": [
        "state = [math.sqrt(0.3), -math.sqrt(0.7)]\n",
        "\n",
        "state[1] = state[1]* -1\n",
        "\n",
        "direction = math.atan2(state[1].imag, state[1].real)\n",
        "\n",
        "direction * (180/math.pi) # reversed direction"
      ],
      "metadata": {
        "colab": {
          "base_uri": "https://localhost:8080/"
        },
        "id": "g6GuakDyoPRi",
        "outputId": "22881c29-df09-4022-920a-d1854c46110c"
      },
      "execution_count": 18,
      "outputs": [
        {
          "output_type": "execute_result",
          "data": {
            "text/plain": [
              "0.0"
            ]
          },
          "metadata": {},
          "execution_count": 18
        }
      ]
    },
    {
      "cell_type": "markdown",
      "source": [
        "## Get the new value of the 1 side of a single-qubit amplitude pair after applying a phase gate:"
      ],
      "metadata": {
        "id": "LvizTRZBPUSp"
      }
    },
    {
      "cell_type": "code",
      "source": [
        "# shortcut func for rotations\n",
        "def cis(theta):\n",
        "  return cos(theta) + 1j*sin(theta)\n",
        "\n",
        "phi = pi/3\n",
        "state = [state[0], cis(phi)*state[1]]\n",
        "\n",
        "state"
      ],
      "metadata": {
        "colab": {
          "base_uri": "https://localhost:8080/"
        },
        "id": "ZovIysQdPWPJ",
        "outputId": "4e7ba45b-6e3e-4e93-b0e0-3e28f5311b6b"
      },
      "execution_count": 32,
      "outputs": [
        {
          "output_type": "execute_result",
          "data": {
            "text/plain": [
              "[(-0.34149942885245477+0.42822673911544473j),\n",
              " (-0.7643269668313427+0.34030029058818j)]"
            ]
          },
          "metadata": {},
          "execution_count": 32
        }
      ]
    },
    {
      "cell_type": "markdown",
      "source": [
        "## HADAMARD GATE - replaces an amplitude pair with their sum and difference divided by the square root of 2,"
      ],
      "metadata": {
        "id": "NdvurTQvPqqm"
      }
    },
    {
      "cell_type": "code",
      "source": [
        "state = [sqrt(0.5)*(state[0] + state[1]), sqrt(0.5)*(state[0] -state[1])]\n",
        "\n",
        "state"
      ],
      "metadata": {
        "colab": {
          "base_uri": "https://localhost:8080/"
        },
        "id": "ROs_GZdoPvBs",
        "outputId": "351f9991-ea44-4f4b-cbe5-6aef1cb3aa12"
      },
      "execution_count": 33,
      "outputs": [
        {
          "output_type": "execute_result",
          "data": {
            "text/plain": [
              "[(-0.7819373432030916+0.5434306742285884j),\n",
              " (0.29898421937728414+0.062173387999278816j)]"
            ]
          },
          "metadata": {},
          "execution_count": 33
        }
      ]
    },
    {
      "cell_type": "markdown",
      "source": [
        "## THE RZ GATE - rotates the 0 side of a pair of amplitudes clockwise by θ/2 and the 1 side of the pair counterclockwise by θ/2."
      ],
      "metadata": {
        "id": "koFSBIe4QfZy"
      }
    },
    {
      "cell_type": "code",
      "source": [
        "theta = pi/3\n",
        "state = [cis(-theta/2)*state[0], cis(theta/2)*state[1]]\n",
        "\n",
        "state"
      ],
      "metadata": {
        "colab": {
          "base_uri": "https://localhost:8080/"
        },
        "id": "SizIEGViQnq1",
        "outputId": "af7beaac-14b3-4eba-a652-f57b442a9c7d"
      },
      "execution_count": 34,
      "outputs": [
        {
          "output_type": "execute_result",
          "data": {
            "text/plain": [
              "[(-0.4054622662672945+0.8615934406792087j),\n",
              " (0.2278412353117483+0.20333584313536407j)]"
            ]
          },
          "metadata": {},
          "execution_count": 34
        }
      ]
    },
    {
      "cell_type": "markdown",
      "source": [
        "## THE Y GATE - Rotate the amplitude on the 0 side counterclockwise by 90° and the amplitude on the 1 side clockwise by 90°; Swap the two amplitudes."
      ],
      "metadata": {
        "id": "mn2lSlgMQyBJ"
      }
    },
    {
      "cell_type": "code",
      "source": [
        "state = [-1j*state[1], 1j*state[0]]\n",
        "\n",
        "state"
      ],
      "metadata": {
        "colab": {
          "base_uri": "https://localhost:8080/"
        },
        "id": "UGciUjMARAqJ",
        "outputId": "d917b5c7-a381-483d-c542-9e9418b81c99"
      },
      "execution_count": 35,
      "outputs": [
        {
          "output_type": "execute_result",
          "data": {
            "text/plain": [
              "[(0.20333584313536407-0.2278412353117483j),\n",
              " (-0.8615934406792087-0.4054622662672945j)]"
            ]
          },
          "metadata": {},
          "execution_count": 35
        }
      ]
    },
    {
      "cell_type": "markdown",
      "source": [
        "## Simulate applying the Hadamard gate to a single-qubit state:"
      ],
      "metadata": {
        "id": "T0fy-TISRPPH"
      }
    },
    {
      "cell_type": "code",
      "source": [
        "(a, b, c, d) = (1/sqrt(2), 1/sqrt(2), 1/sqrt(2), -1/sqrt(2))\n",
        "state = [a*state[0] + b*state[1], c*state[0] + d*state[1]]\n",
        "\n",
        "state"
      ],
      "metadata": {
        "colab": {
          "base_uri": "https://localhost:8080/"
        },
        "id": "2GQ8XWruRQ7m",
        "outputId": "92d1badc-aadd-43fb-d207-418385dce371"
      },
      "execution_count": 36,
      "outputs": [
        {
          "output_type": "execute_result",
          "data": {
            "text/plain": [
              "[(-0.4654584109908178-0.44781320051572654j),\n",
              " (0.7530187180694179+0.12559703547001239j)]"
            ]
          },
          "metadata": {},
          "execution_count": 36
        }
      ]
    },
    {
      "cell_type": "markdown",
      "source": [
        "## Function to create a default single-qubit state"
      ],
      "metadata": {
        "id": "Ki87FqCvT8TM"
      }
    },
    {
      "cell_type": "code",
      "source": [
        "def init_state():\n",
        "  state = [0 for _ in range(2)]\n",
        "  state[0] = 1\n",
        "  return state"
      ],
      "metadata": {
        "id": "twmK_W5HT9Ch"
      },
      "execution_count": 38,
      "outputs": []
    },
    {
      "cell_type": "markdown",
      "source": [
        "## Visualizing a quantum state with a state table"
      ],
      "metadata": {
        "id": "thLk73LHThIK"
      }
    },
    {
      "cell_type": "code",
      "source": [
        "# Creates nested lists with outcome, amplitude, direction, magnitude, and probability\n",
        "def to_table(s, decimals=5):\n",
        "  table = [\n",
        "    [k, s[k], math.atan2(s[k].imag, s[k].real) / (2 * pi) * 360, abs(s[k]),\n",
        "    abs(s[k]) ** 2] for k in range(len(s))]\n",
        "\n",
        "  # Rounds the values (the default number of digits is five)\n",
        "  table_r = [[round(x, decimals) if isinstance(x, float) else round(\n",
        "    x.real) + 1j * round(x.imag, decimals) if isinstance(x,complex) else\n",
        "    x for x in table[k]] for k in range(len(table))]\n",
        "  return table_r\n",
        "\n",
        "# Creates a function that prints the state table for a given state\n",
        "def print_state(state, decimals=5):\n",
        "  print(*to_table(state, decimals),sep='\\n')"
      ],
      "metadata": {
        "id": "nVvyE_YwThsm"
      },
      "execution_count": 40,
      "outputs": []
    },
    {
      "cell_type": "code",
      "source": [
        "# initialize single qubit quantum state\n",
        "state = init_state()\n",
        "print_state(state)"
      ],
      "metadata": {
        "colab": {
          "base_uri": "https://localhost:8080/"
        },
        "id": "3JYx1pjrUCB6",
        "outputId": "fb028b7a-cf1b-43ae-8582-94bbb96bdb37"
      },
      "execution_count": 41,
      "outputs": [
        {
          "output_type": "stream",
          "name": "stdout",
          "text": [
            "[0, 1, 0.0, 1, 1]\n",
            "[1, 0, 0.0, 0, 0]\n"
          ]
        }
      ]
    },
    {
      "cell_type": "code",
      "source": [
        "## encode four values of a gate\n",
        "gate = [[a, b], [c, d]]\n",
        "gate"
      ],
      "metadata": {
        "colab": {
          "base_uri": "https://localhost:8080/"
        },
        "id": "MRZHyfCrUUH1",
        "outputId": "14dfbd98-c431-4a53-d88f-0cbd7c727abf"
      },
      "execution_count": 45,
      "outputs": [
        {
          "output_type": "execute_result",
          "data": {
            "text/plain": [
              "[[0.7071067811865475, 0.7071067811865475],\n",
              " [0.7071067811865475, -0.7071067811865475]]"
            ]
          },
          "metadata": {},
          "execution_count": 45
        }
      ]
    },
    {
      "cell_type": "code",
      "source": [
        "## Code implementations of basic single-qubit gates\n",
        "x = [[0, 1], [1, 0]]\n",
        "z = [[1, 0], [0, -1]]\n",
        "\n",
        "# gate functions\n",
        "\n",
        "def phase(theta):\n",
        "  return [[1, 0], [0, complex(cos(theta), sin(theta))]]\n",
        "\n",
        "h = [[1/sqrt(2), 1/sqrt(2)], [1/sqrt(2), -1/sqrt(2)]]\n",
        "\n",
        "def rz(theta):\n",
        "  return [[complex(cos(theta / 2), -sin(theta / 2)), 0],\n",
        "  [0, complex(cos(theta / 2), sin(theta / 2))]]\n",
        "  y = [[0, complex(0, -1)], [complex(0, 1), 0]]\n",
        "\n",
        "def rx(theta):\n",
        "  return [[cos(theta/2), complex(0, -sin(theta/2))],\n",
        "  [complex(0, -sin(theta/2)), cos(theta/2)]]\n",
        "\n",
        "def ry(theta):\n",
        "  return [[cos(theta/2), -sin(theta/2)], [sin(theta/2), cos(theta/2)]]"
      ],
      "metadata": {
        "id": "uI74uIj0UX8f"
      },
      "execution_count": 43,
      "outputs": []
    },
    {
      "cell_type": "code",
      "source": [
        "# compute the new amplitude for outcome 0\n",
        "print(gate[0][0]*state[0] + gate[0][1]*state[1])\n",
        "\n",
        "# and now for outcome 1\n",
        "print(gate[1][0]*state[0] + gate[1][1]*state[1])"
      ],
      "metadata": {
        "colab": {
          "base_uri": "https://localhost:8080/"
        },
        "id": "YbOEw9x8UvgC",
        "outputId": "49084db7-c1e5-41b6-b360-abb1f92ba1f0"
      },
      "execution_count": 44,
      "outputs": [
        {
          "output_type": "stream",
          "name": "stdout",
          "text": [
            "0.7071067811865475\n",
            "0.7071067811865475\n"
          ]
        }
      ]
    },
    {
      "cell_type": "markdown",
      "source": [
        "## Simulating applying gate transformations to a single-qubit gate"
      ],
      "metadata": {
        "id": "2uWhuTshVe9v"
      }
    },
    {
      "cell_type": "code",
      "source": [
        "def transform(state, gate):\n",
        "  assert(len(state) == 2) # checks state has two values\n",
        "  z0 = state[0]\n",
        "  z1 = state[1]\n",
        "  state[0] = gate[0][0]*z0 + gate[0][1]*z1 # new value of 1st amplitude\n",
        "  state[1] = gate[1][0]*z0 + gate[1][1]*z1 # new value of 2nd amplitude"
      ],
      "metadata": {
        "id": "rBGijuN5Vfzw"
      },
      "execution_count": 47,
      "outputs": []
    },
    {
      "cell_type": "markdown",
      "source": [
        "## Single-qubit circuits"
      ],
      "metadata": {
        "id": "a8O01tLtVsuA"
      }
    },
    {
      "cell_type": "code",
      "source": [
        "s = init_state()\n",
        "\n",
        "transform(s, ry(2*pi/3))\n",
        "transform(s, x)\n",
        "transform(s, phase(pi/3))\n",
        "transform(s, h)\n",
        "\n",
        "print_state(s)"
      ],
      "metadata": {
        "colab": {
          "base_uri": "https://localhost:8080/"
        },
        "id": "E9L-xxYmVtlk",
        "outputId": "50f23b5b-eb05-4df9-acd5-7c878d19267e"
      },
      "execution_count": 49,
      "outputs": [
        {
          "output_type": "stream",
          "name": "stdout",
          "text": [
            "[0, (1+0.30619j), 21.20602, 0.84647, 0.71651]\n",
            "[1, -0.30619j, -35.10391, 0.53244, 0.28349]\n"
          ]
        }
      ]
    },
    {
      "cell_type": "markdown",
      "source": [
        "## Simulating measurement of single-qubit states"
      ],
      "metadata": {
        "id": "yJ4SzSwfWJvg"
      }
    },
    {
      "cell_type": "code",
      "source": [
        "# simulate 10 measurements by getting 10 samples from the\n",
        "# probability distribution determined by the state\n",
        "from random import choices\n",
        "from collections import Counter\n",
        "\n",
        "samples = choices(range(len(s)), [abs(s[k])**2 for k in range(len(s))], k=10)\n",
        "print(samples)\n",
        "\n",
        "# count samples\n",
        "for (k, v) in Counter(samples).items():\n",
        "  print(str(k) + ' -> ' + str(v))"
      ],
      "metadata": {
        "colab": {
          "base_uri": "https://localhost:8080/"
        },
        "id": "e0GXOiQpWKs2",
        "outputId": "0f7654fb-2af9-48f5-cb83-7514384831bc"
      },
      "execution_count": 51,
      "outputs": [
        {
          "output_type": "stream",
          "name": "stdout",
          "text": [
            "[0, 0, 0, 0, 0, 0, 1, 0, 0, 0]\n",
            "0 -> 9\n",
            "1 -> 1\n"
          ]
        }
      ]
    },
    {
      "cell_type": "code",
      "source": [
        "## perform 1_000 samples\n",
        "samples = choices(range(len(s)), [abs(s[k])**2 for k in range(len(s))], k=1000)\n",
        "\n",
        "for (k, v) in Counter(samples).items():\n",
        "  print(str(k) + ' -> ' + str(v))"
      ],
      "metadata": {
        "colab": {
          "base_uri": "https://localhost:8080/"
        },
        "id": "0MiBjk3iW16F",
        "outputId": "4a4b2919-d416-4693-9deb-53d835be80d9"
      },
      "execution_count": 52,
      "outputs": [
        {
          "output_type": "stream",
          "name": "stdout",
          "text": [
            "0 -> 730\n",
            "1 -> 270\n"
          ]
        }
      ]
    },
    {
      "cell_type": "markdown",
      "source": [
        "## Encoding the uniform distribution in a single-qubit quantum state"
      ],
      "metadata": {
        "id": "ePDYXwwmW_s0"
      }
    },
    {
      "cell_type": "code",
      "source": [
        "state = init_state()\n",
        "\n",
        "transform(state, h) # H gate\n",
        "\n",
        "print_state(state) # print state\n",
        "\n",
        "# take 10 samples\n",
        "samples = choices(range(len(state)), [abs(state[k])**2 for k in\n",
        "range(len(state))], k=10)\n",
        "\n",
        "for (k, v) in Counter(samples).items():\n",
        "  print(str(k) + ' -> ' + str(v))"
      ],
      "metadata": {
        "colab": {
          "base_uri": "https://localhost:8080/"
        },
        "id": "iNXRcwdJXAtX",
        "outputId": "0c6f41e7-3205-4f46-b892-bd6c335db899"
      },
      "execution_count": 54,
      "outputs": [
        {
          "output_type": "stream",
          "name": "stdout",
          "text": [
            "[0, 0.70711, 0.0, 0.70711, 0.5]\n",
            "[1, 0.70711, 0.0, 0.70711, 0.5]\n",
            "1 -> 5\n",
            "0 -> 5\n"
          ]
        }
      ]
    },
    {
      "cell_type": "markdown",
      "source": [
        "## Encoding a Bernoulli distribution in a single-qubit quantum state"
      ],
      "metadata": {
        "id": "SZG3aYSYXWL4"
      }
    },
    {
      "cell_type": "code",
      "source": [
        "# simulate encoding the Bernoulli distribution for p = 0.7\n",
        "from math import acos\n",
        "\n",
        "p = 0.7\n",
        "\n",
        "theta = 2*acos(sqrt(p)) # theta according to p\n",
        "\n",
        "s = init_state()\n",
        "\n",
        "transform(s, ry(theta)) # apply Ry gate\n",
        "\n",
        "print_state(s)"
      ],
      "metadata": {
        "colab": {
          "base_uri": "https://localhost:8080/"
        },
        "id": "_aILSQlUXXCb",
        "outputId": "cc095f0a-a464-48f1-947e-9fb7702577aa"
      },
      "execution_count": 55,
      "outputs": [
        {
          "output_type": "stream",
          "name": "stdout",
          "text": [
            "[0, 0.83666, 0.0, 0.83666, 0.7]\n",
            "[1, 0.54772, 0.0, 0.54772, 0.3]\n"
          ]
        }
      ]
    },
    {
      "cell_type": "markdown",
      "source": [
        "## Encoding a number with a single qubit"
      ],
      "metadata": {
        "id": "Bf7UbH7BXx_Z"
      }
    },
    {
      "cell_type": "code",
      "source": [
        "# create a single-qubit state and encodes the value x = 273.5 in\n",
        "# the magnitude of the amplitude corresponding to outcome 0\n",
        "x = 273.5\n",
        "\n",
        "theta = 2*acos(x/1000) # find theta according to x value\n",
        "\n",
        "state = init_state()\n",
        "\n",
        "transform(state, ry(theta)) # apply Ry gate\n",
        "\n",
        "print_state(state)"
      ],
      "metadata": {
        "colab": {
          "base_uri": "https://localhost:8080/"
        },
        "id": "UcASya8kX0fs",
        "outputId": "423c69ed-4a21-40d6-ee85-9bde57481c97"
      },
      "execution_count": 57,
      "outputs": [
        {
          "output_type": "stream",
          "name": "stdout",
          "text": [
            "[0, 0.2735, 0.0, 0.2735, 0.0748]\n",
            "[1, 0.96187, 0.0, 0.96187, 0.9252]\n"
          ]
        }
      ]
    },
    {
      "cell_type": "markdown",
      "source": [
        "## Brief aside: fixing to_table()\n",
        "\n",
        "- Missing basis label\n",
        "- Real part of complex number missing"
      ],
      "metadata": {
        "id": "HLO_YqcDdiDD"
      }
    },
    {
      "cell_type": "code",
      "source": [
        "def to_table(s, decimals=5):\n",
        "    # Build table: [index, label, amplitude, phase°, |amp|, |amp|²]\n",
        "    table = [\n",
        "        [k,\n",
        "         str(k),                               # basis-label column\n",
        "         s[k],\n",
        "         math.atan2(s[k].imag, s[k].real) / (2*pi) * 360,\n",
        "         abs(s[k]),\n",
        "         abs(s[k])**2]\n",
        "        for k in range(len(s))\n",
        "    ]\n",
        "\n",
        "    # Round everything nicely\n",
        "    table_r = []\n",
        "    for row in table:\n",
        "        rounded_row = []\n",
        "        for x in row:\n",
        "            if isinstance(x, float):\n",
        "                rounded_row.append(round(x, decimals))\n",
        "            elif isinstance(x, complex):\n",
        "                rounded_row.append(\n",
        "                    complex(round(x.real, decimals), round(x.imag, decimals))\n",
        "                )\n",
        "            else:                               # int / str stay unchanged\n",
        "                rounded_row.append(x)\n",
        "        table_r.append(rounded_row)\n",
        "    return table_r"
      ],
      "metadata": {
        "id": "6smPfp7odkWL"
      },
      "execution_count": 59,
      "outputs": []
    },
    {
      "cell_type": "markdown",
      "source": [
        "## ENCODING A NUMBER IN THE ANGLE OF AN AMPLITUDE"
      ],
      "metadata": {
        "id": "FenttQ-7ZHxO"
      }
    },
    {
      "cell_type": "code",
      "source": [
        "# encode the value x = 273.5 in the phase of the amplitude corresponding\n",
        "# to outcome 1, we will use v = x/1000. We can use the Hadamard gate followed by a\n",
        "# phase gate with the angle π v: P(π x/1000)H."
      ],
      "metadata": {
        "id": "5FByowIOZIZc"
      },
      "execution_count": null,
      "outputs": []
    },
    {
      "cell_type": "code",
      "source": [
        "x = 273.5 # desired encoded value\n",
        "\n",
        "theta = pi*x/1000 # get theta for x val\n",
        "\n",
        "state = init_state()\n",
        "\n",
        "transform(state, h) # Apply H gate\n",
        "transform(state, phase(theta)) # apply phase gate\n",
        "\n",
        "print_state(state)"
      ],
      "metadata": {
        "colab": {
          "base_uri": "https://localhost:8080/"
        },
        "id": "3bWUlNqncr39",
        "outputId": "3d7e09e3-f63d-44bb-83a7-8f6b6ebfe1a1"
      },
      "execution_count": 60,
      "outputs": [
        {
          "output_type": "stream",
          "name": "stdout",
          "text": [
            "[0, '0', 0.70711, 0.0, 0.70711, 0.5]\n",
            "[1, '1', (0.46176+0.53552j), 49.23, 0.70711, 0.5]\n"
          ]
        }
      ]
    },
    {
      "cell_type": "code",
      "source": [
        "# check that theta_1 holds encoded value\n",
        "direction_1 = math.atan2(state[1].imag, state[1].real) # gets theta_1\n",
        "\n",
        "round(direction_1/pi*1000, 1) # solves for x"
      ],
      "metadata": {
        "colab": {
          "base_uri": "https://localhost:8080/"
        },
        "id": "hgvNJljpeCQK",
        "outputId": "9bb8c31e-8505-4176-eb4d-23285ed727d0"
      },
      "execution_count": 64,
      "outputs": [
        {
          "output_type": "execute_result",
          "data": {
            "text/plain": [
              "273.5"
            ]
          },
          "metadata": {},
          "execution_count": 64
        }
      ]
    }
  ]
}